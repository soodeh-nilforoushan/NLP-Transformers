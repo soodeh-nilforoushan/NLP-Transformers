{
  "nbformat": 4,
  "nbformat_minor": 0,
  "metadata": {
    "colab": {
      "provenance": [],
      "authorship_tag": "ABX9TyNjCpe077pVcrDwK3oDOpQV",
      "include_colab_link": true
    },
    "kernelspec": {
      "name": "python3",
      "display_name": "Python 3"
    },
    "language_info": {
      "name": "python"
    },
    "widgets": {
      "application/vnd.jupyter.widget-state+json": {
        "f1272ba603ec4589b19af7393ecd05c8": {
          "model_module": "@jupyter-widgets/controls",
          "model_name": "HBoxModel",
          "model_module_version": "1.5.0",
          "state": {
            "_dom_classes": [],
            "_model_module": "@jupyter-widgets/controls",
            "_model_module_version": "1.5.0",
            "_model_name": "HBoxModel",
            "_view_count": null,
            "_view_module": "@jupyter-widgets/controls",
            "_view_module_version": "1.5.0",
            "_view_name": "HBoxView",
            "box_style": "",
            "children": [
              "IPY_MODEL_04e5027da23442409b8258bae3a1df57",
              "IPY_MODEL_09072970c8e844069dea425b7d73ecfd",
              "IPY_MODEL_37d8a2e691ce441496c4834e1ca09f3b"
            ],
            "layout": "IPY_MODEL_fe40456c30ea47a0a769d27524022e6b"
          }
        },
        "04e5027da23442409b8258bae3a1df57": {
          "model_module": "@jupyter-widgets/controls",
          "model_name": "HTMLModel",
          "model_module_version": "1.5.0",
          "state": {
            "_dom_classes": [],
            "_model_module": "@jupyter-widgets/controls",
            "_model_module_version": "1.5.0",
            "_model_name": "HTMLModel",
            "_view_count": null,
            "_view_module": "@jupyter-widgets/controls",
            "_view_module_version": "1.5.0",
            "_view_name": "HTMLView",
            "description": "",
            "description_tooltip": null,
            "layout": "IPY_MODEL_21dcc494abe04498b6417901f2326af0",
            "placeholder": "​",
            "style": "IPY_MODEL_3a22ca8eb30b4077a5a6d0aed33cae3a",
            "value": "Downloading builder script: 100%"
          }
        },
        "09072970c8e844069dea425b7d73ecfd": {
          "model_module": "@jupyter-widgets/controls",
          "model_name": "FloatProgressModel",
          "model_module_version": "1.5.0",
          "state": {
            "_dom_classes": [],
            "_model_module": "@jupyter-widgets/controls",
            "_model_module_version": "1.5.0",
            "_model_name": "FloatProgressModel",
            "_view_count": null,
            "_view_module": "@jupyter-widgets/controls",
            "_view_module_version": "1.5.0",
            "_view_name": "ProgressView",
            "bar_style": "success",
            "description": "",
            "description_tooltip": null,
            "layout": "IPY_MODEL_5ea7006185504abba5e0b46bd5842fef",
            "max": 9570,
            "min": 0,
            "orientation": "horizontal",
            "style": "IPY_MODEL_ee330c80a40349eea0ca3d4bbbf5602d",
            "value": 9570
          }
        },
        "37d8a2e691ce441496c4834e1ca09f3b": {
          "model_module": "@jupyter-widgets/controls",
          "model_name": "HTMLModel",
          "model_module_version": "1.5.0",
          "state": {
            "_dom_classes": [],
            "_model_module": "@jupyter-widgets/controls",
            "_model_module_version": "1.5.0",
            "_model_name": "HTMLModel",
            "_view_count": null,
            "_view_module": "@jupyter-widgets/controls",
            "_view_module_version": "1.5.0",
            "_view_name": "HTMLView",
            "description": "",
            "description_tooltip": null,
            "layout": "IPY_MODEL_ef8e2a0a1d1f447cab25c63b612203a1",
            "placeholder": "​",
            "style": "IPY_MODEL_7fab5dcb95a0459c935bdd051b3c5639",
            "value": " 9.57k/9.57k [00:00&lt;00:00, 309kB/s]"
          }
        },
        "fe40456c30ea47a0a769d27524022e6b": {
          "model_module": "@jupyter-widgets/base",
          "model_name": "LayoutModel",
          "model_module_version": "1.2.0",
          "state": {
            "_model_module": "@jupyter-widgets/base",
            "_model_module_version": "1.2.0",
            "_model_name": "LayoutModel",
            "_view_count": null,
            "_view_module": "@jupyter-widgets/base",
            "_view_module_version": "1.2.0",
            "_view_name": "LayoutView",
            "align_content": null,
            "align_items": null,
            "align_self": null,
            "border": null,
            "bottom": null,
            "display": null,
            "flex": null,
            "flex_flow": null,
            "grid_area": null,
            "grid_auto_columns": null,
            "grid_auto_flow": null,
            "grid_auto_rows": null,
            "grid_column": null,
            "grid_gap": null,
            "grid_row": null,
            "grid_template_areas": null,
            "grid_template_columns": null,
            "grid_template_rows": null,
            "height": null,
            "justify_content": null,
            "justify_items": null,
            "left": null,
            "margin": null,
            "max_height": null,
            "max_width": null,
            "min_height": null,
            "min_width": null,
            "object_fit": null,
            "object_position": null,
            "order": null,
            "overflow": null,
            "overflow_x": null,
            "overflow_y": null,
            "padding": null,
            "right": null,
            "top": null,
            "visibility": null,
            "width": null
          }
        },
        "21dcc494abe04498b6417901f2326af0": {
          "model_module": "@jupyter-widgets/base",
          "model_name": "LayoutModel",
          "model_module_version": "1.2.0",
          "state": {
            "_model_module": "@jupyter-widgets/base",
            "_model_module_version": "1.2.0",
            "_model_name": "LayoutModel",
            "_view_count": null,
            "_view_module": "@jupyter-widgets/base",
            "_view_module_version": "1.2.0",
            "_view_name": "LayoutView",
            "align_content": null,
            "align_items": null,
            "align_self": null,
            "border": null,
            "bottom": null,
            "display": null,
            "flex": null,
            "flex_flow": null,
            "grid_area": null,
            "grid_auto_columns": null,
            "grid_auto_flow": null,
            "grid_auto_rows": null,
            "grid_column": null,
            "grid_gap": null,
            "grid_row": null,
            "grid_template_areas": null,
            "grid_template_columns": null,
            "grid_template_rows": null,
            "height": null,
            "justify_content": null,
            "justify_items": null,
            "left": null,
            "margin": null,
            "max_height": null,
            "max_width": null,
            "min_height": null,
            "min_width": null,
            "object_fit": null,
            "object_position": null,
            "order": null,
            "overflow": null,
            "overflow_x": null,
            "overflow_y": null,
            "padding": null,
            "right": null,
            "top": null,
            "visibility": null,
            "width": null
          }
        },
        "3a22ca8eb30b4077a5a6d0aed33cae3a": {
          "model_module": "@jupyter-widgets/controls",
          "model_name": "DescriptionStyleModel",
          "model_module_version": "1.5.0",
          "state": {
            "_model_module": "@jupyter-widgets/controls",
            "_model_module_version": "1.5.0",
            "_model_name": "DescriptionStyleModel",
            "_view_count": null,
            "_view_module": "@jupyter-widgets/base",
            "_view_module_version": "1.2.0",
            "_view_name": "StyleView",
            "description_width": ""
          }
        },
        "5ea7006185504abba5e0b46bd5842fef": {
          "model_module": "@jupyter-widgets/base",
          "model_name": "LayoutModel",
          "model_module_version": "1.2.0",
          "state": {
            "_model_module": "@jupyter-widgets/base",
            "_model_module_version": "1.2.0",
            "_model_name": "LayoutModel",
            "_view_count": null,
            "_view_module": "@jupyter-widgets/base",
            "_view_module_version": "1.2.0",
            "_view_name": "LayoutView",
            "align_content": null,
            "align_items": null,
            "align_self": null,
            "border": null,
            "bottom": null,
            "display": null,
            "flex": null,
            "flex_flow": null,
            "grid_area": null,
            "grid_auto_columns": null,
            "grid_auto_flow": null,
            "grid_auto_rows": null,
            "grid_column": null,
            "grid_gap": null,
            "grid_row": null,
            "grid_template_areas": null,
            "grid_template_columns": null,
            "grid_template_rows": null,
            "height": null,
            "justify_content": null,
            "justify_items": null,
            "left": null,
            "margin": null,
            "max_height": null,
            "max_width": null,
            "min_height": null,
            "min_width": null,
            "object_fit": null,
            "object_position": null,
            "order": null,
            "overflow": null,
            "overflow_x": null,
            "overflow_y": null,
            "padding": null,
            "right": null,
            "top": null,
            "visibility": null,
            "width": null
          }
        },
        "ee330c80a40349eea0ca3d4bbbf5602d": {
          "model_module": "@jupyter-widgets/controls",
          "model_name": "ProgressStyleModel",
          "model_module_version": "1.5.0",
          "state": {
            "_model_module": "@jupyter-widgets/controls",
            "_model_module_version": "1.5.0",
            "_model_name": "ProgressStyleModel",
            "_view_count": null,
            "_view_module": "@jupyter-widgets/base",
            "_view_module_version": "1.2.0",
            "_view_name": "StyleView",
            "bar_color": null,
            "description_width": ""
          }
        },
        "ef8e2a0a1d1f447cab25c63b612203a1": {
          "model_module": "@jupyter-widgets/base",
          "model_name": "LayoutModel",
          "model_module_version": "1.2.0",
          "state": {
            "_model_module": "@jupyter-widgets/base",
            "_model_module_version": "1.2.0",
            "_model_name": "LayoutModel",
            "_view_count": null,
            "_view_module": "@jupyter-widgets/base",
            "_view_module_version": "1.2.0",
            "_view_name": "LayoutView",
            "align_content": null,
            "align_items": null,
            "align_self": null,
            "border": null,
            "bottom": null,
            "display": null,
            "flex": null,
            "flex_flow": null,
            "grid_area": null,
            "grid_auto_columns": null,
            "grid_auto_flow": null,
            "grid_auto_rows": null,
            "grid_column": null,
            "grid_gap": null,
            "grid_row": null,
            "grid_template_areas": null,
            "grid_template_columns": null,
            "grid_template_rows": null,
            "height": null,
            "justify_content": null,
            "justify_items": null,
            "left": null,
            "margin": null,
            "max_height": null,
            "max_width": null,
            "min_height": null,
            "min_width": null,
            "object_fit": null,
            "object_position": null,
            "order": null,
            "overflow": null,
            "overflow_x": null,
            "overflow_y": null,
            "padding": null,
            "right": null,
            "top": null,
            "visibility": null,
            "width": null
          }
        },
        "7fab5dcb95a0459c935bdd051b3c5639": {
          "model_module": "@jupyter-widgets/controls",
          "model_name": "DescriptionStyleModel",
          "model_module_version": "1.5.0",
          "state": {
            "_model_module": "@jupyter-widgets/controls",
            "_model_module_version": "1.5.0",
            "_model_name": "DescriptionStyleModel",
            "_view_count": null,
            "_view_module": "@jupyter-widgets/base",
            "_view_module_version": "1.2.0",
            "_view_name": "StyleView",
            "description_width": ""
          }
        },
        "6fe1c4628a11410c80c38432c859a470": {
          "model_module": "@jupyter-widgets/controls",
          "model_name": "HBoxModel",
          "model_module_version": "1.5.0",
          "state": {
            "_dom_classes": [],
            "_model_module": "@jupyter-widgets/controls",
            "_model_module_version": "1.5.0",
            "_model_name": "HBoxModel",
            "_view_count": null,
            "_view_module": "@jupyter-widgets/controls",
            "_view_module_version": "1.5.0",
            "_view_name": "HBoxView",
            "box_style": "",
            "children": [
              "IPY_MODEL_75cb827dd1994c5eb140d8a5b12859b2",
              "IPY_MODEL_85a9b2dfe8584bb6aff65eee07093bed",
              "IPY_MODEL_6bfaa6fd91f548e69644cdfbbc520a42"
            ],
            "layout": "IPY_MODEL_18fd12e8cb754dbd85c83acf60b65eb2"
          }
        },
        "75cb827dd1994c5eb140d8a5b12859b2": {
          "model_module": "@jupyter-widgets/controls",
          "model_name": "HTMLModel",
          "model_module_version": "1.5.0",
          "state": {
            "_dom_classes": [],
            "_model_module": "@jupyter-widgets/controls",
            "_model_module_version": "1.5.0",
            "_model_name": "HTMLModel",
            "_view_count": null,
            "_view_module": "@jupyter-widgets/controls",
            "_view_module_version": "1.5.0",
            "_view_name": "HTMLView",
            "description": "",
            "description_tooltip": null,
            "layout": "IPY_MODEL_c360916de9874891b9aa8e1f96c84192",
            "placeholder": "​",
            "style": "IPY_MODEL_29f90f1e69344796b43cfa0593bb2184",
            "value": "Downloading metadata: 100%"
          }
        },
        "85a9b2dfe8584bb6aff65eee07093bed": {
          "model_module": "@jupyter-widgets/controls",
          "model_name": "FloatProgressModel",
          "model_module_version": "1.5.0",
          "state": {
            "_dom_classes": [],
            "_model_module": "@jupyter-widgets/controls",
            "_model_module_version": "1.5.0",
            "_model_name": "FloatProgressModel",
            "_view_count": null,
            "_view_module": "@jupyter-widgets/controls",
            "_view_module_version": "1.5.0",
            "_view_name": "ProgressView",
            "bar_style": "success",
            "description": "",
            "description_tooltip": null,
            "layout": "IPY_MODEL_4303107905f3473c9ff0ebb909b8b1cb",
            "max": 3735,
            "min": 0,
            "orientation": "horizontal",
            "style": "IPY_MODEL_969b87cf0cc54c5894bd75c88199492f",
            "value": 3735
          }
        },
        "6bfaa6fd91f548e69644cdfbbc520a42": {
          "model_module": "@jupyter-widgets/controls",
          "model_name": "HTMLModel",
          "model_module_version": "1.5.0",
          "state": {
            "_dom_classes": [],
            "_model_module": "@jupyter-widgets/controls",
            "_model_module_version": "1.5.0",
            "_model_name": "HTMLModel",
            "_view_count": null,
            "_view_module": "@jupyter-widgets/controls",
            "_view_module_version": "1.5.0",
            "_view_name": "HTMLView",
            "description": "",
            "description_tooltip": null,
            "layout": "IPY_MODEL_cb464add52e64c249411185858f09c30",
            "placeholder": "​",
            "style": "IPY_MODEL_dc1b4897211b4eb49b351369f2b240af",
            "value": " 3.73k/3.73k [00:00&lt;00:00, 103kB/s]"
          }
        },
        "18fd12e8cb754dbd85c83acf60b65eb2": {
          "model_module": "@jupyter-widgets/base",
          "model_name": "LayoutModel",
          "model_module_version": "1.2.0",
          "state": {
            "_model_module": "@jupyter-widgets/base",
            "_model_module_version": "1.2.0",
            "_model_name": "LayoutModel",
            "_view_count": null,
            "_view_module": "@jupyter-widgets/base",
            "_view_module_version": "1.2.0",
            "_view_name": "LayoutView",
            "align_content": null,
            "align_items": null,
            "align_self": null,
            "border": null,
            "bottom": null,
            "display": null,
            "flex": null,
            "flex_flow": null,
            "grid_area": null,
            "grid_auto_columns": null,
            "grid_auto_flow": null,
            "grid_auto_rows": null,
            "grid_column": null,
            "grid_gap": null,
            "grid_row": null,
            "grid_template_areas": null,
            "grid_template_columns": null,
            "grid_template_rows": null,
            "height": null,
            "justify_content": null,
            "justify_items": null,
            "left": null,
            "margin": null,
            "max_height": null,
            "max_width": null,
            "min_height": null,
            "min_width": null,
            "object_fit": null,
            "object_position": null,
            "order": null,
            "overflow": null,
            "overflow_x": null,
            "overflow_y": null,
            "padding": null,
            "right": null,
            "top": null,
            "visibility": null,
            "width": null
          }
        },
        "c360916de9874891b9aa8e1f96c84192": {
          "model_module": "@jupyter-widgets/base",
          "model_name": "LayoutModel",
          "model_module_version": "1.2.0",
          "state": {
            "_model_module": "@jupyter-widgets/base",
            "_model_module_version": "1.2.0",
            "_model_name": "LayoutModel",
            "_view_count": null,
            "_view_module": "@jupyter-widgets/base",
            "_view_module_version": "1.2.0",
            "_view_name": "LayoutView",
            "align_content": null,
            "align_items": null,
            "align_self": null,
            "border": null,
            "bottom": null,
            "display": null,
            "flex": null,
            "flex_flow": null,
            "grid_area": null,
            "grid_auto_columns": null,
            "grid_auto_flow": null,
            "grid_auto_rows": null,
            "grid_column": null,
            "grid_gap": null,
            "grid_row": null,
            "grid_template_areas": null,
            "grid_template_columns": null,
            "grid_template_rows": null,
            "height": null,
            "justify_content": null,
            "justify_items": null,
            "left": null,
            "margin": null,
            "max_height": null,
            "max_width": null,
            "min_height": null,
            "min_width": null,
            "object_fit": null,
            "object_position": null,
            "order": null,
            "overflow": null,
            "overflow_x": null,
            "overflow_y": null,
            "padding": null,
            "right": null,
            "top": null,
            "visibility": null,
            "width": null
          }
        },
        "29f90f1e69344796b43cfa0593bb2184": {
          "model_module": "@jupyter-widgets/controls",
          "model_name": "DescriptionStyleModel",
          "model_module_version": "1.5.0",
          "state": {
            "_model_module": "@jupyter-widgets/controls",
            "_model_module_version": "1.5.0",
            "_model_name": "DescriptionStyleModel",
            "_view_count": null,
            "_view_module": "@jupyter-widgets/base",
            "_view_module_version": "1.2.0",
            "_view_name": "StyleView",
            "description_width": ""
          }
        },
        "4303107905f3473c9ff0ebb909b8b1cb": {
          "model_module": "@jupyter-widgets/base",
          "model_name": "LayoutModel",
          "model_module_version": "1.2.0",
          "state": {
            "_model_module": "@jupyter-widgets/base",
            "_model_module_version": "1.2.0",
            "_model_name": "LayoutModel",
            "_view_count": null,
            "_view_module": "@jupyter-widgets/base",
            "_view_module_version": "1.2.0",
            "_view_name": "LayoutView",
            "align_content": null,
            "align_items": null,
            "align_self": null,
            "border": null,
            "bottom": null,
            "display": null,
            "flex": null,
            "flex_flow": null,
            "grid_area": null,
            "grid_auto_columns": null,
            "grid_auto_flow": null,
            "grid_auto_rows": null,
            "grid_column": null,
            "grid_gap": null,
            "grid_row": null,
            "grid_template_areas": null,
            "grid_template_columns": null,
            "grid_template_rows": null,
            "height": null,
            "justify_content": null,
            "justify_items": null,
            "left": null,
            "margin": null,
            "max_height": null,
            "max_width": null,
            "min_height": null,
            "min_width": null,
            "object_fit": null,
            "object_position": null,
            "order": null,
            "overflow": null,
            "overflow_x": null,
            "overflow_y": null,
            "padding": null,
            "right": null,
            "top": null,
            "visibility": null,
            "width": null
          }
        },
        "969b87cf0cc54c5894bd75c88199492f": {
          "model_module": "@jupyter-widgets/controls",
          "model_name": "ProgressStyleModel",
          "model_module_version": "1.5.0",
          "state": {
            "_model_module": "@jupyter-widgets/controls",
            "_model_module_version": "1.5.0",
            "_model_name": "ProgressStyleModel",
            "_view_count": null,
            "_view_module": "@jupyter-widgets/base",
            "_view_module_version": "1.2.0",
            "_view_name": "StyleView",
            "bar_color": null,
            "description_width": ""
          }
        },
        "cb464add52e64c249411185858f09c30": {
          "model_module": "@jupyter-widgets/base",
          "model_name": "LayoutModel",
          "model_module_version": "1.2.0",
          "state": {
            "_model_module": "@jupyter-widgets/base",
            "_model_module_version": "1.2.0",
            "_model_name": "LayoutModel",
            "_view_count": null,
            "_view_module": "@jupyter-widgets/base",
            "_view_module_version": "1.2.0",
            "_view_name": "LayoutView",
            "align_content": null,
            "align_items": null,
            "align_self": null,
            "border": null,
            "bottom": null,
            "display": null,
            "flex": null,
            "flex_flow": null,
            "grid_area": null,
            "grid_auto_columns": null,
            "grid_auto_flow": null,
            "grid_auto_rows": null,
            "grid_column": null,
            "grid_gap": null,
            "grid_row": null,
            "grid_template_areas": null,
            "grid_template_columns": null,
            "grid_template_rows": null,
            "height": null,
            "justify_content": null,
            "justify_items": null,
            "left": null,
            "margin": null,
            "max_height": null,
            "max_width": null,
            "min_height": null,
            "min_width": null,
            "object_fit": null,
            "object_position": null,
            "order": null,
            "overflow": null,
            "overflow_x": null,
            "overflow_y": null,
            "padding": null,
            "right": null,
            "top": null,
            "visibility": null,
            "width": null
          }
        },
        "dc1b4897211b4eb49b351369f2b240af": {
          "model_module": "@jupyter-widgets/controls",
          "model_name": "DescriptionStyleModel",
          "model_module_version": "1.5.0",
          "state": {
            "_model_module": "@jupyter-widgets/controls",
            "_model_module_version": "1.5.0",
            "_model_name": "DescriptionStyleModel",
            "_view_count": null,
            "_view_module": "@jupyter-widgets/base",
            "_view_module_version": "1.2.0",
            "_view_name": "StyleView",
            "description_width": ""
          }
        },
        "d0e4fdb0908d43baa8fb9cf8af5f12cd": {
          "model_module": "@jupyter-widgets/controls",
          "model_name": "HBoxModel",
          "model_module_version": "1.5.0",
          "state": {
            "_dom_classes": [],
            "_model_module": "@jupyter-widgets/controls",
            "_model_module_version": "1.5.0",
            "_model_name": "HBoxModel",
            "_view_count": null,
            "_view_module": "@jupyter-widgets/controls",
            "_view_module_version": "1.5.0",
            "_view_name": "HBoxView",
            "box_style": "",
            "children": [
              "IPY_MODEL_0fbbd938529c41fdb7667a5126f664ee",
              "IPY_MODEL_0affbd4a29da4ac9aafd0df35071c520",
              "IPY_MODEL_9a826c1588244a72a2daeaf68443fe77"
            ],
            "layout": "IPY_MODEL_9cdeb1884e97486094cb7ba5b76f4a96"
          }
        },
        "0fbbd938529c41fdb7667a5126f664ee": {
          "model_module": "@jupyter-widgets/controls",
          "model_name": "HTMLModel",
          "model_module_version": "1.5.0",
          "state": {
            "_dom_classes": [],
            "_model_module": "@jupyter-widgets/controls",
            "_model_module_version": "1.5.0",
            "_model_name": "HTMLModel",
            "_view_count": null,
            "_view_module": "@jupyter-widgets/controls",
            "_view_module_version": "1.5.0",
            "_view_name": "HTMLView",
            "description": "",
            "description_tooltip": null,
            "layout": "IPY_MODEL_0c5eaa6c080b4552ad4fe8721a0f100e",
            "placeholder": "​",
            "style": "IPY_MODEL_89aa53c85fb64dbaa6f56653967f651a",
            "value": "Downloading readme: 100%"
          }
        },
        "0affbd4a29da4ac9aafd0df35071c520": {
          "model_module": "@jupyter-widgets/controls",
          "model_name": "FloatProgressModel",
          "model_module_version": "1.5.0",
          "state": {
            "_dom_classes": [],
            "_model_module": "@jupyter-widgets/controls",
            "_model_module_version": "1.5.0",
            "_model_name": "FloatProgressModel",
            "_view_count": null,
            "_view_module": "@jupyter-widgets/controls",
            "_view_module_version": "1.5.0",
            "_view_name": "ProgressView",
            "bar_style": "success",
            "description": "",
            "description_tooltip": null,
            "layout": "IPY_MODEL_537628a849e5409a8c4efb9986c4eb51",
            "max": 12330,
            "min": 0,
            "orientation": "horizontal",
            "style": "IPY_MODEL_a3b999aa5e5f4d9191adb942a77a691b",
            "value": 12330
          }
        },
        "9a826c1588244a72a2daeaf68443fe77": {
          "model_module": "@jupyter-widgets/controls",
          "model_name": "HTMLModel",
          "model_module_version": "1.5.0",
          "state": {
            "_dom_classes": [],
            "_model_module": "@jupyter-widgets/controls",
            "_model_module_version": "1.5.0",
            "_model_name": "HTMLModel",
            "_view_count": null,
            "_view_module": "@jupyter-widgets/controls",
            "_view_module_version": "1.5.0",
            "_view_name": "HTMLView",
            "description": "",
            "description_tooltip": null,
            "layout": "IPY_MODEL_8d2f99fe31454e3fb27127a60b89c60b",
            "placeholder": "​",
            "style": "IPY_MODEL_70c51b64faeb4950b63133e2e10bc28a",
            "value": " 12.3k/12.3k [00:00&lt;00:00, 449kB/s]"
          }
        },
        "9cdeb1884e97486094cb7ba5b76f4a96": {
          "model_module": "@jupyter-widgets/base",
          "model_name": "LayoutModel",
          "model_module_version": "1.2.0",
          "state": {
            "_model_module": "@jupyter-widgets/base",
            "_model_module_version": "1.2.0",
            "_model_name": "LayoutModel",
            "_view_count": null,
            "_view_module": "@jupyter-widgets/base",
            "_view_module_version": "1.2.0",
            "_view_name": "LayoutView",
            "align_content": null,
            "align_items": null,
            "align_self": null,
            "border": null,
            "bottom": null,
            "display": null,
            "flex": null,
            "flex_flow": null,
            "grid_area": null,
            "grid_auto_columns": null,
            "grid_auto_flow": null,
            "grid_auto_rows": null,
            "grid_column": null,
            "grid_gap": null,
            "grid_row": null,
            "grid_template_areas": null,
            "grid_template_columns": null,
            "grid_template_rows": null,
            "height": null,
            "justify_content": null,
            "justify_items": null,
            "left": null,
            "margin": null,
            "max_height": null,
            "max_width": null,
            "min_height": null,
            "min_width": null,
            "object_fit": null,
            "object_position": null,
            "order": null,
            "overflow": null,
            "overflow_x": null,
            "overflow_y": null,
            "padding": null,
            "right": null,
            "top": null,
            "visibility": null,
            "width": null
          }
        },
        "0c5eaa6c080b4552ad4fe8721a0f100e": {
          "model_module": "@jupyter-widgets/base",
          "model_name": "LayoutModel",
          "model_module_version": "1.2.0",
          "state": {
            "_model_module": "@jupyter-widgets/base",
            "_model_module_version": "1.2.0",
            "_model_name": "LayoutModel",
            "_view_count": null,
            "_view_module": "@jupyter-widgets/base",
            "_view_module_version": "1.2.0",
            "_view_name": "LayoutView",
            "align_content": null,
            "align_items": null,
            "align_self": null,
            "border": null,
            "bottom": null,
            "display": null,
            "flex": null,
            "flex_flow": null,
            "grid_area": null,
            "grid_auto_columns": null,
            "grid_auto_flow": null,
            "grid_auto_rows": null,
            "grid_column": null,
            "grid_gap": null,
            "grid_row": null,
            "grid_template_areas": null,
            "grid_template_columns": null,
            "grid_template_rows": null,
            "height": null,
            "justify_content": null,
            "justify_items": null,
            "left": null,
            "margin": null,
            "max_height": null,
            "max_width": null,
            "min_height": null,
            "min_width": null,
            "object_fit": null,
            "object_position": null,
            "order": null,
            "overflow": null,
            "overflow_x": null,
            "overflow_y": null,
            "padding": null,
            "right": null,
            "top": null,
            "visibility": null,
            "width": null
          }
        },
        "89aa53c85fb64dbaa6f56653967f651a": {
          "model_module": "@jupyter-widgets/controls",
          "model_name": "DescriptionStyleModel",
          "model_module_version": "1.5.0",
          "state": {
            "_model_module": "@jupyter-widgets/controls",
            "_model_module_version": "1.5.0",
            "_model_name": "DescriptionStyleModel",
            "_view_count": null,
            "_view_module": "@jupyter-widgets/base",
            "_view_module_version": "1.2.0",
            "_view_name": "StyleView",
            "description_width": ""
          }
        },
        "537628a849e5409a8c4efb9986c4eb51": {
          "model_module": "@jupyter-widgets/base",
          "model_name": "LayoutModel",
          "model_module_version": "1.2.0",
          "state": {
            "_model_module": "@jupyter-widgets/base",
            "_model_module_version": "1.2.0",
            "_model_name": "LayoutModel",
            "_view_count": null,
            "_view_module": "@jupyter-widgets/base",
            "_view_module_version": "1.2.0",
            "_view_name": "LayoutView",
            "align_content": null,
            "align_items": null,
            "align_self": null,
            "border": null,
            "bottom": null,
            "display": null,
            "flex": null,
            "flex_flow": null,
            "grid_area": null,
            "grid_auto_columns": null,
            "grid_auto_flow": null,
            "grid_auto_rows": null,
            "grid_column": null,
            "grid_gap": null,
            "grid_row": null,
            "grid_template_areas": null,
            "grid_template_columns": null,
            "grid_template_rows": null,
            "height": null,
            "justify_content": null,
            "justify_items": null,
            "left": null,
            "margin": null,
            "max_height": null,
            "max_width": null,
            "min_height": null,
            "min_width": null,
            "object_fit": null,
            "object_position": null,
            "order": null,
            "overflow": null,
            "overflow_x": null,
            "overflow_y": null,
            "padding": null,
            "right": null,
            "top": null,
            "visibility": null,
            "width": null
          }
        },
        "a3b999aa5e5f4d9191adb942a77a691b": {
          "model_module": "@jupyter-widgets/controls",
          "model_name": "ProgressStyleModel",
          "model_module_version": "1.5.0",
          "state": {
            "_model_module": "@jupyter-widgets/controls",
            "_model_module_version": "1.5.0",
            "_model_name": "ProgressStyleModel",
            "_view_count": null,
            "_view_module": "@jupyter-widgets/base",
            "_view_module_version": "1.2.0",
            "_view_name": "StyleView",
            "bar_color": null,
            "description_width": ""
          }
        },
        "8d2f99fe31454e3fb27127a60b89c60b": {
          "model_module": "@jupyter-widgets/base",
          "model_name": "LayoutModel",
          "model_module_version": "1.2.0",
          "state": {
            "_model_module": "@jupyter-widgets/base",
            "_model_module_version": "1.2.0",
            "_model_name": "LayoutModel",
            "_view_count": null,
            "_view_module": "@jupyter-widgets/base",
            "_view_module_version": "1.2.0",
            "_view_name": "LayoutView",
            "align_content": null,
            "align_items": null,
            "align_self": null,
            "border": null,
            "bottom": null,
            "display": null,
            "flex": null,
            "flex_flow": null,
            "grid_area": null,
            "grid_auto_columns": null,
            "grid_auto_flow": null,
            "grid_auto_rows": null,
            "grid_column": null,
            "grid_gap": null,
            "grid_row": null,
            "grid_template_areas": null,
            "grid_template_columns": null,
            "grid_template_rows": null,
            "height": null,
            "justify_content": null,
            "justify_items": null,
            "left": null,
            "margin": null,
            "max_height": null,
            "max_width": null,
            "min_height": null,
            "min_width": null,
            "object_fit": null,
            "object_position": null,
            "order": null,
            "overflow": null,
            "overflow_x": null,
            "overflow_y": null,
            "padding": null,
            "right": null,
            "top": null,
            "visibility": null,
            "width": null
          }
        },
        "70c51b64faeb4950b63133e2e10bc28a": {
          "model_module": "@jupyter-widgets/controls",
          "model_name": "DescriptionStyleModel",
          "model_module_version": "1.5.0",
          "state": {
            "_model_module": "@jupyter-widgets/controls",
            "_model_module_version": "1.5.0",
            "_model_name": "DescriptionStyleModel",
            "_view_count": null,
            "_view_module": "@jupyter-widgets/base",
            "_view_module_version": "1.2.0",
            "_view_name": "StyleView",
            "description_width": ""
          }
        },
        "9dd58a616be3475fa4b2d754df4b32d4": {
          "model_module": "@jupyter-widgets/controls",
          "model_name": "HBoxModel",
          "model_module_version": "1.5.0",
          "state": {
            "_dom_classes": [],
            "_model_module": "@jupyter-widgets/controls",
            "_model_module_version": "1.5.0",
            "_model_name": "HBoxModel",
            "_view_count": null,
            "_view_module": "@jupyter-widgets/controls",
            "_view_module_version": "1.5.0",
            "_view_name": "HBoxView",
            "box_style": "",
            "children": [
              "IPY_MODEL_2b97c50c39eb4205b4ec666479586f87",
              "IPY_MODEL_45a63f69f279433c8af5c77272605920",
              "IPY_MODEL_6ed176d6d7214a50bb6f8ec11b9c63ef"
            ],
            "layout": "IPY_MODEL_0e004c25da09445797d5405aed0fdcf7"
          }
        },
        "2b97c50c39eb4205b4ec666479586f87": {
          "model_module": "@jupyter-widgets/controls",
          "model_name": "HTMLModel",
          "model_module_version": "1.5.0",
          "state": {
            "_dom_classes": [],
            "_model_module": "@jupyter-widgets/controls",
            "_model_module_version": "1.5.0",
            "_model_name": "HTMLModel",
            "_view_count": null,
            "_view_module": "@jupyter-widgets/controls",
            "_view_module_version": "1.5.0",
            "_view_name": "HTMLView",
            "description": "",
            "description_tooltip": null,
            "layout": "IPY_MODEL_69a9b5ac0bc84c42868dd649da1639f3",
            "placeholder": "​",
            "style": "IPY_MODEL_3bade456247d4feb9b140fa321aff7db",
            "value": "Downloading data: 100%"
          }
        },
        "45a63f69f279433c8af5c77272605920": {
          "model_module": "@jupyter-widgets/controls",
          "model_name": "FloatProgressModel",
          "model_module_version": "1.5.0",
          "state": {
            "_dom_classes": [],
            "_model_module": "@jupyter-widgets/controls",
            "_model_module_version": "1.5.0",
            "_model_name": "FloatProgressModel",
            "_view_count": null,
            "_view_module": "@jupyter-widgets/controls",
            "_view_module_version": "1.5.0",
            "_view_name": "ProgressView",
            "bar_style": "success",
            "description": "",
            "description_tooltip": null,
            "layout": "IPY_MODEL_c6d6ab2555a949eb912fd5263dfaaaff",
            "max": 982975,
            "min": 0,
            "orientation": "horizontal",
            "style": "IPY_MODEL_ebfc85c5488845119e97d3af109d6b3b",
            "value": 982975
          }
        },
        "6ed176d6d7214a50bb6f8ec11b9c63ef": {
          "model_module": "@jupyter-widgets/controls",
          "model_name": "HTMLModel",
          "model_module_version": "1.5.0",
          "state": {
            "_dom_classes": [],
            "_model_module": "@jupyter-widgets/controls",
            "_model_module_version": "1.5.0",
            "_model_name": "HTMLModel",
            "_view_count": null,
            "_view_module": "@jupyter-widgets/controls",
            "_view_module_version": "1.5.0",
            "_view_name": "HTMLView",
            "description": "",
            "description_tooltip": null,
            "layout": "IPY_MODEL_4b3b2e4333754152a16284d6449ed6e7",
            "placeholder": "​",
            "style": "IPY_MODEL_33c7d9983c034a7b8004c4af3a78e33c",
            "value": " 983k/983k [00:00&lt;00:00, 5.38MB/s]"
          }
        },
        "0e004c25da09445797d5405aed0fdcf7": {
          "model_module": "@jupyter-widgets/base",
          "model_name": "LayoutModel",
          "model_module_version": "1.2.0",
          "state": {
            "_model_module": "@jupyter-widgets/base",
            "_model_module_version": "1.2.0",
            "_model_name": "LayoutModel",
            "_view_count": null,
            "_view_module": "@jupyter-widgets/base",
            "_view_module_version": "1.2.0",
            "_view_name": "LayoutView",
            "align_content": null,
            "align_items": null,
            "align_self": null,
            "border": null,
            "bottom": null,
            "display": null,
            "flex": null,
            "flex_flow": null,
            "grid_area": null,
            "grid_auto_columns": null,
            "grid_auto_flow": null,
            "grid_auto_rows": null,
            "grid_column": null,
            "grid_gap": null,
            "grid_row": null,
            "grid_template_areas": null,
            "grid_template_columns": null,
            "grid_template_rows": null,
            "height": null,
            "justify_content": null,
            "justify_items": null,
            "left": null,
            "margin": null,
            "max_height": null,
            "max_width": null,
            "min_height": null,
            "min_width": null,
            "object_fit": null,
            "object_position": null,
            "order": null,
            "overflow": null,
            "overflow_x": null,
            "overflow_y": null,
            "padding": null,
            "right": null,
            "top": null,
            "visibility": null,
            "width": null
          }
        },
        "69a9b5ac0bc84c42868dd649da1639f3": {
          "model_module": "@jupyter-widgets/base",
          "model_name": "LayoutModel",
          "model_module_version": "1.2.0",
          "state": {
            "_model_module": "@jupyter-widgets/base",
            "_model_module_version": "1.2.0",
            "_model_name": "LayoutModel",
            "_view_count": null,
            "_view_module": "@jupyter-widgets/base",
            "_view_module_version": "1.2.0",
            "_view_name": "LayoutView",
            "align_content": null,
            "align_items": null,
            "align_self": null,
            "border": null,
            "bottom": null,
            "display": null,
            "flex": null,
            "flex_flow": null,
            "grid_area": null,
            "grid_auto_columns": null,
            "grid_auto_flow": null,
            "grid_auto_rows": null,
            "grid_column": null,
            "grid_gap": null,
            "grid_row": null,
            "grid_template_areas": null,
            "grid_template_columns": null,
            "grid_template_rows": null,
            "height": null,
            "justify_content": null,
            "justify_items": null,
            "left": null,
            "margin": null,
            "max_height": null,
            "max_width": null,
            "min_height": null,
            "min_width": null,
            "object_fit": null,
            "object_position": null,
            "order": null,
            "overflow": null,
            "overflow_x": null,
            "overflow_y": null,
            "padding": null,
            "right": null,
            "top": null,
            "visibility": null,
            "width": null
          }
        },
        "3bade456247d4feb9b140fa321aff7db": {
          "model_module": "@jupyter-widgets/controls",
          "model_name": "DescriptionStyleModel",
          "model_module_version": "1.5.0",
          "state": {
            "_model_module": "@jupyter-widgets/controls",
            "_model_module_version": "1.5.0",
            "_model_name": "DescriptionStyleModel",
            "_view_count": null,
            "_view_module": "@jupyter-widgets/base",
            "_view_module_version": "1.2.0",
            "_view_name": "StyleView",
            "description_width": ""
          }
        },
        "c6d6ab2555a949eb912fd5263dfaaaff": {
          "model_module": "@jupyter-widgets/base",
          "model_name": "LayoutModel",
          "model_module_version": "1.2.0",
          "state": {
            "_model_module": "@jupyter-widgets/base",
            "_model_module_version": "1.2.0",
            "_model_name": "LayoutModel",
            "_view_count": null,
            "_view_module": "@jupyter-widgets/base",
            "_view_module_version": "1.2.0",
            "_view_name": "LayoutView",
            "align_content": null,
            "align_items": null,
            "align_self": null,
            "border": null,
            "bottom": null,
            "display": null,
            "flex": null,
            "flex_flow": null,
            "grid_area": null,
            "grid_auto_columns": null,
            "grid_auto_flow": null,
            "grid_auto_rows": null,
            "grid_column": null,
            "grid_gap": null,
            "grid_row": null,
            "grid_template_areas": null,
            "grid_template_columns": null,
            "grid_template_rows": null,
            "height": null,
            "justify_content": null,
            "justify_items": null,
            "left": null,
            "margin": null,
            "max_height": null,
            "max_width": null,
            "min_height": null,
            "min_width": null,
            "object_fit": null,
            "object_position": null,
            "order": null,
            "overflow": null,
            "overflow_x": null,
            "overflow_y": null,
            "padding": null,
            "right": null,
            "top": null,
            "visibility": null,
            "width": null
          }
        },
        "ebfc85c5488845119e97d3af109d6b3b": {
          "model_module": "@jupyter-widgets/controls",
          "model_name": "ProgressStyleModel",
          "model_module_version": "1.5.0",
          "state": {
            "_model_module": "@jupyter-widgets/controls",
            "_model_module_version": "1.5.0",
            "_model_name": "ProgressStyleModel",
            "_view_count": null,
            "_view_module": "@jupyter-widgets/base",
            "_view_module_version": "1.2.0",
            "_view_name": "StyleView",
            "bar_color": null,
            "description_width": ""
          }
        },
        "4b3b2e4333754152a16284d6449ed6e7": {
          "model_module": "@jupyter-widgets/base",
          "model_name": "LayoutModel",
          "model_module_version": "1.2.0",
          "state": {
            "_model_module": "@jupyter-widgets/base",
            "_model_module_version": "1.2.0",
            "_model_name": "LayoutModel",
            "_view_count": null,
            "_view_module": "@jupyter-widgets/base",
            "_view_module_version": "1.2.0",
            "_view_name": "LayoutView",
            "align_content": null,
            "align_items": null,
            "align_self": null,
            "border": null,
            "bottom": null,
            "display": null,
            "flex": null,
            "flex_flow": null,
            "grid_area": null,
            "grid_auto_columns": null,
            "grid_auto_flow": null,
            "grid_auto_rows": null,
            "grid_column": null,
            "grid_gap": null,
            "grid_row": null,
            "grid_template_areas": null,
            "grid_template_columns": null,
            "grid_template_rows": null,
            "height": null,
            "justify_content": null,
            "justify_items": null,
            "left": null,
            "margin": null,
            "max_height": null,
            "max_width": null,
            "min_height": null,
            "min_width": null,
            "object_fit": null,
            "object_position": null,
            "order": null,
            "overflow": null,
            "overflow_x": null,
            "overflow_y": null,
            "padding": null,
            "right": null,
            "top": null,
            "visibility": null,
            "width": null
          }
        },
        "33c7d9983c034a7b8004c4af3a78e33c": {
          "model_module": "@jupyter-widgets/controls",
          "model_name": "DescriptionStyleModel",
          "model_module_version": "1.5.0",
          "state": {
            "_model_module": "@jupyter-widgets/controls",
            "_model_module_version": "1.5.0",
            "_model_name": "DescriptionStyleModel",
            "_view_count": null,
            "_view_module": "@jupyter-widgets/base",
            "_view_module_version": "1.2.0",
            "_view_name": "StyleView",
            "description_width": ""
          }
        },
        "a8b12725edaa41b0a213d62fc6ef63b4": {
          "model_module": "@jupyter-widgets/controls",
          "model_name": "HBoxModel",
          "model_module_version": "1.5.0",
          "state": {
            "_dom_classes": [],
            "_model_module": "@jupyter-widgets/controls",
            "_model_module_version": "1.5.0",
            "_model_name": "HBoxModel",
            "_view_count": null,
            "_view_module": "@jupyter-widgets/controls",
            "_view_module_version": "1.5.0",
            "_view_name": "HBoxView",
            "box_style": "",
            "children": [
              "IPY_MODEL_5fabbb9b2cf942faac3afbcc6d968ab8",
              "IPY_MODEL_31000c390e7241fa8e8233520011350e",
              "IPY_MODEL_2a4466912a4a443fa18db55e7312b2fe"
            ],
            "layout": "IPY_MODEL_b45c47c98ed74edd8e2c154dfc37072d"
          }
        },
        "5fabbb9b2cf942faac3afbcc6d968ab8": {
          "model_module": "@jupyter-widgets/controls",
          "model_name": "HTMLModel",
          "model_module_version": "1.5.0",
          "state": {
            "_dom_classes": [],
            "_model_module": "@jupyter-widgets/controls",
            "_model_module_version": "1.5.0",
            "_model_name": "HTMLModel",
            "_view_count": null,
            "_view_module": "@jupyter-widgets/controls",
            "_view_module_version": "1.5.0",
            "_view_name": "HTMLView",
            "description": "",
            "description_tooltip": null,
            "layout": "IPY_MODEL_9f8c2d80f3bd4e5b87dc5181a8725681",
            "placeholder": "​",
            "style": "IPY_MODEL_be2d16f2bf764503a8516aff358c1cf4",
            "value": "Generating train split: 100%"
          }
        },
        "31000c390e7241fa8e8233520011350e": {
          "model_module": "@jupyter-widgets/controls",
          "model_name": "FloatProgressModel",
          "model_module_version": "1.5.0",
          "state": {
            "_dom_classes": [],
            "_model_module": "@jupyter-widgets/controls",
            "_model_module_version": "1.5.0",
            "_model_name": "FloatProgressModel",
            "_view_count": null,
            "_view_module": "@jupyter-widgets/controls",
            "_view_module_version": "1.5.0",
            "_view_name": "ProgressView",
            "bar_style": "success",
            "description": "",
            "description_tooltip": null,
            "layout": "IPY_MODEL_7eed48dbbbfe4724af2bf7747f086797",
            "max": 14041,
            "min": 0,
            "orientation": "horizontal",
            "style": "IPY_MODEL_2ae50cca65db403ab888cedae8b0bcae",
            "value": 14041
          }
        },
        "2a4466912a4a443fa18db55e7312b2fe": {
          "model_module": "@jupyter-widgets/controls",
          "model_name": "HTMLModel",
          "model_module_version": "1.5.0",
          "state": {
            "_dom_classes": [],
            "_model_module": "@jupyter-widgets/controls",
            "_model_module_version": "1.5.0",
            "_model_name": "HTMLModel",
            "_view_count": null,
            "_view_module": "@jupyter-widgets/controls",
            "_view_module_version": "1.5.0",
            "_view_name": "HTMLView",
            "description": "",
            "description_tooltip": null,
            "layout": "IPY_MODEL_fba1bee3e11a497eafa2df03effd1bf2",
            "placeholder": "​",
            "style": "IPY_MODEL_2f256d9c5ae14d01954e04d008c8257d",
            "value": " 14041/14041 [00:09&lt;00:00, 1970.16 examples/s]"
          }
        },
        "b45c47c98ed74edd8e2c154dfc37072d": {
          "model_module": "@jupyter-widgets/base",
          "model_name": "LayoutModel",
          "model_module_version": "1.2.0",
          "state": {
            "_model_module": "@jupyter-widgets/base",
            "_model_module_version": "1.2.0",
            "_model_name": "LayoutModel",
            "_view_count": null,
            "_view_module": "@jupyter-widgets/base",
            "_view_module_version": "1.2.0",
            "_view_name": "LayoutView",
            "align_content": null,
            "align_items": null,
            "align_self": null,
            "border": null,
            "bottom": null,
            "display": null,
            "flex": null,
            "flex_flow": null,
            "grid_area": null,
            "grid_auto_columns": null,
            "grid_auto_flow": null,
            "grid_auto_rows": null,
            "grid_column": null,
            "grid_gap": null,
            "grid_row": null,
            "grid_template_areas": null,
            "grid_template_columns": null,
            "grid_template_rows": null,
            "height": null,
            "justify_content": null,
            "justify_items": null,
            "left": null,
            "margin": null,
            "max_height": null,
            "max_width": null,
            "min_height": null,
            "min_width": null,
            "object_fit": null,
            "object_position": null,
            "order": null,
            "overflow": null,
            "overflow_x": null,
            "overflow_y": null,
            "padding": null,
            "right": null,
            "top": null,
            "visibility": null,
            "width": null
          }
        },
        "9f8c2d80f3bd4e5b87dc5181a8725681": {
          "model_module": "@jupyter-widgets/base",
          "model_name": "LayoutModel",
          "model_module_version": "1.2.0",
          "state": {
            "_model_module": "@jupyter-widgets/base",
            "_model_module_version": "1.2.0",
            "_model_name": "LayoutModel",
            "_view_count": null,
            "_view_module": "@jupyter-widgets/base",
            "_view_module_version": "1.2.0",
            "_view_name": "LayoutView",
            "align_content": null,
            "align_items": null,
            "align_self": null,
            "border": null,
            "bottom": null,
            "display": null,
            "flex": null,
            "flex_flow": null,
            "grid_area": null,
            "grid_auto_columns": null,
            "grid_auto_flow": null,
            "grid_auto_rows": null,
            "grid_column": null,
            "grid_gap": null,
            "grid_row": null,
            "grid_template_areas": null,
            "grid_template_columns": null,
            "grid_template_rows": null,
            "height": null,
            "justify_content": null,
            "justify_items": null,
            "left": null,
            "margin": null,
            "max_height": null,
            "max_width": null,
            "min_height": null,
            "min_width": null,
            "object_fit": null,
            "object_position": null,
            "order": null,
            "overflow": null,
            "overflow_x": null,
            "overflow_y": null,
            "padding": null,
            "right": null,
            "top": null,
            "visibility": null,
            "width": null
          }
        },
        "be2d16f2bf764503a8516aff358c1cf4": {
          "model_module": "@jupyter-widgets/controls",
          "model_name": "DescriptionStyleModel",
          "model_module_version": "1.5.0",
          "state": {
            "_model_module": "@jupyter-widgets/controls",
            "_model_module_version": "1.5.0",
            "_model_name": "DescriptionStyleModel",
            "_view_count": null,
            "_view_module": "@jupyter-widgets/base",
            "_view_module_version": "1.2.0",
            "_view_name": "StyleView",
            "description_width": ""
          }
        },
        "7eed48dbbbfe4724af2bf7747f086797": {
          "model_module": "@jupyter-widgets/base",
          "model_name": "LayoutModel",
          "model_module_version": "1.2.0",
          "state": {
            "_model_module": "@jupyter-widgets/base",
            "_model_module_version": "1.2.0",
            "_model_name": "LayoutModel",
            "_view_count": null,
            "_view_module": "@jupyter-widgets/base",
            "_view_module_version": "1.2.0",
            "_view_name": "LayoutView",
            "align_content": null,
            "align_items": null,
            "align_self": null,
            "border": null,
            "bottom": null,
            "display": null,
            "flex": null,
            "flex_flow": null,
            "grid_area": null,
            "grid_auto_columns": null,
            "grid_auto_flow": null,
            "grid_auto_rows": null,
            "grid_column": null,
            "grid_gap": null,
            "grid_row": null,
            "grid_template_areas": null,
            "grid_template_columns": null,
            "grid_template_rows": null,
            "height": null,
            "justify_content": null,
            "justify_items": null,
            "left": null,
            "margin": null,
            "max_height": null,
            "max_width": null,
            "min_height": null,
            "min_width": null,
            "object_fit": null,
            "object_position": null,
            "order": null,
            "overflow": null,
            "overflow_x": null,
            "overflow_y": null,
            "padding": null,
            "right": null,
            "top": null,
            "visibility": null,
            "width": null
          }
        },
        "2ae50cca65db403ab888cedae8b0bcae": {
          "model_module": "@jupyter-widgets/controls",
          "model_name": "ProgressStyleModel",
          "model_module_version": "1.5.0",
          "state": {
            "_model_module": "@jupyter-widgets/controls",
            "_model_module_version": "1.5.0",
            "_model_name": "ProgressStyleModel",
            "_view_count": null,
            "_view_module": "@jupyter-widgets/base",
            "_view_module_version": "1.2.0",
            "_view_name": "StyleView",
            "bar_color": null,
            "description_width": ""
          }
        },
        "fba1bee3e11a497eafa2df03effd1bf2": {
          "model_module": "@jupyter-widgets/base",
          "model_name": "LayoutModel",
          "model_module_version": "1.2.0",
          "state": {
            "_model_module": "@jupyter-widgets/base",
            "_model_module_version": "1.2.0",
            "_model_name": "LayoutModel",
            "_view_count": null,
            "_view_module": "@jupyter-widgets/base",
            "_view_module_version": "1.2.0",
            "_view_name": "LayoutView",
            "align_content": null,
            "align_items": null,
            "align_self": null,
            "border": null,
            "bottom": null,
            "display": null,
            "flex": null,
            "flex_flow": null,
            "grid_area": null,
            "grid_auto_columns": null,
            "grid_auto_flow": null,
            "grid_auto_rows": null,
            "grid_column": null,
            "grid_gap": null,
            "grid_row": null,
            "grid_template_areas": null,
            "grid_template_columns": null,
            "grid_template_rows": null,
            "height": null,
            "justify_content": null,
            "justify_items": null,
            "left": null,
            "margin": null,
            "max_height": null,
            "max_width": null,
            "min_height": null,
            "min_width": null,
            "object_fit": null,
            "object_position": null,
            "order": null,
            "overflow": null,
            "overflow_x": null,
            "overflow_y": null,
            "padding": null,
            "right": null,
            "top": null,
            "visibility": null,
            "width": null
          }
        },
        "2f256d9c5ae14d01954e04d008c8257d": {
          "model_module": "@jupyter-widgets/controls",
          "model_name": "DescriptionStyleModel",
          "model_module_version": "1.5.0",
          "state": {
            "_model_module": "@jupyter-widgets/controls",
            "_model_module_version": "1.5.0",
            "_model_name": "DescriptionStyleModel",
            "_view_count": null,
            "_view_module": "@jupyter-widgets/base",
            "_view_module_version": "1.2.0",
            "_view_name": "StyleView",
            "description_width": ""
          }
        },
        "57b71011a1794be7bcec233343229a4a": {
          "model_module": "@jupyter-widgets/controls",
          "model_name": "HBoxModel",
          "model_module_version": "1.5.0",
          "state": {
            "_dom_classes": [],
            "_model_module": "@jupyter-widgets/controls",
            "_model_module_version": "1.5.0",
            "_model_name": "HBoxModel",
            "_view_count": null,
            "_view_module": "@jupyter-widgets/controls",
            "_view_module_version": "1.5.0",
            "_view_name": "HBoxView",
            "box_style": "",
            "children": [
              "IPY_MODEL_6fa0f21fe9484f1c8a30d8e71e2f65f9",
              "IPY_MODEL_fb45ae5ec8d24efe8014ef4e2035f063",
              "IPY_MODEL_df7807819d80474994ff1073d658b55c"
            ],
            "layout": "IPY_MODEL_4ce1fa020700451a80753878abd3e72d"
          }
        },
        "6fa0f21fe9484f1c8a30d8e71e2f65f9": {
          "model_module": "@jupyter-widgets/controls",
          "model_name": "HTMLModel",
          "model_module_version": "1.5.0",
          "state": {
            "_dom_classes": [],
            "_model_module": "@jupyter-widgets/controls",
            "_model_module_version": "1.5.0",
            "_model_name": "HTMLModel",
            "_view_count": null,
            "_view_module": "@jupyter-widgets/controls",
            "_view_module_version": "1.5.0",
            "_view_name": "HTMLView",
            "description": "",
            "description_tooltip": null,
            "layout": "IPY_MODEL_5e3d2d6e8ed24c84a1912b7d1faaaa95",
            "placeholder": "​",
            "style": "IPY_MODEL_84635047418c4a5f84f944ecef343aff",
            "value": "Generating validation split: 100%"
          }
        },
        "fb45ae5ec8d24efe8014ef4e2035f063": {
          "model_module": "@jupyter-widgets/controls",
          "model_name": "FloatProgressModel",
          "model_module_version": "1.5.0",
          "state": {
            "_dom_classes": [],
            "_model_module": "@jupyter-widgets/controls",
            "_model_module_version": "1.5.0",
            "_model_name": "FloatProgressModel",
            "_view_count": null,
            "_view_module": "@jupyter-widgets/controls",
            "_view_module_version": "1.5.0",
            "_view_name": "ProgressView",
            "bar_style": "success",
            "description": "",
            "description_tooltip": null,
            "layout": "IPY_MODEL_a5fcd5c15a79482c96c292596a3376d6",
            "max": 3250,
            "min": 0,
            "orientation": "horizontal",
            "style": "IPY_MODEL_9f334b76dfc4453f806e4e4bf2825068",
            "value": 3250
          }
        },
        "df7807819d80474994ff1073d658b55c": {
          "model_module": "@jupyter-widgets/controls",
          "model_name": "HTMLModel",
          "model_module_version": "1.5.0",
          "state": {
            "_dom_classes": [],
            "_model_module": "@jupyter-widgets/controls",
            "_model_module_version": "1.5.0",
            "_model_name": "HTMLModel",
            "_view_count": null,
            "_view_module": "@jupyter-widgets/controls",
            "_view_module_version": "1.5.0",
            "_view_name": "HTMLView",
            "description": "",
            "description_tooltip": null,
            "layout": "IPY_MODEL_19310aa91e144ba49b650a50c929427d",
            "placeholder": "​",
            "style": "IPY_MODEL_4769a145562c4143999e9439a04b4900",
            "value": " 3250/3250 [00:02&lt;00:00, 1332.44 examples/s]"
          }
        },
        "4ce1fa020700451a80753878abd3e72d": {
          "model_module": "@jupyter-widgets/base",
          "model_name": "LayoutModel",
          "model_module_version": "1.2.0",
          "state": {
            "_model_module": "@jupyter-widgets/base",
            "_model_module_version": "1.2.0",
            "_model_name": "LayoutModel",
            "_view_count": null,
            "_view_module": "@jupyter-widgets/base",
            "_view_module_version": "1.2.0",
            "_view_name": "LayoutView",
            "align_content": null,
            "align_items": null,
            "align_self": null,
            "border": null,
            "bottom": null,
            "display": null,
            "flex": null,
            "flex_flow": null,
            "grid_area": null,
            "grid_auto_columns": null,
            "grid_auto_flow": null,
            "grid_auto_rows": null,
            "grid_column": null,
            "grid_gap": null,
            "grid_row": null,
            "grid_template_areas": null,
            "grid_template_columns": null,
            "grid_template_rows": null,
            "height": null,
            "justify_content": null,
            "justify_items": null,
            "left": null,
            "margin": null,
            "max_height": null,
            "max_width": null,
            "min_height": null,
            "min_width": null,
            "object_fit": null,
            "object_position": null,
            "order": null,
            "overflow": null,
            "overflow_x": null,
            "overflow_y": null,
            "padding": null,
            "right": null,
            "top": null,
            "visibility": null,
            "width": null
          }
        },
        "5e3d2d6e8ed24c84a1912b7d1faaaa95": {
          "model_module": "@jupyter-widgets/base",
          "model_name": "LayoutModel",
          "model_module_version": "1.2.0",
          "state": {
            "_model_module": "@jupyter-widgets/base",
            "_model_module_version": "1.2.0",
            "_model_name": "LayoutModel",
            "_view_count": null,
            "_view_module": "@jupyter-widgets/base",
            "_view_module_version": "1.2.0",
            "_view_name": "LayoutView",
            "align_content": null,
            "align_items": null,
            "align_self": null,
            "border": null,
            "bottom": null,
            "display": null,
            "flex": null,
            "flex_flow": null,
            "grid_area": null,
            "grid_auto_columns": null,
            "grid_auto_flow": null,
            "grid_auto_rows": null,
            "grid_column": null,
            "grid_gap": null,
            "grid_row": null,
            "grid_template_areas": null,
            "grid_template_columns": null,
            "grid_template_rows": null,
            "height": null,
            "justify_content": null,
            "justify_items": null,
            "left": null,
            "margin": null,
            "max_height": null,
            "max_width": null,
            "min_height": null,
            "min_width": null,
            "object_fit": null,
            "object_position": null,
            "order": null,
            "overflow": null,
            "overflow_x": null,
            "overflow_y": null,
            "padding": null,
            "right": null,
            "top": null,
            "visibility": null,
            "width": null
          }
        },
        "84635047418c4a5f84f944ecef343aff": {
          "model_module": "@jupyter-widgets/controls",
          "model_name": "DescriptionStyleModel",
          "model_module_version": "1.5.0",
          "state": {
            "_model_module": "@jupyter-widgets/controls",
            "_model_module_version": "1.5.0",
            "_model_name": "DescriptionStyleModel",
            "_view_count": null,
            "_view_module": "@jupyter-widgets/base",
            "_view_module_version": "1.2.0",
            "_view_name": "StyleView",
            "description_width": ""
          }
        },
        "a5fcd5c15a79482c96c292596a3376d6": {
          "model_module": "@jupyter-widgets/base",
          "model_name": "LayoutModel",
          "model_module_version": "1.2.0",
          "state": {
            "_model_module": "@jupyter-widgets/base",
            "_model_module_version": "1.2.0",
            "_model_name": "LayoutModel",
            "_view_count": null,
            "_view_module": "@jupyter-widgets/base",
            "_view_module_version": "1.2.0",
            "_view_name": "LayoutView",
            "align_content": null,
            "align_items": null,
            "align_self": null,
            "border": null,
            "bottom": null,
            "display": null,
            "flex": null,
            "flex_flow": null,
            "grid_area": null,
            "grid_auto_columns": null,
            "grid_auto_flow": null,
            "grid_auto_rows": null,
            "grid_column": null,
            "grid_gap": null,
            "grid_row": null,
            "grid_template_areas": null,
            "grid_template_columns": null,
            "grid_template_rows": null,
            "height": null,
            "justify_content": null,
            "justify_items": null,
            "left": null,
            "margin": null,
            "max_height": null,
            "max_width": null,
            "min_height": null,
            "min_width": null,
            "object_fit": null,
            "object_position": null,
            "order": null,
            "overflow": null,
            "overflow_x": null,
            "overflow_y": null,
            "padding": null,
            "right": null,
            "top": null,
            "visibility": null,
            "width": null
          }
        },
        "9f334b76dfc4453f806e4e4bf2825068": {
          "model_module": "@jupyter-widgets/controls",
          "model_name": "ProgressStyleModel",
          "model_module_version": "1.5.0",
          "state": {
            "_model_module": "@jupyter-widgets/controls",
            "_model_module_version": "1.5.0",
            "_model_name": "ProgressStyleModel",
            "_view_count": null,
            "_view_module": "@jupyter-widgets/base",
            "_view_module_version": "1.2.0",
            "_view_name": "StyleView",
            "bar_color": null,
            "description_width": ""
          }
        },
        "19310aa91e144ba49b650a50c929427d": {
          "model_module": "@jupyter-widgets/base",
          "model_name": "LayoutModel",
          "model_module_version": "1.2.0",
          "state": {
            "_model_module": "@jupyter-widgets/base",
            "_model_module_version": "1.2.0",
            "_model_name": "LayoutModel",
            "_view_count": null,
            "_view_module": "@jupyter-widgets/base",
            "_view_module_version": "1.2.0",
            "_view_name": "LayoutView",
            "align_content": null,
            "align_items": null,
            "align_self": null,
            "border": null,
            "bottom": null,
            "display": null,
            "flex": null,
            "flex_flow": null,
            "grid_area": null,
            "grid_auto_columns": null,
            "grid_auto_flow": null,
            "grid_auto_rows": null,
            "grid_column": null,
            "grid_gap": null,
            "grid_row": null,
            "grid_template_areas": null,
            "grid_template_columns": null,
            "grid_template_rows": null,
            "height": null,
            "justify_content": null,
            "justify_items": null,
            "left": null,
            "margin": null,
            "max_height": null,
            "max_width": null,
            "min_height": null,
            "min_width": null,
            "object_fit": null,
            "object_position": null,
            "order": null,
            "overflow": null,
            "overflow_x": null,
            "overflow_y": null,
            "padding": null,
            "right": null,
            "top": null,
            "visibility": null,
            "width": null
          }
        },
        "4769a145562c4143999e9439a04b4900": {
          "model_module": "@jupyter-widgets/controls",
          "model_name": "DescriptionStyleModel",
          "model_module_version": "1.5.0",
          "state": {
            "_model_module": "@jupyter-widgets/controls",
            "_model_module_version": "1.5.0",
            "_model_name": "DescriptionStyleModel",
            "_view_count": null,
            "_view_module": "@jupyter-widgets/base",
            "_view_module_version": "1.2.0",
            "_view_name": "StyleView",
            "description_width": ""
          }
        },
        "36c6f93f415945a78edfabccac8ffb86": {
          "model_module": "@jupyter-widgets/controls",
          "model_name": "HBoxModel",
          "model_module_version": "1.5.0",
          "state": {
            "_dom_classes": [],
            "_model_module": "@jupyter-widgets/controls",
            "_model_module_version": "1.5.0",
            "_model_name": "HBoxModel",
            "_view_count": null,
            "_view_module": "@jupyter-widgets/controls",
            "_view_module_version": "1.5.0",
            "_view_name": "HBoxView",
            "box_style": "",
            "children": [
              "IPY_MODEL_22bcefc8430d4b50a8864cee269b4969",
              "IPY_MODEL_c43e331f6abb4b59a34dad75ffc45d8f",
              "IPY_MODEL_6d84b9542163454994acde226e86be10"
            ],
            "layout": "IPY_MODEL_5735d206cc9e4ef9adadbe6de046afbb"
          }
        },
        "22bcefc8430d4b50a8864cee269b4969": {
          "model_module": "@jupyter-widgets/controls",
          "model_name": "HTMLModel",
          "model_module_version": "1.5.0",
          "state": {
            "_dom_classes": [],
            "_model_module": "@jupyter-widgets/controls",
            "_model_module_version": "1.5.0",
            "_model_name": "HTMLModel",
            "_view_count": null,
            "_view_module": "@jupyter-widgets/controls",
            "_view_module_version": "1.5.0",
            "_view_name": "HTMLView",
            "description": "",
            "description_tooltip": null,
            "layout": "IPY_MODEL_3e35daa0a28b4201832c2aa7b65f332f",
            "placeholder": "​",
            "style": "IPY_MODEL_41a3d154794040e7863888e92571f6d8",
            "value": "Generating test split: 100%"
          }
        },
        "c43e331f6abb4b59a34dad75ffc45d8f": {
          "model_module": "@jupyter-widgets/controls",
          "model_name": "FloatProgressModel",
          "model_module_version": "1.5.0",
          "state": {
            "_dom_classes": [],
            "_model_module": "@jupyter-widgets/controls",
            "_model_module_version": "1.5.0",
            "_model_name": "FloatProgressModel",
            "_view_count": null,
            "_view_module": "@jupyter-widgets/controls",
            "_view_module_version": "1.5.0",
            "_view_name": "ProgressView",
            "bar_style": "success",
            "description": "",
            "description_tooltip": null,
            "layout": "IPY_MODEL_3071b132affa41a6988322de8efb7a14",
            "max": 3453,
            "min": 0,
            "orientation": "horizontal",
            "style": "IPY_MODEL_4cf82d5c33b644c582126564fefbfd5f",
            "value": 3453
          }
        },
        "6d84b9542163454994acde226e86be10": {
          "model_module": "@jupyter-widgets/controls",
          "model_name": "HTMLModel",
          "model_module_version": "1.5.0",
          "state": {
            "_dom_classes": [],
            "_model_module": "@jupyter-widgets/controls",
            "_model_module_version": "1.5.0",
            "_model_name": "HTMLModel",
            "_view_count": null,
            "_view_module": "@jupyter-widgets/controls",
            "_view_module_version": "1.5.0",
            "_view_name": "HTMLView",
            "description": "",
            "description_tooltip": null,
            "layout": "IPY_MODEL_f5224bb5f46340ae8475065b3ad972ff",
            "placeholder": "​",
            "style": "IPY_MODEL_c2a70f4f809444ad97faeba2b9c97c64",
            "value": " 3453/3453 [00:02&lt;00:00, 1470.97 examples/s]"
          }
        },
        "5735d206cc9e4ef9adadbe6de046afbb": {
          "model_module": "@jupyter-widgets/base",
          "model_name": "LayoutModel",
          "model_module_version": "1.2.0",
          "state": {
            "_model_module": "@jupyter-widgets/base",
            "_model_module_version": "1.2.0",
            "_model_name": "LayoutModel",
            "_view_count": null,
            "_view_module": "@jupyter-widgets/base",
            "_view_module_version": "1.2.0",
            "_view_name": "LayoutView",
            "align_content": null,
            "align_items": null,
            "align_self": null,
            "border": null,
            "bottom": null,
            "display": null,
            "flex": null,
            "flex_flow": null,
            "grid_area": null,
            "grid_auto_columns": null,
            "grid_auto_flow": null,
            "grid_auto_rows": null,
            "grid_column": null,
            "grid_gap": null,
            "grid_row": null,
            "grid_template_areas": null,
            "grid_template_columns": null,
            "grid_template_rows": null,
            "height": null,
            "justify_content": null,
            "justify_items": null,
            "left": null,
            "margin": null,
            "max_height": null,
            "max_width": null,
            "min_height": null,
            "min_width": null,
            "object_fit": null,
            "object_position": null,
            "order": null,
            "overflow": null,
            "overflow_x": null,
            "overflow_y": null,
            "padding": null,
            "right": null,
            "top": null,
            "visibility": null,
            "width": null
          }
        },
        "3e35daa0a28b4201832c2aa7b65f332f": {
          "model_module": "@jupyter-widgets/base",
          "model_name": "LayoutModel",
          "model_module_version": "1.2.0",
          "state": {
            "_model_module": "@jupyter-widgets/base",
            "_model_module_version": "1.2.0",
            "_model_name": "LayoutModel",
            "_view_count": null,
            "_view_module": "@jupyter-widgets/base",
            "_view_module_version": "1.2.0",
            "_view_name": "LayoutView",
            "align_content": null,
            "align_items": null,
            "align_self": null,
            "border": null,
            "bottom": null,
            "display": null,
            "flex": null,
            "flex_flow": null,
            "grid_area": null,
            "grid_auto_columns": null,
            "grid_auto_flow": null,
            "grid_auto_rows": null,
            "grid_column": null,
            "grid_gap": null,
            "grid_row": null,
            "grid_template_areas": null,
            "grid_template_columns": null,
            "grid_template_rows": null,
            "height": null,
            "justify_content": null,
            "justify_items": null,
            "left": null,
            "margin": null,
            "max_height": null,
            "max_width": null,
            "min_height": null,
            "min_width": null,
            "object_fit": null,
            "object_position": null,
            "order": null,
            "overflow": null,
            "overflow_x": null,
            "overflow_y": null,
            "padding": null,
            "right": null,
            "top": null,
            "visibility": null,
            "width": null
          }
        },
        "41a3d154794040e7863888e92571f6d8": {
          "model_module": "@jupyter-widgets/controls",
          "model_name": "DescriptionStyleModel",
          "model_module_version": "1.5.0",
          "state": {
            "_model_module": "@jupyter-widgets/controls",
            "_model_module_version": "1.5.0",
            "_model_name": "DescriptionStyleModel",
            "_view_count": null,
            "_view_module": "@jupyter-widgets/base",
            "_view_module_version": "1.2.0",
            "_view_name": "StyleView",
            "description_width": ""
          }
        },
        "3071b132affa41a6988322de8efb7a14": {
          "model_module": "@jupyter-widgets/base",
          "model_name": "LayoutModel",
          "model_module_version": "1.2.0",
          "state": {
            "_model_module": "@jupyter-widgets/base",
            "_model_module_version": "1.2.0",
            "_model_name": "LayoutModel",
            "_view_count": null,
            "_view_module": "@jupyter-widgets/base",
            "_view_module_version": "1.2.0",
            "_view_name": "LayoutView",
            "align_content": null,
            "align_items": null,
            "align_self": null,
            "border": null,
            "bottom": null,
            "display": null,
            "flex": null,
            "flex_flow": null,
            "grid_area": null,
            "grid_auto_columns": null,
            "grid_auto_flow": null,
            "grid_auto_rows": null,
            "grid_column": null,
            "grid_gap": null,
            "grid_row": null,
            "grid_template_areas": null,
            "grid_template_columns": null,
            "grid_template_rows": null,
            "height": null,
            "justify_content": null,
            "justify_items": null,
            "left": null,
            "margin": null,
            "max_height": null,
            "max_width": null,
            "min_height": null,
            "min_width": null,
            "object_fit": null,
            "object_position": null,
            "order": null,
            "overflow": null,
            "overflow_x": null,
            "overflow_y": null,
            "padding": null,
            "right": null,
            "top": null,
            "visibility": null,
            "width": null
          }
        },
        "4cf82d5c33b644c582126564fefbfd5f": {
          "model_module": "@jupyter-widgets/controls",
          "model_name": "ProgressStyleModel",
          "model_module_version": "1.5.0",
          "state": {
            "_model_module": "@jupyter-widgets/controls",
            "_model_module_version": "1.5.0",
            "_model_name": "ProgressStyleModel",
            "_view_count": null,
            "_view_module": "@jupyter-widgets/base",
            "_view_module_version": "1.2.0",
            "_view_name": "StyleView",
            "bar_color": null,
            "description_width": ""
          }
        },
        "f5224bb5f46340ae8475065b3ad972ff": {
          "model_module": "@jupyter-widgets/base",
          "model_name": "LayoutModel",
          "model_module_version": "1.2.0",
          "state": {
            "_model_module": "@jupyter-widgets/base",
            "_model_module_version": "1.2.0",
            "_model_name": "LayoutModel",
            "_view_count": null,
            "_view_module": "@jupyter-widgets/base",
            "_view_module_version": "1.2.0",
            "_view_name": "LayoutView",
            "align_content": null,
            "align_items": null,
            "align_self": null,
            "border": null,
            "bottom": null,
            "display": null,
            "flex": null,
            "flex_flow": null,
            "grid_area": null,
            "grid_auto_columns": null,
            "grid_auto_flow": null,
            "grid_auto_rows": null,
            "grid_column": null,
            "grid_gap": null,
            "grid_row": null,
            "grid_template_areas": null,
            "grid_template_columns": null,
            "grid_template_rows": null,
            "height": null,
            "justify_content": null,
            "justify_items": null,
            "left": null,
            "margin": null,
            "max_height": null,
            "max_width": null,
            "min_height": null,
            "min_width": null,
            "object_fit": null,
            "object_position": null,
            "order": null,
            "overflow": null,
            "overflow_x": null,
            "overflow_y": null,
            "padding": null,
            "right": null,
            "top": null,
            "visibility": null,
            "width": null
          }
        },
        "c2a70f4f809444ad97faeba2b9c97c64": {
          "model_module": "@jupyter-widgets/controls",
          "model_name": "DescriptionStyleModel",
          "model_module_version": "1.5.0",
          "state": {
            "_model_module": "@jupyter-widgets/controls",
            "_model_module_version": "1.5.0",
            "_model_name": "DescriptionStyleModel",
            "_view_count": null,
            "_view_module": "@jupyter-widgets/base",
            "_view_module_version": "1.2.0",
            "_view_name": "StyleView",
            "description_width": ""
          }
        },
        "038bc502cc3044f7bf117324d53b3274": {
          "model_module": "@jupyter-widgets/controls",
          "model_name": "HBoxModel",
          "model_module_version": "1.5.0",
          "state": {
            "_dom_classes": [],
            "_model_module": "@jupyter-widgets/controls",
            "_model_module_version": "1.5.0",
            "_model_name": "HBoxModel",
            "_view_count": null,
            "_view_module": "@jupyter-widgets/controls",
            "_view_module_version": "1.5.0",
            "_view_name": "HBoxView",
            "box_style": "",
            "children": [
              "IPY_MODEL_15ed57762eea4d67a053579251100386",
              "IPY_MODEL_6c4278d623cd4649aea251d1523782ea",
              "IPY_MODEL_12eccf0ebe464407b3f95a4c85ade2e5"
            ],
            "layout": "IPY_MODEL_85f993263d684c2daee915510c6f0196"
          }
        },
        "15ed57762eea4d67a053579251100386": {
          "model_module": "@jupyter-widgets/controls",
          "model_name": "HTMLModel",
          "model_module_version": "1.5.0",
          "state": {
            "_dom_classes": [],
            "_model_module": "@jupyter-widgets/controls",
            "_model_module_version": "1.5.0",
            "_model_name": "HTMLModel",
            "_view_count": null,
            "_view_module": "@jupyter-widgets/controls",
            "_view_module_version": "1.5.0",
            "_view_name": "HTMLView",
            "description": "",
            "description_tooltip": null,
            "layout": "IPY_MODEL_fbae6fd12e2a449cbf4ba4a70d7bf52d",
            "placeholder": "​",
            "style": "IPY_MODEL_b630d77fdd804250b8885a0b49db9247",
            "value": "Downloading (…)okenizer_config.json: 100%"
          }
        },
        "6c4278d623cd4649aea251d1523782ea": {
          "model_module": "@jupyter-widgets/controls",
          "model_name": "FloatProgressModel",
          "model_module_version": "1.5.0",
          "state": {
            "_dom_classes": [],
            "_model_module": "@jupyter-widgets/controls",
            "_model_module_version": "1.5.0",
            "_model_name": "FloatProgressModel",
            "_view_count": null,
            "_view_module": "@jupyter-widgets/controls",
            "_view_module_version": "1.5.0",
            "_view_name": "ProgressView",
            "bar_style": "success",
            "description": "",
            "description_tooltip": null,
            "layout": "IPY_MODEL_90e57f4bda4b4b7da0c2b374f5a2cfba",
            "max": 29,
            "min": 0,
            "orientation": "horizontal",
            "style": "IPY_MODEL_8f8684da9dbd4bf48948a3f5b059a828",
            "value": 29
          }
        },
        "12eccf0ebe464407b3f95a4c85ade2e5": {
          "model_module": "@jupyter-widgets/controls",
          "model_name": "HTMLModel",
          "model_module_version": "1.5.0",
          "state": {
            "_dom_classes": [],
            "_model_module": "@jupyter-widgets/controls",
            "_model_module_version": "1.5.0",
            "_model_name": "HTMLModel",
            "_view_count": null,
            "_view_module": "@jupyter-widgets/controls",
            "_view_module_version": "1.5.0",
            "_view_name": "HTMLView",
            "description": "",
            "description_tooltip": null,
            "layout": "IPY_MODEL_d0cf51bff86e4145a79e4585838244da",
            "placeholder": "​",
            "style": "IPY_MODEL_e1b41bc2532d4cf4972e4a3604307c76",
            "value": " 29.0/29.0 [00:00&lt;00:00, 561B/s]"
          }
        },
        "85f993263d684c2daee915510c6f0196": {
          "model_module": "@jupyter-widgets/base",
          "model_name": "LayoutModel",
          "model_module_version": "1.2.0",
          "state": {
            "_model_module": "@jupyter-widgets/base",
            "_model_module_version": "1.2.0",
            "_model_name": "LayoutModel",
            "_view_count": null,
            "_view_module": "@jupyter-widgets/base",
            "_view_module_version": "1.2.0",
            "_view_name": "LayoutView",
            "align_content": null,
            "align_items": null,
            "align_self": null,
            "border": null,
            "bottom": null,
            "display": null,
            "flex": null,
            "flex_flow": null,
            "grid_area": null,
            "grid_auto_columns": null,
            "grid_auto_flow": null,
            "grid_auto_rows": null,
            "grid_column": null,
            "grid_gap": null,
            "grid_row": null,
            "grid_template_areas": null,
            "grid_template_columns": null,
            "grid_template_rows": null,
            "height": null,
            "justify_content": null,
            "justify_items": null,
            "left": null,
            "margin": null,
            "max_height": null,
            "max_width": null,
            "min_height": null,
            "min_width": null,
            "object_fit": null,
            "object_position": null,
            "order": null,
            "overflow": null,
            "overflow_x": null,
            "overflow_y": null,
            "padding": null,
            "right": null,
            "top": null,
            "visibility": null,
            "width": null
          }
        },
        "fbae6fd12e2a449cbf4ba4a70d7bf52d": {
          "model_module": "@jupyter-widgets/base",
          "model_name": "LayoutModel",
          "model_module_version": "1.2.0",
          "state": {
            "_model_module": "@jupyter-widgets/base",
            "_model_module_version": "1.2.0",
            "_model_name": "LayoutModel",
            "_view_count": null,
            "_view_module": "@jupyter-widgets/base",
            "_view_module_version": "1.2.0",
            "_view_name": "LayoutView",
            "align_content": null,
            "align_items": null,
            "align_self": null,
            "border": null,
            "bottom": null,
            "display": null,
            "flex": null,
            "flex_flow": null,
            "grid_area": null,
            "grid_auto_columns": null,
            "grid_auto_flow": null,
            "grid_auto_rows": null,
            "grid_column": null,
            "grid_gap": null,
            "grid_row": null,
            "grid_template_areas": null,
            "grid_template_columns": null,
            "grid_template_rows": null,
            "height": null,
            "justify_content": null,
            "justify_items": null,
            "left": null,
            "margin": null,
            "max_height": null,
            "max_width": null,
            "min_height": null,
            "min_width": null,
            "object_fit": null,
            "object_position": null,
            "order": null,
            "overflow": null,
            "overflow_x": null,
            "overflow_y": null,
            "padding": null,
            "right": null,
            "top": null,
            "visibility": null,
            "width": null
          }
        },
        "b630d77fdd804250b8885a0b49db9247": {
          "model_module": "@jupyter-widgets/controls",
          "model_name": "DescriptionStyleModel",
          "model_module_version": "1.5.0",
          "state": {
            "_model_module": "@jupyter-widgets/controls",
            "_model_module_version": "1.5.0",
            "_model_name": "DescriptionStyleModel",
            "_view_count": null,
            "_view_module": "@jupyter-widgets/base",
            "_view_module_version": "1.2.0",
            "_view_name": "StyleView",
            "description_width": ""
          }
        },
        "90e57f4bda4b4b7da0c2b374f5a2cfba": {
          "model_module": "@jupyter-widgets/base",
          "model_name": "LayoutModel",
          "model_module_version": "1.2.0",
          "state": {
            "_model_module": "@jupyter-widgets/base",
            "_model_module_version": "1.2.0",
            "_model_name": "LayoutModel",
            "_view_count": null,
            "_view_module": "@jupyter-widgets/base",
            "_view_module_version": "1.2.0",
            "_view_name": "LayoutView",
            "align_content": null,
            "align_items": null,
            "align_self": null,
            "border": null,
            "bottom": null,
            "display": null,
            "flex": null,
            "flex_flow": null,
            "grid_area": null,
            "grid_auto_columns": null,
            "grid_auto_flow": null,
            "grid_auto_rows": null,
            "grid_column": null,
            "grid_gap": null,
            "grid_row": null,
            "grid_template_areas": null,
            "grid_template_columns": null,
            "grid_template_rows": null,
            "height": null,
            "justify_content": null,
            "justify_items": null,
            "left": null,
            "margin": null,
            "max_height": null,
            "max_width": null,
            "min_height": null,
            "min_width": null,
            "object_fit": null,
            "object_position": null,
            "order": null,
            "overflow": null,
            "overflow_x": null,
            "overflow_y": null,
            "padding": null,
            "right": null,
            "top": null,
            "visibility": null,
            "width": null
          }
        },
        "8f8684da9dbd4bf48948a3f5b059a828": {
          "model_module": "@jupyter-widgets/controls",
          "model_name": "ProgressStyleModel",
          "model_module_version": "1.5.0",
          "state": {
            "_model_module": "@jupyter-widgets/controls",
            "_model_module_version": "1.5.0",
            "_model_name": "ProgressStyleModel",
            "_view_count": null,
            "_view_module": "@jupyter-widgets/base",
            "_view_module_version": "1.2.0",
            "_view_name": "StyleView",
            "bar_color": null,
            "description_width": ""
          }
        },
        "d0cf51bff86e4145a79e4585838244da": {
          "model_module": "@jupyter-widgets/base",
          "model_name": "LayoutModel",
          "model_module_version": "1.2.0",
          "state": {
            "_model_module": "@jupyter-widgets/base",
            "_model_module_version": "1.2.0",
            "_model_name": "LayoutModel",
            "_view_count": null,
            "_view_module": "@jupyter-widgets/base",
            "_view_module_version": "1.2.0",
            "_view_name": "LayoutView",
            "align_content": null,
            "align_items": null,
            "align_self": null,
            "border": null,
            "bottom": null,
            "display": null,
            "flex": null,
            "flex_flow": null,
            "grid_area": null,
            "grid_auto_columns": null,
            "grid_auto_flow": null,
            "grid_auto_rows": null,
            "grid_column": null,
            "grid_gap": null,
            "grid_row": null,
            "grid_template_areas": null,
            "grid_template_columns": null,
            "grid_template_rows": null,
            "height": null,
            "justify_content": null,
            "justify_items": null,
            "left": null,
            "margin": null,
            "max_height": null,
            "max_width": null,
            "min_height": null,
            "min_width": null,
            "object_fit": null,
            "object_position": null,
            "order": null,
            "overflow": null,
            "overflow_x": null,
            "overflow_y": null,
            "padding": null,
            "right": null,
            "top": null,
            "visibility": null,
            "width": null
          }
        },
        "e1b41bc2532d4cf4972e4a3604307c76": {
          "model_module": "@jupyter-widgets/controls",
          "model_name": "DescriptionStyleModel",
          "model_module_version": "1.5.0",
          "state": {
            "_model_module": "@jupyter-widgets/controls",
            "_model_module_version": "1.5.0",
            "_model_name": "DescriptionStyleModel",
            "_view_count": null,
            "_view_module": "@jupyter-widgets/base",
            "_view_module_version": "1.2.0",
            "_view_name": "StyleView",
            "description_width": ""
          }
        },
        "f4ca36b167d540ce9dd6d860622f3e75": {
          "model_module": "@jupyter-widgets/controls",
          "model_name": "HBoxModel",
          "model_module_version": "1.5.0",
          "state": {
            "_dom_classes": [],
            "_model_module": "@jupyter-widgets/controls",
            "_model_module_version": "1.5.0",
            "_model_name": "HBoxModel",
            "_view_count": null,
            "_view_module": "@jupyter-widgets/controls",
            "_view_module_version": "1.5.0",
            "_view_name": "HBoxView",
            "box_style": "",
            "children": [
              "IPY_MODEL_ed049656f9f74eaea5c74278aa19dd2b",
              "IPY_MODEL_a0cce1ad56e749eaa59178b7db7d64e0",
              "IPY_MODEL_20cf7d0d01ba4e3a82090f6bdf94cda0"
            ],
            "layout": "IPY_MODEL_03a20e6239ea4bc5a1d36aa19998507e"
          }
        },
        "ed049656f9f74eaea5c74278aa19dd2b": {
          "model_module": "@jupyter-widgets/controls",
          "model_name": "HTMLModel",
          "model_module_version": "1.5.0",
          "state": {
            "_dom_classes": [],
            "_model_module": "@jupyter-widgets/controls",
            "_model_module_version": "1.5.0",
            "_model_name": "HTMLModel",
            "_view_count": null,
            "_view_module": "@jupyter-widgets/controls",
            "_view_module_version": "1.5.0",
            "_view_name": "HTMLView",
            "description": "",
            "description_tooltip": null,
            "layout": "IPY_MODEL_eb63cd44d04548beb1d2358574195faf",
            "placeholder": "​",
            "style": "IPY_MODEL_14a9d2d53efd4c9e82b9cefc6b97ff53",
            "value": "Downloading (…)lve/main/config.json: 100%"
          }
        },
        "a0cce1ad56e749eaa59178b7db7d64e0": {
          "model_module": "@jupyter-widgets/controls",
          "model_name": "FloatProgressModel",
          "model_module_version": "1.5.0",
          "state": {
            "_dom_classes": [],
            "_model_module": "@jupyter-widgets/controls",
            "_model_module_version": "1.5.0",
            "_model_name": "FloatProgressModel",
            "_view_count": null,
            "_view_module": "@jupyter-widgets/controls",
            "_view_module_version": "1.5.0",
            "_view_name": "ProgressView",
            "bar_style": "success",
            "description": "",
            "description_tooltip": null,
            "layout": "IPY_MODEL_d7e52821d863475b9f76171483fefeca",
            "max": 411,
            "min": 0,
            "orientation": "horizontal",
            "style": "IPY_MODEL_b385ffde10044a18afd81446f4b2bfbd",
            "value": 411
          }
        },
        "20cf7d0d01ba4e3a82090f6bdf94cda0": {
          "model_module": "@jupyter-widgets/controls",
          "model_name": "HTMLModel",
          "model_module_version": "1.5.0",
          "state": {
            "_dom_classes": [],
            "_model_module": "@jupyter-widgets/controls",
            "_model_module_version": "1.5.0",
            "_model_name": "HTMLModel",
            "_view_count": null,
            "_view_module": "@jupyter-widgets/controls",
            "_view_module_version": "1.5.0",
            "_view_name": "HTMLView",
            "description": "",
            "description_tooltip": null,
            "layout": "IPY_MODEL_1c647702435443a0a42b5a35dba1c498",
            "placeholder": "​",
            "style": "IPY_MODEL_08f29ead834049b89dc9efe28ed0d353",
            "value": " 411/411 [00:00&lt;00:00, 7.18kB/s]"
          }
        },
        "03a20e6239ea4bc5a1d36aa19998507e": {
          "model_module": "@jupyter-widgets/base",
          "model_name": "LayoutModel",
          "model_module_version": "1.2.0",
          "state": {
            "_model_module": "@jupyter-widgets/base",
            "_model_module_version": "1.2.0",
            "_model_name": "LayoutModel",
            "_view_count": null,
            "_view_module": "@jupyter-widgets/base",
            "_view_module_version": "1.2.0",
            "_view_name": "LayoutView",
            "align_content": null,
            "align_items": null,
            "align_self": null,
            "border": null,
            "bottom": null,
            "display": null,
            "flex": null,
            "flex_flow": null,
            "grid_area": null,
            "grid_auto_columns": null,
            "grid_auto_flow": null,
            "grid_auto_rows": null,
            "grid_column": null,
            "grid_gap": null,
            "grid_row": null,
            "grid_template_areas": null,
            "grid_template_columns": null,
            "grid_template_rows": null,
            "height": null,
            "justify_content": null,
            "justify_items": null,
            "left": null,
            "margin": null,
            "max_height": null,
            "max_width": null,
            "min_height": null,
            "min_width": null,
            "object_fit": null,
            "object_position": null,
            "order": null,
            "overflow": null,
            "overflow_x": null,
            "overflow_y": null,
            "padding": null,
            "right": null,
            "top": null,
            "visibility": null,
            "width": null
          }
        },
        "eb63cd44d04548beb1d2358574195faf": {
          "model_module": "@jupyter-widgets/base",
          "model_name": "LayoutModel",
          "model_module_version": "1.2.0",
          "state": {
            "_model_module": "@jupyter-widgets/base",
            "_model_module_version": "1.2.0",
            "_model_name": "LayoutModel",
            "_view_count": null,
            "_view_module": "@jupyter-widgets/base",
            "_view_module_version": "1.2.0",
            "_view_name": "LayoutView",
            "align_content": null,
            "align_items": null,
            "align_self": null,
            "border": null,
            "bottom": null,
            "display": null,
            "flex": null,
            "flex_flow": null,
            "grid_area": null,
            "grid_auto_columns": null,
            "grid_auto_flow": null,
            "grid_auto_rows": null,
            "grid_column": null,
            "grid_gap": null,
            "grid_row": null,
            "grid_template_areas": null,
            "grid_template_columns": null,
            "grid_template_rows": null,
            "height": null,
            "justify_content": null,
            "justify_items": null,
            "left": null,
            "margin": null,
            "max_height": null,
            "max_width": null,
            "min_height": null,
            "min_width": null,
            "object_fit": null,
            "object_position": null,
            "order": null,
            "overflow": null,
            "overflow_x": null,
            "overflow_y": null,
            "padding": null,
            "right": null,
            "top": null,
            "visibility": null,
            "width": null
          }
        },
        "14a9d2d53efd4c9e82b9cefc6b97ff53": {
          "model_module": "@jupyter-widgets/controls",
          "model_name": "DescriptionStyleModel",
          "model_module_version": "1.5.0",
          "state": {
            "_model_module": "@jupyter-widgets/controls",
            "_model_module_version": "1.5.0",
            "_model_name": "DescriptionStyleModel",
            "_view_count": null,
            "_view_module": "@jupyter-widgets/base",
            "_view_module_version": "1.2.0",
            "_view_name": "StyleView",
            "description_width": ""
          }
        },
        "d7e52821d863475b9f76171483fefeca": {
          "model_module": "@jupyter-widgets/base",
          "model_name": "LayoutModel",
          "model_module_version": "1.2.0",
          "state": {
            "_model_module": "@jupyter-widgets/base",
            "_model_module_version": "1.2.0",
            "_model_name": "LayoutModel",
            "_view_count": null,
            "_view_module": "@jupyter-widgets/base",
            "_view_module_version": "1.2.0",
            "_view_name": "LayoutView",
            "align_content": null,
            "align_items": null,
            "align_self": null,
            "border": null,
            "bottom": null,
            "display": null,
            "flex": null,
            "flex_flow": null,
            "grid_area": null,
            "grid_auto_columns": null,
            "grid_auto_flow": null,
            "grid_auto_rows": null,
            "grid_column": null,
            "grid_gap": null,
            "grid_row": null,
            "grid_template_areas": null,
            "grid_template_columns": null,
            "grid_template_rows": null,
            "height": null,
            "justify_content": null,
            "justify_items": null,
            "left": null,
            "margin": null,
            "max_height": null,
            "max_width": null,
            "min_height": null,
            "min_width": null,
            "object_fit": null,
            "object_position": null,
            "order": null,
            "overflow": null,
            "overflow_x": null,
            "overflow_y": null,
            "padding": null,
            "right": null,
            "top": null,
            "visibility": null,
            "width": null
          }
        },
        "b385ffde10044a18afd81446f4b2bfbd": {
          "model_module": "@jupyter-widgets/controls",
          "model_name": "ProgressStyleModel",
          "model_module_version": "1.5.0",
          "state": {
            "_model_module": "@jupyter-widgets/controls",
            "_model_module_version": "1.5.0",
            "_model_name": "ProgressStyleModel",
            "_view_count": null,
            "_view_module": "@jupyter-widgets/base",
            "_view_module_version": "1.2.0",
            "_view_name": "StyleView",
            "bar_color": null,
            "description_width": ""
          }
        },
        "1c647702435443a0a42b5a35dba1c498": {
          "model_module": "@jupyter-widgets/base",
          "model_name": "LayoutModel",
          "model_module_version": "1.2.0",
          "state": {
            "_model_module": "@jupyter-widgets/base",
            "_model_module_version": "1.2.0",
            "_model_name": "LayoutModel",
            "_view_count": null,
            "_view_module": "@jupyter-widgets/base",
            "_view_module_version": "1.2.0",
            "_view_name": "LayoutView",
            "align_content": null,
            "align_items": null,
            "align_self": null,
            "border": null,
            "bottom": null,
            "display": null,
            "flex": null,
            "flex_flow": null,
            "grid_area": null,
            "grid_auto_columns": null,
            "grid_auto_flow": null,
            "grid_auto_rows": null,
            "grid_column": null,
            "grid_gap": null,
            "grid_row": null,
            "grid_template_areas": null,
            "grid_template_columns": null,
            "grid_template_rows": null,
            "height": null,
            "justify_content": null,
            "justify_items": null,
            "left": null,
            "margin": null,
            "max_height": null,
            "max_width": null,
            "min_height": null,
            "min_width": null,
            "object_fit": null,
            "object_position": null,
            "order": null,
            "overflow": null,
            "overflow_x": null,
            "overflow_y": null,
            "padding": null,
            "right": null,
            "top": null,
            "visibility": null,
            "width": null
          }
        },
        "08f29ead834049b89dc9efe28ed0d353": {
          "model_module": "@jupyter-widgets/controls",
          "model_name": "DescriptionStyleModel",
          "model_module_version": "1.5.0",
          "state": {
            "_model_module": "@jupyter-widgets/controls",
            "_model_module_version": "1.5.0",
            "_model_name": "DescriptionStyleModel",
            "_view_count": null,
            "_view_module": "@jupyter-widgets/base",
            "_view_module_version": "1.2.0",
            "_view_name": "StyleView",
            "description_width": ""
          }
        },
        "10cf9b174dcb4a7c9d8425b1f463bb4b": {
          "model_module": "@jupyter-widgets/controls",
          "model_name": "HBoxModel",
          "model_module_version": "1.5.0",
          "state": {
            "_dom_classes": [],
            "_model_module": "@jupyter-widgets/controls",
            "_model_module_version": "1.5.0",
            "_model_name": "HBoxModel",
            "_view_count": null,
            "_view_module": "@jupyter-widgets/controls",
            "_view_module_version": "1.5.0",
            "_view_name": "HBoxView",
            "box_style": "",
            "children": [
              "IPY_MODEL_4761483e5c7d44d79c2db471aaed2618",
              "IPY_MODEL_1ed866bab40446de8d01b48873d691b7",
              "IPY_MODEL_b9f3fa69c66d4dc09c51b7d441bd1533"
            ],
            "layout": "IPY_MODEL_04d7d4cd17304201953cd7be3d54bbaa"
          }
        },
        "4761483e5c7d44d79c2db471aaed2618": {
          "model_module": "@jupyter-widgets/controls",
          "model_name": "HTMLModel",
          "model_module_version": "1.5.0",
          "state": {
            "_dom_classes": [],
            "_model_module": "@jupyter-widgets/controls",
            "_model_module_version": "1.5.0",
            "_model_name": "HTMLModel",
            "_view_count": null,
            "_view_module": "@jupyter-widgets/controls",
            "_view_module_version": "1.5.0",
            "_view_name": "HTMLView",
            "description": "",
            "description_tooltip": null,
            "layout": "IPY_MODEL_70b29dd357e946268e568ad9d255371b",
            "placeholder": "​",
            "style": "IPY_MODEL_84292a5a1392497886a91328c79abf9a",
            "value": "Downloading (…)solve/main/vocab.txt: 100%"
          }
        },
        "1ed866bab40446de8d01b48873d691b7": {
          "model_module": "@jupyter-widgets/controls",
          "model_name": "FloatProgressModel",
          "model_module_version": "1.5.0",
          "state": {
            "_dom_classes": [],
            "_model_module": "@jupyter-widgets/controls",
            "_model_module_version": "1.5.0",
            "_model_name": "FloatProgressModel",
            "_view_count": null,
            "_view_module": "@jupyter-widgets/controls",
            "_view_module_version": "1.5.0",
            "_view_name": "ProgressView",
            "bar_style": "success",
            "description": "",
            "description_tooltip": null,
            "layout": "IPY_MODEL_2545a027699a4a9ab6e3086151a4603a",
            "max": 213450,
            "min": 0,
            "orientation": "horizontal",
            "style": "IPY_MODEL_ee8006d9c157431c895e97195cff4573",
            "value": 213450
          }
        },
        "b9f3fa69c66d4dc09c51b7d441bd1533": {
          "model_module": "@jupyter-widgets/controls",
          "model_name": "HTMLModel",
          "model_module_version": "1.5.0",
          "state": {
            "_dom_classes": [],
            "_model_module": "@jupyter-widgets/controls",
            "_model_module_version": "1.5.0",
            "_model_name": "HTMLModel",
            "_view_count": null,
            "_view_module": "@jupyter-widgets/controls",
            "_view_module_version": "1.5.0",
            "_view_name": "HTMLView",
            "description": "",
            "description_tooltip": null,
            "layout": "IPY_MODEL_b45049e608aa4545b901a2f0294c5244",
            "placeholder": "​",
            "style": "IPY_MODEL_5eadacd6c38e44f09a6654fd9d5539dd",
            "value": " 213k/213k [00:00&lt;00:00, 1.55MB/s]"
          }
        },
        "04d7d4cd17304201953cd7be3d54bbaa": {
          "model_module": "@jupyter-widgets/base",
          "model_name": "LayoutModel",
          "model_module_version": "1.2.0",
          "state": {
            "_model_module": "@jupyter-widgets/base",
            "_model_module_version": "1.2.0",
            "_model_name": "LayoutModel",
            "_view_count": null,
            "_view_module": "@jupyter-widgets/base",
            "_view_module_version": "1.2.0",
            "_view_name": "LayoutView",
            "align_content": null,
            "align_items": null,
            "align_self": null,
            "border": null,
            "bottom": null,
            "display": null,
            "flex": null,
            "flex_flow": null,
            "grid_area": null,
            "grid_auto_columns": null,
            "grid_auto_flow": null,
            "grid_auto_rows": null,
            "grid_column": null,
            "grid_gap": null,
            "grid_row": null,
            "grid_template_areas": null,
            "grid_template_columns": null,
            "grid_template_rows": null,
            "height": null,
            "justify_content": null,
            "justify_items": null,
            "left": null,
            "margin": null,
            "max_height": null,
            "max_width": null,
            "min_height": null,
            "min_width": null,
            "object_fit": null,
            "object_position": null,
            "order": null,
            "overflow": null,
            "overflow_x": null,
            "overflow_y": null,
            "padding": null,
            "right": null,
            "top": null,
            "visibility": null,
            "width": null
          }
        },
        "70b29dd357e946268e568ad9d255371b": {
          "model_module": "@jupyter-widgets/base",
          "model_name": "LayoutModel",
          "model_module_version": "1.2.0",
          "state": {
            "_model_module": "@jupyter-widgets/base",
            "_model_module_version": "1.2.0",
            "_model_name": "LayoutModel",
            "_view_count": null,
            "_view_module": "@jupyter-widgets/base",
            "_view_module_version": "1.2.0",
            "_view_name": "LayoutView",
            "align_content": null,
            "align_items": null,
            "align_self": null,
            "border": null,
            "bottom": null,
            "display": null,
            "flex": null,
            "flex_flow": null,
            "grid_area": null,
            "grid_auto_columns": null,
            "grid_auto_flow": null,
            "grid_auto_rows": null,
            "grid_column": null,
            "grid_gap": null,
            "grid_row": null,
            "grid_template_areas": null,
            "grid_template_columns": null,
            "grid_template_rows": null,
            "height": null,
            "justify_content": null,
            "justify_items": null,
            "left": null,
            "margin": null,
            "max_height": null,
            "max_width": null,
            "min_height": null,
            "min_width": null,
            "object_fit": null,
            "object_position": null,
            "order": null,
            "overflow": null,
            "overflow_x": null,
            "overflow_y": null,
            "padding": null,
            "right": null,
            "top": null,
            "visibility": null,
            "width": null
          }
        },
        "84292a5a1392497886a91328c79abf9a": {
          "model_module": "@jupyter-widgets/controls",
          "model_name": "DescriptionStyleModel",
          "model_module_version": "1.5.0",
          "state": {
            "_model_module": "@jupyter-widgets/controls",
            "_model_module_version": "1.5.0",
            "_model_name": "DescriptionStyleModel",
            "_view_count": null,
            "_view_module": "@jupyter-widgets/base",
            "_view_module_version": "1.2.0",
            "_view_name": "StyleView",
            "description_width": ""
          }
        },
        "2545a027699a4a9ab6e3086151a4603a": {
          "model_module": "@jupyter-widgets/base",
          "model_name": "LayoutModel",
          "model_module_version": "1.2.0",
          "state": {
            "_model_module": "@jupyter-widgets/base",
            "_model_module_version": "1.2.0",
            "_model_name": "LayoutModel",
            "_view_count": null,
            "_view_module": "@jupyter-widgets/base",
            "_view_module_version": "1.2.0",
            "_view_name": "LayoutView",
            "align_content": null,
            "align_items": null,
            "align_self": null,
            "border": null,
            "bottom": null,
            "display": null,
            "flex": null,
            "flex_flow": null,
            "grid_area": null,
            "grid_auto_columns": null,
            "grid_auto_flow": null,
            "grid_auto_rows": null,
            "grid_column": null,
            "grid_gap": null,
            "grid_row": null,
            "grid_template_areas": null,
            "grid_template_columns": null,
            "grid_template_rows": null,
            "height": null,
            "justify_content": null,
            "justify_items": null,
            "left": null,
            "margin": null,
            "max_height": null,
            "max_width": null,
            "min_height": null,
            "min_width": null,
            "object_fit": null,
            "object_position": null,
            "order": null,
            "overflow": null,
            "overflow_x": null,
            "overflow_y": null,
            "padding": null,
            "right": null,
            "top": null,
            "visibility": null,
            "width": null
          }
        },
        "ee8006d9c157431c895e97195cff4573": {
          "model_module": "@jupyter-widgets/controls",
          "model_name": "ProgressStyleModel",
          "model_module_version": "1.5.0",
          "state": {
            "_model_module": "@jupyter-widgets/controls",
            "_model_module_version": "1.5.0",
            "_model_name": "ProgressStyleModel",
            "_view_count": null,
            "_view_module": "@jupyter-widgets/base",
            "_view_module_version": "1.2.0",
            "_view_name": "StyleView",
            "bar_color": null,
            "description_width": ""
          }
        },
        "b45049e608aa4545b901a2f0294c5244": {
          "model_module": "@jupyter-widgets/base",
          "model_name": "LayoutModel",
          "model_module_version": "1.2.0",
          "state": {
            "_model_module": "@jupyter-widgets/base",
            "_model_module_version": "1.2.0",
            "_model_name": "LayoutModel",
            "_view_count": null,
            "_view_module": "@jupyter-widgets/base",
            "_view_module_version": "1.2.0",
            "_view_name": "LayoutView",
            "align_content": null,
            "align_items": null,
            "align_self": null,
            "border": null,
            "bottom": null,
            "display": null,
            "flex": null,
            "flex_flow": null,
            "grid_area": null,
            "grid_auto_columns": null,
            "grid_auto_flow": null,
            "grid_auto_rows": null,
            "grid_column": null,
            "grid_gap": null,
            "grid_row": null,
            "grid_template_areas": null,
            "grid_template_columns": null,
            "grid_template_rows": null,
            "height": null,
            "justify_content": null,
            "justify_items": null,
            "left": null,
            "margin": null,
            "max_height": null,
            "max_width": null,
            "min_height": null,
            "min_width": null,
            "object_fit": null,
            "object_position": null,
            "order": null,
            "overflow": null,
            "overflow_x": null,
            "overflow_y": null,
            "padding": null,
            "right": null,
            "top": null,
            "visibility": null,
            "width": null
          }
        },
        "5eadacd6c38e44f09a6654fd9d5539dd": {
          "model_module": "@jupyter-widgets/controls",
          "model_name": "DescriptionStyleModel",
          "model_module_version": "1.5.0",
          "state": {
            "_model_module": "@jupyter-widgets/controls",
            "_model_module_version": "1.5.0",
            "_model_name": "DescriptionStyleModel",
            "_view_count": null,
            "_view_module": "@jupyter-widgets/base",
            "_view_module_version": "1.2.0",
            "_view_name": "StyleView",
            "description_width": ""
          }
        },
        "14a85e8d76d34cc09402e778d6c96bdf": {
          "model_module": "@jupyter-widgets/controls",
          "model_name": "HBoxModel",
          "model_module_version": "1.5.0",
          "state": {
            "_dom_classes": [],
            "_model_module": "@jupyter-widgets/controls",
            "_model_module_version": "1.5.0",
            "_model_name": "HBoxModel",
            "_view_count": null,
            "_view_module": "@jupyter-widgets/controls",
            "_view_module_version": "1.5.0",
            "_view_name": "HBoxView",
            "box_style": "",
            "children": [
              "IPY_MODEL_9a9dca898b7b4d54a060c67720829251",
              "IPY_MODEL_84719e983dab41569241f963d5a4c1c6",
              "IPY_MODEL_1eb1521b025d401580c0d29c22d50d8e"
            ],
            "layout": "IPY_MODEL_d8d180caedd9475085a264f85cb24d28"
          }
        },
        "9a9dca898b7b4d54a060c67720829251": {
          "model_module": "@jupyter-widgets/controls",
          "model_name": "HTMLModel",
          "model_module_version": "1.5.0",
          "state": {
            "_dom_classes": [],
            "_model_module": "@jupyter-widgets/controls",
            "_model_module_version": "1.5.0",
            "_model_name": "HTMLModel",
            "_view_count": null,
            "_view_module": "@jupyter-widgets/controls",
            "_view_module_version": "1.5.0",
            "_view_name": "HTMLView",
            "description": "",
            "description_tooltip": null,
            "layout": "IPY_MODEL_42f75d8d7a2c4853931d37f2018e3f41",
            "placeholder": "​",
            "style": "IPY_MODEL_03d81d463e1a4bf09a3ff909f0838d79",
            "value": "Downloading (…)/main/tokenizer.json: 100%"
          }
        },
        "84719e983dab41569241f963d5a4c1c6": {
          "model_module": "@jupyter-widgets/controls",
          "model_name": "FloatProgressModel",
          "model_module_version": "1.5.0",
          "state": {
            "_dom_classes": [],
            "_model_module": "@jupyter-widgets/controls",
            "_model_module_version": "1.5.0",
            "_model_name": "FloatProgressModel",
            "_view_count": null,
            "_view_module": "@jupyter-widgets/controls",
            "_view_module_version": "1.5.0",
            "_view_name": "ProgressView",
            "bar_style": "success",
            "description": "",
            "description_tooltip": null,
            "layout": "IPY_MODEL_f6b6307ac2f9465d9e06b5c1ccdc0ef7",
            "max": 435797,
            "min": 0,
            "orientation": "horizontal",
            "style": "IPY_MODEL_01a8140ad94d492a8a741ee1cad052a4",
            "value": 435797
          }
        },
        "1eb1521b025d401580c0d29c22d50d8e": {
          "model_module": "@jupyter-widgets/controls",
          "model_name": "HTMLModel",
          "model_module_version": "1.5.0",
          "state": {
            "_dom_classes": [],
            "_model_module": "@jupyter-widgets/controls",
            "_model_module_version": "1.5.0",
            "_model_name": "HTMLModel",
            "_view_count": null,
            "_view_module": "@jupyter-widgets/controls",
            "_view_module_version": "1.5.0",
            "_view_name": "HTMLView",
            "description": "",
            "description_tooltip": null,
            "layout": "IPY_MODEL_922fadd691fc488bb52fe52ed917f67c",
            "placeholder": "​",
            "style": "IPY_MODEL_65c24f5276374ef98b5d8ab0525ea936",
            "value": " 436k/436k [00:00&lt;00:00, 6.30MB/s]"
          }
        },
        "d8d180caedd9475085a264f85cb24d28": {
          "model_module": "@jupyter-widgets/base",
          "model_name": "LayoutModel",
          "model_module_version": "1.2.0",
          "state": {
            "_model_module": "@jupyter-widgets/base",
            "_model_module_version": "1.2.0",
            "_model_name": "LayoutModel",
            "_view_count": null,
            "_view_module": "@jupyter-widgets/base",
            "_view_module_version": "1.2.0",
            "_view_name": "LayoutView",
            "align_content": null,
            "align_items": null,
            "align_self": null,
            "border": null,
            "bottom": null,
            "display": null,
            "flex": null,
            "flex_flow": null,
            "grid_area": null,
            "grid_auto_columns": null,
            "grid_auto_flow": null,
            "grid_auto_rows": null,
            "grid_column": null,
            "grid_gap": null,
            "grid_row": null,
            "grid_template_areas": null,
            "grid_template_columns": null,
            "grid_template_rows": null,
            "height": null,
            "justify_content": null,
            "justify_items": null,
            "left": null,
            "margin": null,
            "max_height": null,
            "max_width": null,
            "min_height": null,
            "min_width": null,
            "object_fit": null,
            "object_position": null,
            "order": null,
            "overflow": null,
            "overflow_x": null,
            "overflow_y": null,
            "padding": null,
            "right": null,
            "top": null,
            "visibility": null,
            "width": null
          }
        },
        "42f75d8d7a2c4853931d37f2018e3f41": {
          "model_module": "@jupyter-widgets/base",
          "model_name": "LayoutModel",
          "model_module_version": "1.2.0",
          "state": {
            "_model_module": "@jupyter-widgets/base",
            "_model_module_version": "1.2.0",
            "_model_name": "LayoutModel",
            "_view_count": null,
            "_view_module": "@jupyter-widgets/base",
            "_view_module_version": "1.2.0",
            "_view_name": "LayoutView",
            "align_content": null,
            "align_items": null,
            "align_self": null,
            "border": null,
            "bottom": null,
            "display": null,
            "flex": null,
            "flex_flow": null,
            "grid_area": null,
            "grid_auto_columns": null,
            "grid_auto_flow": null,
            "grid_auto_rows": null,
            "grid_column": null,
            "grid_gap": null,
            "grid_row": null,
            "grid_template_areas": null,
            "grid_template_columns": null,
            "grid_template_rows": null,
            "height": null,
            "justify_content": null,
            "justify_items": null,
            "left": null,
            "margin": null,
            "max_height": null,
            "max_width": null,
            "min_height": null,
            "min_width": null,
            "object_fit": null,
            "object_position": null,
            "order": null,
            "overflow": null,
            "overflow_x": null,
            "overflow_y": null,
            "padding": null,
            "right": null,
            "top": null,
            "visibility": null,
            "width": null
          }
        },
        "03d81d463e1a4bf09a3ff909f0838d79": {
          "model_module": "@jupyter-widgets/controls",
          "model_name": "DescriptionStyleModel",
          "model_module_version": "1.5.0",
          "state": {
            "_model_module": "@jupyter-widgets/controls",
            "_model_module_version": "1.5.0",
            "_model_name": "DescriptionStyleModel",
            "_view_count": null,
            "_view_module": "@jupyter-widgets/base",
            "_view_module_version": "1.2.0",
            "_view_name": "StyleView",
            "description_width": ""
          }
        },
        "f6b6307ac2f9465d9e06b5c1ccdc0ef7": {
          "model_module": "@jupyter-widgets/base",
          "model_name": "LayoutModel",
          "model_module_version": "1.2.0",
          "state": {
            "_model_module": "@jupyter-widgets/base",
            "_model_module_version": "1.2.0",
            "_model_name": "LayoutModel",
            "_view_count": null,
            "_view_module": "@jupyter-widgets/base",
            "_view_module_version": "1.2.0",
            "_view_name": "LayoutView",
            "align_content": null,
            "align_items": null,
            "align_self": null,
            "border": null,
            "bottom": null,
            "display": null,
            "flex": null,
            "flex_flow": null,
            "grid_area": null,
            "grid_auto_columns": null,
            "grid_auto_flow": null,
            "grid_auto_rows": null,
            "grid_column": null,
            "grid_gap": null,
            "grid_row": null,
            "grid_template_areas": null,
            "grid_template_columns": null,
            "grid_template_rows": null,
            "height": null,
            "justify_content": null,
            "justify_items": null,
            "left": null,
            "margin": null,
            "max_height": null,
            "max_width": null,
            "min_height": null,
            "min_width": null,
            "object_fit": null,
            "object_position": null,
            "order": null,
            "overflow": null,
            "overflow_x": null,
            "overflow_y": null,
            "padding": null,
            "right": null,
            "top": null,
            "visibility": null,
            "width": null
          }
        },
        "01a8140ad94d492a8a741ee1cad052a4": {
          "model_module": "@jupyter-widgets/controls",
          "model_name": "ProgressStyleModel",
          "model_module_version": "1.5.0",
          "state": {
            "_model_module": "@jupyter-widgets/controls",
            "_model_module_version": "1.5.0",
            "_model_name": "ProgressStyleModel",
            "_view_count": null,
            "_view_module": "@jupyter-widgets/base",
            "_view_module_version": "1.2.0",
            "_view_name": "StyleView",
            "bar_color": null,
            "description_width": ""
          }
        },
        "922fadd691fc488bb52fe52ed917f67c": {
          "model_module": "@jupyter-widgets/base",
          "model_name": "LayoutModel",
          "model_module_version": "1.2.0",
          "state": {
            "_model_module": "@jupyter-widgets/base",
            "_model_module_version": "1.2.0",
            "_model_name": "LayoutModel",
            "_view_count": null,
            "_view_module": "@jupyter-widgets/base",
            "_view_module_version": "1.2.0",
            "_view_name": "LayoutView",
            "align_content": null,
            "align_items": null,
            "align_self": null,
            "border": null,
            "bottom": null,
            "display": null,
            "flex": null,
            "flex_flow": null,
            "grid_area": null,
            "grid_auto_columns": null,
            "grid_auto_flow": null,
            "grid_auto_rows": null,
            "grid_column": null,
            "grid_gap": null,
            "grid_row": null,
            "grid_template_areas": null,
            "grid_template_columns": null,
            "grid_template_rows": null,
            "height": null,
            "justify_content": null,
            "justify_items": null,
            "left": null,
            "margin": null,
            "max_height": null,
            "max_width": null,
            "min_height": null,
            "min_width": null,
            "object_fit": null,
            "object_position": null,
            "order": null,
            "overflow": null,
            "overflow_x": null,
            "overflow_y": null,
            "padding": null,
            "right": null,
            "top": null,
            "visibility": null,
            "width": null
          }
        },
        "65c24f5276374ef98b5d8ab0525ea936": {
          "model_module": "@jupyter-widgets/controls",
          "model_name": "DescriptionStyleModel",
          "model_module_version": "1.5.0",
          "state": {
            "_model_module": "@jupyter-widgets/controls",
            "_model_module_version": "1.5.0",
            "_model_name": "DescriptionStyleModel",
            "_view_count": null,
            "_view_module": "@jupyter-widgets/base",
            "_view_module_version": "1.2.0",
            "_view_name": "StyleView",
            "description_width": ""
          }
        },
        "3088649222bd412fa7fa6ddbac325055": {
          "model_module": "@jupyter-widgets/controls",
          "model_name": "HBoxModel",
          "model_module_version": "1.5.0",
          "state": {
            "_dom_classes": [],
            "_model_module": "@jupyter-widgets/controls",
            "_model_module_version": "1.5.0",
            "_model_name": "HBoxModel",
            "_view_count": null,
            "_view_module": "@jupyter-widgets/controls",
            "_view_module_version": "1.5.0",
            "_view_name": "HBoxView",
            "box_style": "",
            "children": [
              "IPY_MODEL_d43429fb392d470aaa801953ca9cb24e",
              "IPY_MODEL_721ddd599a6d4e99b5d27dc2dd415a57",
              "IPY_MODEL_ffd73b7567cc47a382d57b1fb769dbc0"
            ],
            "layout": "IPY_MODEL_1a1ece4a7c0d457e81250a59044aa764"
          }
        },
        "d43429fb392d470aaa801953ca9cb24e": {
          "model_module": "@jupyter-widgets/controls",
          "model_name": "HTMLModel",
          "model_module_version": "1.5.0",
          "state": {
            "_dom_classes": [],
            "_model_module": "@jupyter-widgets/controls",
            "_model_module_version": "1.5.0",
            "_model_name": "HTMLModel",
            "_view_count": null,
            "_view_module": "@jupyter-widgets/controls",
            "_view_module_version": "1.5.0",
            "_view_name": "HTMLView",
            "description": "",
            "description_tooltip": null,
            "layout": "IPY_MODEL_d87e7a0299534d7b9bdba117666521cf",
            "placeholder": "​",
            "style": "IPY_MODEL_a4683bdd79734007ad7176d9bbe164b8",
            "value": "Map: 100%"
          }
        },
        "721ddd599a6d4e99b5d27dc2dd415a57": {
          "model_module": "@jupyter-widgets/controls",
          "model_name": "FloatProgressModel",
          "model_module_version": "1.5.0",
          "state": {
            "_dom_classes": [],
            "_model_module": "@jupyter-widgets/controls",
            "_model_module_version": "1.5.0",
            "_model_name": "FloatProgressModel",
            "_view_count": null,
            "_view_module": "@jupyter-widgets/controls",
            "_view_module_version": "1.5.0",
            "_view_name": "ProgressView",
            "bar_style": "success",
            "description": "",
            "description_tooltip": null,
            "layout": "IPY_MODEL_c75e6cd2fc9b4bfe91b20815a5d2ebf5",
            "max": 14041,
            "min": 0,
            "orientation": "horizontal",
            "style": "IPY_MODEL_8cbfcc03b90e4e27b5565253de3adb9f",
            "value": 14041
          }
        },
        "ffd73b7567cc47a382d57b1fb769dbc0": {
          "model_module": "@jupyter-widgets/controls",
          "model_name": "HTMLModel",
          "model_module_version": "1.5.0",
          "state": {
            "_dom_classes": [],
            "_model_module": "@jupyter-widgets/controls",
            "_model_module_version": "1.5.0",
            "_model_name": "HTMLModel",
            "_view_count": null,
            "_view_module": "@jupyter-widgets/controls",
            "_view_module_version": "1.5.0",
            "_view_name": "HTMLView",
            "description": "",
            "description_tooltip": null,
            "layout": "IPY_MODEL_f55478a2d0844573b9bcdb301716da0a",
            "placeholder": "​",
            "style": "IPY_MODEL_ef8ea5ec7add4d0e90ceb531fde5a0cc",
            "value": " 14041/14041 [00:04&lt;00:00, 3605.77 examples/s]"
          }
        },
        "1a1ece4a7c0d457e81250a59044aa764": {
          "model_module": "@jupyter-widgets/base",
          "model_name": "LayoutModel",
          "model_module_version": "1.2.0",
          "state": {
            "_model_module": "@jupyter-widgets/base",
            "_model_module_version": "1.2.0",
            "_model_name": "LayoutModel",
            "_view_count": null,
            "_view_module": "@jupyter-widgets/base",
            "_view_module_version": "1.2.0",
            "_view_name": "LayoutView",
            "align_content": null,
            "align_items": null,
            "align_self": null,
            "border": null,
            "bottom": null,
            "display": null,
            "flex": null,
            "flex_flow": null,
            "grid_area": null,
            "grid_auto_columns": null,
            "grid_auto_flow": null,
            "grid_auto_rows": null,
            "grid_column": null,
            "grid_gap": null,
            "grid_row": null,
            "grid_template_areas": null,
            "grid_template_columns": null,
            "grid_template_rows": null,
            "height": null,
            "justify_content": null,
            "justify_items": null,
            "left": null,
            "margin": null,
            "max_height": null,
            "max_width": null,
            "min_height": null,
            "min_width": null,
            "object_fit": null,
            "object_position": null,
            "order": null,
            "overflow": null,
            "overflow_x": null,
            "overflow_y": null,
            "padding": null,
            "right": null,
            "top": null,
            "visibility": null,
            "width": null
          }
        },
        "d87e7a0299534d7b9bdba117666521cf": {
          "model_module": "@jupyter-widgets/base",
          "model_name": "LayoutModel",
          "model_module_version": "1.2.0",
          "state": {
            "_model_module": "@jupyter-widgets/base",
            "_model_module_version": "1.2.0",
            "_model_name": "LayoutModel",
            "_view_count": null,
            "_view_module": "@jupyter-widgets/base",
            "_view_module_version": "1.2.0",
            "_view_name": "LayoutView",
            "align_content": null,
            "align_items": null,
            "align_self": null,
            "border": null,
            "bottom": null,
            "display": null,
            "flex": null,
            "flex_flow": null,
            "grid_area": null,
            "grid_auto_columns": null,
            "grid_auto_flow": null,
            "grid_auto_rows": null,
            "grid_column": null,
            "grid_gap": null,
            "grid_row": null,
            "grid_template_areas": null,
            "grid_template_columns": null,
            "grid_template_rows": null,
            "height": null,
            "justify_content": null,
            "justify_items": null,
            "left": null,
            "margin": null,
            "max_height": null,
            "max_width": null,
            "min_height": null,
            "min_width": null,
            "object_fit": null,
            "object_position": null,
            "order": null,
            "overflow": null,
            "overflow_x": null,
            "overflow_y": null,
            "padding": null,
            "right": null,
            "top": null,
            "visibility": null,
            "width": null
          }
        },
        "a4683bdd79734007ad7176d9bbe164b8": {
          "model_module": "@jupyter-widgets/controls",
          "model_name": "DescriptionStyleModel",
          "model_module_version": "1.5.0",
          "state": {
            "_model_module": "@jupyter-widgets/controls",
            "_model_module_version": "1.5.0",
            "_model_name": "DescriptionStyleModel",
            "_view_count": null,
            "_view_module": "@jupyter-widgets/base",
            "_view_module_version": "1.2.0",
            "_view_name": "StyleView",
            "description_width": ""
          }
        },
        "c75e6cd2fc9b4bfe91b20815a5d2ebf5": {
          "model_module": "@jupyter-widgets/base",
          "model_name": "LayoutModel",
          "model_module_version": "1.2.0",
          "state": {
            "_model_module": "@jupyter-widgets/base",
            "_model_module_version": "1.2.0",
            "_model_name": "LayoutModel",
            "_view_count": null,
            "_view_module": "@jupyter-widgets/base",
            "_view_module_version": "1.2.0",
            "_view_name": "LayoutView",
            "align_content": null,
            "align_items": null,
            "align_self": null,
            "border": null,
            "bottom": null,
            "display": null,
            "flex": null,
            "flex_flow": null,
            "grid_area": null,
            "grid_auto_columns": null,
            "grid_auto_flow": null,
            "grid_auto_rows": null,
            "grid_column": null,
            "grid_gap": null,
            "grid_row": null,
            "grid_template_areas": null,
            "grid_template_columns": null,
            "grid_template_rows": null,
            "height": null,
            "justify_content": null,
            "justify_items": null,
            "left": null,
            "margin": null,
            "max_height": null,
            "max_width": null,
            "min_height": null,
            "min_width": null,
            "object_fit": null,
            "object_position": null,
            "order": null,
            "overflow": null,
            "overflow_x": null,
            "overflow_y": null,
            "padding": null,
            "right": null,
            "top": null,
            "visibility": null,
            "width": null
          }
        },
        "8cbfcc03b90e4e27b5565253de3adb9f": {
          "model_module": "@jupyter-widgets/controls",
          "model_name": "ProgressStyleModel",
          "model_module_version": "1.5.0",
          "state": {
            "_model_module": "@jupyter-widgets/controls",
            "_model_module_version": "1.5.0",
            "_model_name": "ProgressStyleModel",
            "_view_count": null,
            "_view_module": "@jupyter-widgets/base",
            "_view_module_version": "1.2.0",
            "_view_name": "StyleView",
            "bar_color": null,
            "description_width": ""
          }
        },
        "f55478a2d0844573b9bcdb301716da0a": {
          "model_module": "@jupyter-widgets/base",
          "model_name": "LayoutModel",
          "model_module_version": "1.2.0",
          "state": {
            "_model_module": "@jupyter-widgets/base",
            "_model_module_version": "1.2.0",
            "_model_name": "LayoutModel",
            "_view_count": null,
            "_view_module": "@jupyter-widgets/base",
            "_view_module_version": "1.2.0",
            "_view_name": "LayoutView",
            "align_content": null,
            "align_items": null,
            "align_self": null,
            "border": null,
            "bottom": null,
            "display": null,
            "flex": null,
            "flex_flow": null,
            "grid_area": null,
            "grid_auto_columns": null,
            "grid_auto_flow": null,
            "grid_auto_rows": null,
            "grid_column": null,
            "grid_gap": null,
            "grid_row": null,
            "grid_template_areas": null,
            "grid_template_columns": null,
            "grid_template_rows": null,
            "height": null,
            "justify_content": null,
            "justify_items": null,
            "left": null,
            "margin": null,
            "max_height": null,
            "max_width": null,
            "min_height": null,
            "min_width": null,
            "object_fit": null,
            "object_position": null,
            "order": null,
            "overflow": null,
            "overflow_x": null,
            "overflow_y": null,
            "padding": null,
            "right": null,
            "top": null,
            "visibility": null,
            "width": null
          }
        },
        "ef8ea5ec7add4d0e90ceb531fde5a0cc": {
          "model_module": "@jupyter-widgets/controls",
          "model_name": "DescriptionStyleModel",
          "model_module_version": "1.5.0",
          "state": {
            "_model_module": "@jupyter-widgets/controls",
            "_model_module_version": "1.5.0",
            "_model_name": "DescriptionStyleModel",
            "_view_count": null,
            "_view_module": "@jupyter-widgets/base",
            "_view_module_version": "1.2.0",
            "_view_name": "StyleView",
            "description_width": ""
          }
        },
        "19c9a8dd02bf45a982fa53a3a705e4b5": {
          "model_module": "@jupyter-widgets/controls",
          "model_name": "HBoxModel",
          "model_module_version": "1.5.0",
          "state": {
            "_dom_classes": [],
            "_model_module": "@jupyter-widgets/controls",
            "_model_module_version": "1.5.0",
            "_model_name": "HBoxModel",
            "_view_count": null,
            "_view_module": "@jupyter-widgets/controls",
            "_view_module_version": "1.5.0",
            "_view_name": "HBoxView",
            "box_style": "",
            "children": [
              "IPY_MODEL_502e9a5cdd3d41bdb7018869554f94cc",
              "IPY_MODEL_fd9e263892ca41538787b7f794f4643b",
              "IPY_MODEL_1022701d5d274e5c84bbddc69a1a343f"
            ],
            "layout": "IPY_MODEL_7a47583a69ca4889bbc915c00a436970"
          }
        },
        "502e9a5cdd3d41bdb7018869554f94cc": {
          "model_module": "@jupyter-widgets/controls",
          "model_name": "HTMLModel",
          "model_module_version": "1.5.0",
          "state": {
            "_dom_classes": [],
            "_model_module": "@jupyter-widgets/controls",
            "_model_module_version": "1.5.0",
            "_model_name": "HTMLModel",
            "_view_count": null,
            "_view_module": "@jupyter-widgets/controls",
            "_view_module_version": "1.5.0",
            "_view_name": "HTMLView",
            "description": "",
            "description_tooltip": null,
            "layout": "IPY_MODEL_205c309301d1482b8d52a7edc0bc9c66",
            "placeholder": "​",
            "style": "IPY_MODEL_958826c05f2846a5825f932e729a2211",
            "value": "Map: 100%"
          }
        },
        "fd9e263892ca41538787b7f794f4643b": {
          "model_module": "@jupyter-widgets/controls",
          "model_name": "FloatProgressModel",
          "model_module_version": "1.5.0",
          "state": {
            "_dom_classes": [],
            "_model_module": "@jupyter-widgets/controls",
            "_model_module_version": "1.5.0",
            "_model_name": "FloatProgressModel",
            "_view_count": null,
            "_view_module": "@jupyter-widgets/controls",
            "_view_module_version": "1.5.0",
            "_view_name": "ProgressView",
            "bar_style": "success",
            "description": "",
            "description_tooltip": null,
            "layout": "IPY_MODEL_2e18a6f4348b462190b07681ec10a9b7",
            "max": 3250,
            "min": 0,
            "orientation": "horizontal",
            "style": "IPY_MODEL_c34d9e04bb914404929786b605e333da",
            "value": 3250
          }
        },
        "1022701d5d274e5c84bbddc69a1a343f": {
          "model_module": "@jupyter-widgets/controls",
          "model_name": "HTMLModel",
          "model_module_version": "1.5.0",
          "state": {
            "_dom_classes": [],
            "_model_module": "@jupyter-widgets/controls",
            "_model_module_version": "1.5.0",
            "_model_name": "HTMLModel",
            "_view_count": null,
            "_view_module": "@jupyter-widgets/controls",
            "_view_module_version": "1.5.0",
            "_view_name": "HTMLView",
            "description": "",
            "description_tooltip": null,
            "layout": "IPY_MODEL_1f8c93961cfb4064923b5ecdc278c0c7",
            "placeholder": "​",
            "style": "IPY_MODEL_bdc6403e1f0543c79c6e533a8e105f63",
            "value": " 3250/3250 [00:00&lt;00:00, 3621.33 examples/s]"
          }
        },
        "7a47583a69ca4889bbc915c00a436970": {
          "model_module": "@jupyter-widgets/base",
          "model_name": "LayoutModel",
          "model_module_version": "1.2.0",
          "state": {
            "_model_module": "@jupyter-widgets/base",
            "_model_module_version": "1.2.0",
            "_model_name": "LayoutModel",
            "_view_count": null,
            "_view_module": "@jupyter-widgets/base",
            "_view_module_version": "1.2.0",
            "_view_name": "LayoutView",
            "align_content": null,
            "align_items": null,
            "align_self": null,
            "border": null,
            "bottom": null,
            "display": null,
            "flex": null,
            "flex_flow": null,
            "grid_area": null,
            "grid_auto_columns": null,
            "grid_auto_flow": null,
            "grid_auto_rows": null,
            "grid_column": null,
            "grid_gap": null,
            "grid_row": null,
            "grid_template_areas": null,
            "grid_template_columns": null,
            "grid_template_rows": null,
            "height": null,
            "justify_content": null,
            "justify_items": null,
            "left": null,
            "margin": null,
            "max_height": null,
            "max_width": null,
            "min_height": null,
            "min_width": null,
            "object_fit": null,
            "object_position": null,
            "order": null,
            "overflow": null,
            "overflow_x": null,
            "overflow_y": null,
            "padding": null,
            "right": null,
            "top": null,
            "visibility": null,
            "width": null
          }
        },
        "205c309301d1482b8d52a7edc0bc9c66": {
          "model_module": "@jupyter-widgets/base",
          "model_name": "LayoutModel",
          "model_module_version": "1.2.0",
          "state": {
            "_model_module": "@jupyter-widgets/base",
            "_model_module_version": "1.2.0",
            "_model_name": "LayoutModel",
            "_view_count": null,
            "_view_module": "@jupyter-widgets/base",
            "_view_module_version": "1.2.0",
            "_view_name": "LayoutView",
            "align_content": null,
            "align_items": null,
            "align_self": null,
            "border": null,
            "bottom": null,
            "display": null,
            "flex": null,
            "flex_flow": null,
            "grid_area": null,
            "grid_auto_columns": null,
            "grid_auto_flow": null,
            "grid_auto_rows": null,
            "grid_column": null,
            "grid_gap": null,
            "grid_row": null,
            "grid_template_areas": null,
            "grid_template_columns": null,
            "grid_template_rows": null,
            "height": null,
            "justify_content": null,
            "justify_items": null,
            "left": null,
            "margin": null,
            "max_height": null,
            "max_width": null,
            "min_height": null,
            "min_width": null,
            "object_fit": null,
            "object_position": null,
            "order": null,
            "overflow": null,
            "overflow_x": null,
            "overflow_y": null,
            "padding": null,
            "right": null,
            "top": null,
            "visibility": null,
            "width": null
          }
        },
        "958826c05f2846a5825f932e729a2211": {
          "model_module": "@jupyter-widgets/controls",
          "model_name": "DescriptionStyleModel",
          "model_module_version": "1.5.0",
          "state": {
            "_model_module": "@jupyter-widgets/controls",
            "_model_module_version": "1.5.0",
            "_model_name": "DescriptionStyleModel",
            "_view_count": null,
            "_view_module": "@jupyter-widgets/base",
            "_view_module_version": "1.2.0",
            "_view_name": "StyleView",
            "description_width": ""
          }
        },
        "2e18a6f4348b462190b07681ec10a9b7": {
          "model_module": "@jupyter-widgets/base",
          "model_name": "LayoutModel",
          "model_module_version": "1.2.0",
          "state": {
            "_model_module": "@jupyter-widgets/base",
            "_model_module_version": "1.2.0",
            "_model_name": "LayoutModel",
            "_view_count": null,
            "_view_module": "@jupyter-widgets/base",
            "_view_module_version": "1.2.0",
            "_view_name": "LayoutView",
            "align_content": null,
            "align_items": null,
            "align_self": null,
            "border": null,
            "bottom": null,
            "display": null,
            "flex": null,
            "flex_flow": null,
            "grid_area": null,
            "grid_auto_columns": null,
            "grid_auto_flow": null,
            "grid_auto_rows": null,
            "grid_column": null,
            "grid_gap": null,
            "grid_row": null,
            "grid_template_areas": null,
            "grid_template_columns": null,
            "grid_template_rows": null,
            "height": null,
            "justify_content": null,
            "justify_items": null,
            "left": null,
            "margin": null,
            "max_height": null,
            "max_width": null,
            "min_height": null,
            "min_width": null,
            "object_fit": null,
            "object_position": null,
            "order": null,
            "overflow": null,
            "overflow_x": null,
            "overflow_y": null,
            "padding": null,
            "right": null,
            "top": null,
            "visibility": null,
            "width": null
          }
        },
        "c34d9e04bb914404929786b605e333da": {
          "model_module": "@jupyter-widgets/controls",
          "model_name": "ProgressStyleModel",
          "model_module_version": "1.5.0",
          "state": {
            "_model_module": "@jupyter-widgets/controls",
            "_model_module_version": "1.5.0",
            "_model_name": "ProgressStyleModel",
            "_view_count": null,
            "_view_module": "@jupyter-widgets/base",
            "_view_module_version": "1.2.0",
            "_view_name": "StyleView",
            "bar_color": null,
            "description_width": ""
          }
        },
        "1f8c93961cfb4064923b5ecdc278c0c7": {
          "model_module": "@jupyter-widgets/base",
          "model_name": "LayoutModel",
          "model_module_version": "1.2.0",
          "state": {
            "_model_module": "@jupyter-widgets/base",
            "_model_module_version": "1.2.0",
            "_model_name": "LayoutModel",
            "_view_count": null,
            "_view_module": "@jupyter-widgets/base",
            "_view_module_version": "1.2.0",
            "_view_name": "LayoutView",
            "align_content": null,
            "align_items": null,
            "align_self": null,
            "border": null,
            "bottom": null,
            "display": null,
            "flex": null,
            "flex_flow": null,
            "grid_area": null,
            "grid_auto_columns": null,
            "grid_auto_flow": null,
            "grid_auto_rows": null,
            "grid_column": null,
            "grid_gap": null,
            "grid_row": null,
            "grid_template_areas": null,
            "grid_template_columns": null,
            "grid_template_rows": null,
            "height": null,
            "justify_content": null,
            "justify_items": null,
            "left": null,
            "margin": null,
            "max_height": null,
            "max_width": null,
            "min_height": null,
            "min_width": null,
            "object_fit": null,
            "object_position": null,
            "order": null,
            "overflow": null,
            "overflow_x": null,
            "overflow_y": null,
            "padding": null,
            "right": null,
            "top": null,
            "visibility": null,
            "width": null
          }
        },
        "bdc6403e1f0543c79c6e533a8e105f63": {
          "model_module": "@jupyter-widgets/controls",
          "model_name": "DescriptionStyleModel",
          "model_module_version": "1.5.0",
          "state": {
            "_model_module": "@jupyter-widgets/controls",
            "_model_module_version": "1.5.0",
            "_model_name": "DescriptionStyleModel",
            "_view_count": null,
            "_view_module": "@jupyter-widgets/base",
            "_view_module_version": "1.2.0",
            "_view_name": "StyleView",
            "description_width": ""
          }
        },
        "33789264a00049e08ca647567a5452f3": {
          "model_module": "@jupyter-widgets/controls",
          "model_name": "HBoxModel",
          "model_module_version": "1.5.0",
          "state": {
            "_dom_classes": [],
            "_model_module": "@jupyter-widgets/controls",
            "_model_module_version": "1.5.0",
            "_model_name": "HBoxModel",
            "_view_count": null,
            "_view_module": "@jupyter-widgets/controls",
            "_view_module_version": "1.5.0",
            "_view_name": "HBoxView",
            "box_style": "",
            "children": [
              "IPY_MODEL_4d9304b062ef4472978793da666a1132",
              "IPY_MODEL_e350aef2f3cf4286a283bfad86c42b3d",
              "IPY_MODEL_9408c55fc6ff41828cfd6f1aee2d7ddb"
            ],
            "layout": "IPY_MODEL_8ca026a6faec40eaa9114557f3bf55ec"
          }
        },
        "4d9304b062ef4472978793da666a1132": {
          "model_module": "@jupyter-widgets/controls",
          "model_name": "HTMLModel",
          "model_module_version": "1.5.0",
          "state": {
            "_dom_classes": [],
            "_model_module": "@jupyter-widgets/controls",
            "_model_module_version": "1.5.0",
            "_model_name": "HTMLModel",
            "_view_count": null,
            "_view_module": "@jupyter-widgets/controls",
            "_view_module_version": "1.5.0",
            "_view_name": "HTMLView",
            "description": "",
            "description_tooltip": null,
            "layout": "IPY_MODEL_4ba73d6483b34867ab01d8a886816f7b",
            "placeholder": "​",
            "style": "IPY_MODEL_950b0936dcb84eb8b2192ef9581d39b9",
            "value": "Map: 100%"
          }
        },
        "e350aef2f3cf4286a283bfad86c42b3d": {
          "model_module": "@jupyter-widgets/controls",
          "model_name": "FloatProgressModel",
          "model_module_version": "1.5.0",
          "state": {
            "_dom_classes": [],
            "_model_module": "@jupyter-widgets/controls",
            "_model_module_version": "1.5.0",
            "_model_name": "FloatProgressModel",
            "_view_count": null,
            "_view_module": "@jupyter-widgets/controls",
            "_view_module_version": "1.5.0",
            "_view_name": "ProgressView",
            "bar_style": "success",
            "description": "",
            "description_tooltip": null,
            "layout": "IPY_MODEL_50f0ce22d953415a9b499c27e4055b0a",
            "max": 3453,
            "min": 0,
            "orientation": "horizontal",
            "style": "IPY_MODEL_7708a2bbd5714fe8974233d8af34ab4c",
            "value": 3453
          }
        },
        "9408c55fc6ff41828cfd6f1aee2d7ddb": {
          "model_module": "@jupyter-widgets/controls",
          "model_name": "HTMLModel",
          "model_module_version": "1.5.0",
          "state": {
            "_dom_classes": [],
            "_model_module": "@jupyter-widgets/controls",
            "_model_module_version": "1.5.0",
            "_model_name": "HTMLModel",
            "_view_count": null,
            "_view_module": "@jupyter-widgets/controls",
            "_view_module_version": "1.5.0",
            "_view_name": "HTMLView",
            "description": "",
            "description_tooltip": null,
            "layout": "IPY_MODEL_0aeae5efd7a54a63b780d36068c3affe",
            "placeholder": "​",
            "style": "IPY_MODEL_7051d52862e04479a3f9d579de0bf86d",
            "value": " 3453/3453 [00:00&lt;00:00, 3919.52 examples/s]"
          }
        },
        "8ca026a6faec40eaa9114557f3bf55ec": {
          "model_module": "@jupyter-widgets/base",
          "model_name": "LayoutModel",
          "model_module_version": "1.2.0",
          "state": {
            "_model_module": "@jupyter-widgets/base",
            "_model_module_version": "1.2.0",
            "_model_name": "LayoutModel",
            "_view_count": null,
            "_view_module": "@jupyter-widgets/base",
            "_view_module_version": "1.2.0",
            "_view_name": "LayoutView",
            "align_content": null,
            "align_items": null,
            "align_self": null,
            "border": null,
            "bottom": null,
            "display": null,
            "flex": null,
            "flex_flow": null,
            "grid_area": null,
            "grid_auto_columns": null,
            "grid_auto_flow": null,
            "grid_auto_rows": null,
            "grid_column": null,
            "grid_gap": null,
            "grid_row": null,
            "grid_template_areas": null,
            "grid_template_columns": null,
            "grid_template_rows": null,
            "height": null,
            "justify_content": null,
            "justify_items": null,
            "left": null,
            "margin": null,
            "max_height": null,
            "max_width": null,
            "min_height": null,
            "min_width": null,
            "object_fit": null,
            "object_position": null,
            "order": null,
            "overflow": null,
            "overflow_x": null,
            "overflow_y": null,
            "padding": null,
            "right": null,
            "top": null,
            "visibility": null,
            "width": null
          }
        },
        "4ba73d6483b34867ab01d8a886816f7b": {
          "model_module": "@jupyter-widgets/base",
          "model_name": "LayoutModel",
          "model_module_version": "1.2.0",
          "state": {
            "_model_module": "@jupyter-widgets/base",
            "_model_module_version": "1.2.0",
            "_model_name": "LayoutModel",
            "_view_count": null,
            "_view_module": "@jupyter-widgets/base",
            "_view_module_version": "1.2.0",
            "_view_name": "LayoutView",
            "align_content": null,
            "align_items": null,
            "align_self": null,
            "border": null,
            "bottom": null,
            "display": null,
            "flex": null,
            "flex_flow": null,
            "grid_area": null,
            "grid_auto_columns": null,
            "grid_auto_flow": null,
            "grid_auto_rows": null,
            "grid_column": null,
            "grid_gap": null,
            "grid_row": null,
            "grid_template_areas": null,
            "grid_template_columns": null,
            "grid_template_rows": null,
            "height": null,
            "justify_content": null,
            "justify_items": null,
            "left": null,
            "margin": null,
            "max_height": null,
            "max_width": null,
            "min_height": null,
            "min_width": null,
            "object_fit": null,
            "object_position": null,
            "order": null,
            "overflow": null,
            "overflow_x": null,
            "overflow_y": null,
            "padding": null,
            "right": null,
            "top": null,
            "visibility": null,
            "width": null
          }
        },
        "950b0936dcb84eb8b2192ef9581d39b9": {
          "model_module": "@jupyter-widgets/controls",
          "model_name": "DescriptionStyleModel",
          "model_module_version": "1.5.0",
          "state": {
            "_model_module": "@jupyter-widgets/controls",
            "_model_module_version": "1.5.0",
            "_model_name": "DescriptionStyleModel",
            "_view_count": null,
            "_view_module": "@jupyter-widgets/base",
            "_view_module_version": "1.2.0",
            "_view_name": "StyleView",
            "description_width": ""
          }
        },
        "50f0ce22d953415a9b499c27e4055b0a": {
          "model_module": "@jupyter-widgets/base",
          "model_name": "LayoutModel",
          "model_module_version": "1.2.0",
          "state": {
            "_model_module": "@jupyter-widgets/base",
            "_model_module_version": "1.2.0",
            "_model_name": "LayoutModel",
            "_view_count": null,
            "_view_module": "@jupyter-widgets/base",
            "_view_module_version": "1.2.0",
            "_view_name": "LayoutView",
            "align_content": null,
            "align_items": null,
            "align_self": null,
            "border": null,
            "bottom": null,
            "display": null,
            "flex": null,
            "flex_flow": null,
            "grid_area": null,
            "grid_auto_columns": null,
            "grid_auto_flow": null,
            "grid_auto_rows": null,
            "grid_column": null,
            "grid_gap": null,
            "grid_row": null,
            "grid_template_areas": null,
            "grid_template_columns": null,
            "grid_template_rows": null,
            "height": null,
            "justify_content": null,
            "justify_items": null,
            "left": null,
            "margin": null,
            "max_height": null,
            "max_width": null,
            "min_height": null,
            "min_width": null,
            "object_fit": null,
            "object_position": null,
            "order": null,
            "overflow": null,
            "overflow_x": null,
            "overflow_y": null,
            "padding": null,
            "right": null,
            "top": null,
            "visibility": null,
            "width": null
          }
        },
        "7708a2bbd5714fe8974233d8af34ab4c": {
          "model_module": "@jupyter-widgets/controls",
          "model_name": "ProgressStyleModel",
          "model_module_version": "1.5.0",
          "state": {
            "_model_module": "@jupyter-widgets/controls",
            "_model_module_version": "1.5.0",
            "_model_name": "ProgressStyleModel",
            "_view_count": null,
            "_view_module": "@jupyter-widgets/base",
            "_view_module_version": "1.2.0",
            "_view_name": "StyleView",
            "bar_color": null,
            "description_width": ""
          }
        },
        "0aeae5efd7a54a63b780d36068c3affe": {
          "model_module": "@jupyter-widgets/base",
          "model_name": "LayoutModel",
          "model_module_version": "1.2.0",
          "state": {
            "_model_module": "@jupyter-widgets/base",
            "_model_module_version": "1.2.0",
            "_model_name": "LayoutModel",
            "_view_count": null,
            "_view_module": "@jupyter-widgets/base",
            "_view_module_version": "1.2.0",
            "_view_name": "LayoutView",
            "align_content": null,
            "align_items": null,
            "align_self": null,
            "border": null,
            "bottom": null,
            "display": null,
            "flex": null,
            "flex_flow": null,
            "grid_area": null,
            "grid_auto_columns": null,
            "grid_auto_flow": null,
            "grid_auto_rows": null,
            "grid_column": null,
            "grid_gap": null,
            "grid_row": null,
            "grid_template_areas": null,
            "grid_template_columns": null,
            "grid_template_rows": null,
            "height": null,
            "justify_content": null,
            "justify_items": null,
            "left": null,
            "margin": null,
            "max_height": null,
            "max_width": null,
            "min_height": null,
            "min_width": null,
            "object_fit": null,
            "object_position": null,
            "order": null,
            "overflow": null,
            "overflow_x": null,
            "overflow_y": null,
            "padding": null,
            "right": null,
            "top": null,
            "visibility": null,
            "width": null
          }
        },
        "7051d52862e04479a3f9d579de0bf86d": {
          "model_module": "@jupyter-widgets/controls",
          "model_name": "DescriptionStyleModel",
          "model_module_version": "1.5.0",
          "state": {
            "_model_module": "@jupyter-widgets/controls",
            "_model_module_version": "1.5.0",
            "_model_name": "DescriptionStyleModel",
            "_view_count": null,
            "_view_module": "@jupyter-widgets/base",
            "_view_module_version": "1.2.0",
            "_view_name": "StyleView",
            "description_width": ""
          }
        }
      }
    }
  },
  "cells": [
    {
      "cell_type": "markdown",
      "metadata": {
        "id": "view-in-github",
        "colab_type": "text"
      },
      "source": [
        "<a href=\"https://colab.research.google.com/github/soodeh-nilforoushan/NLP-Transformers/blob/main/6_Advanced_NER.ipynb\" target=\"_parent\"><img src=\"https://colab.research.google.com/assets/colab-badge.svg\" alt=\"Open In Colab\"/></a>"
      ]
    },
    {
      "cell_type": "code",
      "execution_count": 1,
      "metadata": {
        "colab": {
          "base_uri": "https://localhost:8080/"
        },
        "id": "IVUMsj3M88Ax",
        "outputId": "d79c1c7d-f0b6-4d66-b7bd-ed58adad98c3"
      },
      "outputs": [
        {
          "output_type": "stream",
          "name": "stdout",
          "text": [
            "Collecting transformers\n",
            "  Downloading transformers-4.32.0-py3-none-any.whl (7.5 MB)\n",
            "\u001b[2K     \u001b[90m━━━━━━━━━━━━━━━━━━━━━━━━━━━━━━━━━━━━━━━━\u001b[0m \u001b[32m7.5/7.5 MB\u001b[0m \u001b[31m21.5 MB/s\u001b[0m eta \u001b[36m0:00:00\u001b[0m\n",
            "\u001b[?25hCollecting datasets\n",
            "  Downloading datasets-2.14.4-py3-none-any.whl (519 kB)\n",
            "\u001b[2K     \u001b[90m━━━━━━━━━━━━━━━━━━━━━━━━━━━━━━━━━━━━━━\u001b[0m \u001b[32m519.3/519.3 kB\u001b[0m \u001b[31m37.5 MB/s\u001b[0m eta \u001b[36m0:00:00\u001b[0m\n",
            "\u001b[?25hRequirement already satisfied: filelock in /usr/local/lib/python3.10/dist-packages (from transformers) (3.12.2)\n",
            "Collecting huggingface-hub<1.0,>=0.15.1 (from transformers)\n",
            "  Downloading huggingface_hub-0.16.4-py3-none-any.whl (268 kB)\n",
            "\u001b[2K     \u001b[90m━━━━━━━━━━━━━━━━━━━━━━━━━━━━━━━━━━━━━━\u001b[0m \u001b[32m268.8/268.8 kB\u001b[0m \u001b[31m24.1 MB/s\u001b[0m eta \u001b[36m0:00:00\u001b[0m\n",
            "\u001b[?25hRequirement already satisfied: numpy>=1.17 in /usr/local/lib/python3.10/dist-packages (from transformers) (1.23.5)\n",
            "Requirement already satisfied: packaging>=20.0 in /usr/local/lib/python3.10/dist-packages (from transformers) (23.1)\n",
            "Requirement already satisfied: pyyaml>=5.1 in /usr/local/lib/python3.10/dist-packages (from transformers) (6.0.1)\n",
            "Requirement already satisfied: regex!=2019.12.17 in /usr/local/lib/python3.10/dist-packages (from transformers) (2023.6.3)\n",
            "Requirement already satisfied: requests in /usr/local/lib/python3.10/dist-packages (from transformers) (2.31.0)\n",
            "Collecting tokenizers!=0.11.3,<0.14,>=0.11.1 (from transformers)\n",
            "  Downloading tokenizers-0.13.3-cp310-cp310-manylinux_2_17_x86_64.manylinux2014_x86_64.whl (7.8 MB)\n",
            "\u001b[2K     \u001b[90m━━━━━━━━━━━━━━━━━━━━━━━━━━━━━━━━━━━━━━━━\u001b[0m \u001b[32m7.8/7.8 MB\u001b[0m \u001b[31m47.2 MB/s\u001b[0m eta \u001b[36m0:00:00\u001b[0m\n",
            "\u001b[?25hCollecting safetensors>=0.3.1 (from transformers)\n",
            "  Downloading safetensors-0.3.3-cp310-cp310-manylinux_2_17_x86_64.manylinux2014_x86_64.whl (1.3 MB)\n",
            "\u001b[2K     \u001b[90m━━━━━━━━━━━━━━━━━━━━━━━━━━━━━━━━━━━━━━━━\u001b[0m \u001b[32m1.3/1.3 MB\u001b[0m \u001b[31m52.4 MB/s\u001b[0m eta \u001b[36m0:00:00\u001b[0m\n",
            "\u001b[?25hRequirement already satisfied: tqdm>=4.27 in /usr/local/lib/python3.10/dist-packages (from transformers) (4.66.1)\n",
            "Requirement already satisfied: pyarrow>=8.0.0 in /usr/local/lib/python3.10/dist-packages (from datasets) (9.0.0)\n",
            "Collecting dill<0.3.8,>=0.3.0 (from datasets)\n",
            "  Downloading dill-0.3.7-py3-none-any.whl (115 kB)\n",
            "\u001b[2K     \u001b[90m━━━━━━━━━━━━━━━━━━━━━━━━━━━━━━━━━━━━━━\u001b[0m \u001b[32m115.3/115.3 kB\u001b[0m \u001b[31m11.9 MB/s\u001b[0m eta \u001b[36m0:00:00\u001b[0m\n",
            "\u001b[?25hRequirement already satisfied: pandas in /usr/local/lib/python3.10/dist-packages (from datasets) (1.5.3)\n",
            "Collecting xxhash (from datasets)\n",
            "  Downloading xxhash-3.3.0-cp310-cp310-manylinux_2_17_x86_64.manylinux2014_x86_64.whl (194 kB)\n",
            "\u001b[2K     \u001b[90m━━━━━━━━━━━━━━━━━━━━━━━━━━━━━━━━━━━━━━\u001b[0m \u001b[32m194.1/194.1 kB\u001b[0m \u001b[31m17.8 MB/s\u001b[0m eta \u001b[36m0:00:00\u001b[0m\n",
            "\u001b[?25hCollecting multiprocess (from datasets)\n",
            "  Downloading multiprocess-0.70.15-py310-none-any.whl (134 kB)\n",
            "\u001b[2K     \u001b[90m━━━━━━━━━━━━━━━━━━━━━━━━━━━━━━━━━━━━━━\u001b[0m \u001b[32m134.8/134.8 kB\u001b[0m \u001b[31m14.3 MB/s\u001b[0m eta \u001b[36m0:00:00\u001b[0m\n",
            "\u001b[?25hRequirement already satisfied: fsspec[http]>=2021.11.1 in /usr/local/lib/python3.10/dist-packages (from datasets) (2023.6.0)\n",
            "Requirement already satisfied: aiohttp in /usr/local/lib/python3.10/dist-packages (from datasets) (3.8.5)\n",
            "Requirement already satisfied: attrs>=17.3.0 in /usr/local/lib/python3.10/dist-packages (from aiohttp->datasets) (23.1.0)\n",
            "Requirement already satisfied: charset-normalizer<4.0,>=2.0 in /usr/local/lib/python3.10/dist-packages (from aiohttp->datasets) (3.2.0)\n",
            "Requirement already satisfied: multidict<7.0,>=4.5 in /usr/local/lib/python3.10/dist-packages (from aiohttp->datasets) (6.0.4)\n",
            "Requirement already satisfied: async-timeout<5.0,>=4.0.0a3 in /usr/local/lib/python3.10/dist-packages (from aiohttp->datasets) (4.0.3)\n",
            "Requirement already satisfied: yarl<2.0,>=1.0 in /usr/local/lib/python3.10/dist-packages (from aiohttp->datasets) (1.9.2)\n",
            "Requirement already satisfied: frozenlist>=1.1.1 in /usr/local/lib/python3.10/dist-packages (from aiohttp->datasets) (1.4.0)\n",
            "Requirement already satisfied: aiosignal>=1.1.2 in /usr/local/lib/python3.10/dist-packages (from aiohttp->datasets) (1.3.1)\n",
            "Requirement already satisfied: typing-extensions>=3.7.4.3 in /usr/local/lib/python3.10/dist-packages (from huggingface-hub<1.0,>=0.15.1->transformers) (4.7.1)\n",
            "Requirement already satisfied: idna<4,>=2.5 in /usr/local/lib/python3.10/dist-packages (from requests->transformers) (3.4)\n",
            "Requirement already satisfied: urllib3<3,>=1.21.1 in /usr/local/lib/python3.10/dist-packages (from requests->transformers) (2.0.4)\n",
            "Requirement already satisfied: certifi>=2017.4.17 in /usr/local/lib/python3.10/dist-packages (from requests->transformers) (2023.7.22)\n",
            "Requirement already satisfied: python-dateutil>=2.8.1 in /usr/local/lib/python3.10/dist-packages (from pandas->datasets) (2.8.2)\n",
            "Requirement already satisfied: pytz>=2020.1 in /usr/local/lib/python3.10/dist-packages (from pandas->datasets) (2023.3)\n",
            "Requirement already satisfied: six>=1.5 in /usr/local/lib/python3.10/dist-packages (from python-dateutil>=2.8.1->pandas->datasets) (1.16.0)\n",
            "Installing collected packages: tokenizers, safetensors, xxhash, dill, multiprocess, huggingface-hub, transformers, datasets\n",
            "Successfully installed datasets-2.14.4 dill-0.3.7 huggingface-hub-0.16.4 multiprocess-0.70.15 safetensors-0.3.3 tokenizers-0.13.3 transformers-4.32.0 xxhash-3.3.0\n"
          ]
        }
      ],
      "source": [
        "!pip install transformers datasets"
      ]
    },
    {
      "cell_type": "code",
      "source": [
        "from datasets import load_dataset"
      ],
      "metadata": {
        "id": "AIXjdx3M9JGF"
      },
      "execution_count": 2,
      "outputs": []
    },
    {
      "cell_type": "code",
      "source": [
        "data=load_dataset(\"conll2003\")"
      ],
      "metadata": {
        "colab": {
          "base_uri": "https://localhost:8080/",
          "height": 241,
          "referenced_widgets": [
            "f1272ba603ec4589b19af7393ecd05c8",
            "04e5027da23442409b8258bae3a1df57",
            "09072970c8e844069dea425b7d73ecfd",
            "37d8a2e691ce441496c4834e1ca09f3b",
            "fe40456c30ea47a0a769d27524022e6b",
            "21dcc494abe04498b6417901f2326af0",
            "3a22ca8eb30b4077a5a6d0aed33cae3a",
            "5ea7006185504abba5e0b46bd5842fef",
            "ee330c80a40349eea0ca3d4bbbf5602d",
            "ef8e2a0a1d1f447cab25c63b612203a1",
            "7fab5dcb95a0459c935bdd051b3c5639",
            "6fe1c4628a11410c80c38432c859a470",
            "75cb827dd1994c5eb140d8a5b12859b2",
            "85a9b2dfe8584bb6aff65eee07093bed",
            "6bfaa6fd91f548e69644cdfbbc520a42",
            "18fd12e8cb754dbd85c83acf60b65eb2",
            "c360916de9874891b9aa8e1f96c84192",
            "29f90f1e69344796b43cfa0593bb2184",
            "4303107905f3473c9ff0ebb909b8b1cb",
            "969b87cf0cc54c5894bd75c88199492f",
            "cb464add52e64c249411185858f09c30",
            "dc1b4897211b4eb49b351369f2b240af",
            "d0e4fdb0908d43baa8fb9cf8af5f12cd",
            "0fbbd938529c41fdb7667a5126f664ee",
            "0affbd4a29da4ac9aafd0df35071c520",
            "9a826c1588244a72a2daeaf68443fe77",
            "9cdeb1884e97486094cb7ba5b76f4a96",
            "0c5eaa6c080b4552ad4fe8721a0f100e",
            "89aa53c85fb64dbaa6f56653967f651a",
            "537628a849e5409a8c4efb9986c4eb51",
            "a3b999aa5e5f4d9191adb942a77a691b",
            "8d2f99fe31454e3fb27127a60b89c60b",
            "70c51b64faeb4950b63133e2e10bc28a",
            "9dd58a616be3475fa4b2d754df4b32d4",
            "2b97c50c39eb4205b4ec666479586f87",
            "45a63f69f279433c8af5c77272605920",
            "6ed176d6d7214a50bb6f8ec11b9c63ef",
            "0e004c25da09445797d5405aed0fdcf7",
            "69a9b5ac0bc84c42868dd649da1639f3",
            "3bade456247d4feb9b140fa321aff7db",
            "c6d6ab2555a949eb912fd5263dfaaaff",
            "ebfc85c5488845119e97d3af109d6b3b",
            "4b3b2e4333754152a16284d6449ed6e7",
            "33c7d9983c034a7b8004c4af3a78e33c",
            "a8b12725edaa41b0a213d62fc6ef63b4",
            "5fabbb9b2cf942faac3afbcc6d968ab8",
            "31000c390e7241fa8e8233520011350e",
            "2a4466912a4a443fa18db55e7312b2fe",
            "b45c47c98ed74edd8e2c154dfc37072d",
            "9f8c2d80f3bd4e5b87dc5181a8725681",
            "be2d16f2bf764503a8516aff358c1cf4",
            "7eed48dbbbfe4724af2bf7747f086797",
            "2ae50cca65db403ab888cedae8b0bcae",
            "fba1bee3e11a497eafa2df03effd1bf2",
            "2f256d9c5ae14d01954e04d008c8257d",
            "57b71011a1794be7bcec233343229a4a",
            "6fa0f21fe9484f1c8a30d8e71e2f65f9",
            "fb45ae5ec8d24efe8014ef4e2035f063",
            "df7807819d80474994ff1073d658b55c",
            "4ce1fa020700451a80753878abd3e72d",
            "5e3d2d6e8ed24c84a1912b7d1faaaa95",
            "84635047418c4a5f84f944ecef343aff",
            "a5fcd5c15a79482c96c292596a3376d6",
            "9f334b76dfc4453f806e4e4bf2825068",
            "19310aa91e144ba49b650a50c929427d",
            "4769a145562c4143999e9439a04b4900",
            "36c6f93f415945a78edfabccac8ffb86",
            "22bcefc8430d4b50a8864cee269b4969",
            "c43e331f6abb4b59a34dad75ffc45d8f",
            "6d84b9542163454994acde226e86be10",
            "5735d206cc9e4ef9adadbe6de046afbb",
            "3e35daa0a28b4201832c2aa7b65f332f",
            "41a3d154794040e7863888e92571f6d8",
            "3071b132affa41a6988322de8efb7a14",
            "4cf82d5c33b644c582126564fefbfd5f",
            "f5224bb5f46340ae8475065b3ad972ff",
            "c2a70f4f809444ad97faeba2b9c97c64"
          ]
        },
        "id": "BwpoPKGp9Qtk",
        "outputId": "c7dc7aeb-f44a-41aa-f159-6555881df8ee"
      },
      "execution_count": 3,
      "outputs": [
        {
          "output_type": "display_data",
          "data": {
            "text/plain": [
              "Downloading builder script:   0%|          | 0.00/9.57k [00:00<?, ?B/s]"
            ],
            "application/vnd.jupyter.widget-view+json": {
              "version_major": 2,
              "version_minor": 0,
              "model_id": "f1272ba603ec4589b19af7393ecd05c8"
            }
          },
          "metadata": {}
        },
        {
          "output_type": "display_data",
          "data": {
            "text/plain": [
              "Downloading metadata:   0%|          | 0.00/3.73k [00:00<?, ?B/s]"
            ],
            "application/vnd.jupyter.widget-view+json": {
              "version_major": 2,
              "version_minor": 0,
              "model_id": "6fe1c4628a11410c80c38432c859a470"
            }
          },
          "metadata": {}
        },
        {
          "output_type": "display_data",
          "data": {
            "text/plain": [
              "Downloading readme:   0%|          | 0.00/12.3k [00:00<?, ?B/s]"
            ],
            "application/vnd.jupyter.widget-view+json": {
              "version_major": 2,
              "version_minor": 0,
              "model_id": "d0e4fdb0908d43baa8fb9cf8af5f12cd"
            }
          },
          "metadata": {}
        },
        {
          "output_type": "display_data",
          "data": {
            "text/plain": [
              "Downloading data:   0%|          | 0.00/983k [00:00<?, ?B/s]"
            ],
            "application/vnd.jupyter.widget-view+json": {
              "version_major": 2,
              "version_minor": 0,
              "model_id": "9dd58a616be3475fa4b2d754df4b32d4"
            }
          },
          "metadata": {}
        },
        {
          "output_type": "display_data",
          "data": {
            "text/plain": [
              "Generating train split:   0%|          | 0/14041 [00:00<?, ? examples/s]"
            ],
            "application/vnd.jupyter.widget-view+json": {
              "version_major": 2,
              "version_minor": 0,
              "model_id": "a8b12725edaa41b0a213d62fc6ef63b4"
            }
          },
          "metadata": {}
        },
        {
          "output_type": "display_data",
          "data": {
            "text/plain": [
              "Generating validation split:   0%|          | 0/3250 [00:00<?, ? examples/s]"
            ],
            "application/vnd.jupyter.widget-view+json": {
              "version_major": 2,
              "version_minor": 0,
              "model_id": "57b71011a1794be7bcec233343229a4a"
            }
          },
          "metadata": {}
        },
        {
          "output_type": "display_data",
          "data": {
            "text/plain": [
              "Generating test split:   0%|          | 0/3453 [00:00<?, ? examples/s]"
            ],
            "application/vnd.jupyter.widget-view+json": {
              "version_major": 2,
              "version_minor": 0,
              "model_id": "36c6f93f415945a78edfabccac8ffb86"
            }
          },
          "metadata": {}
        }
      ]
    },
    {
      "cell_type": "code",
      "source": [
        "data\n",
        "#This data set includes all the information about 'pos_tags', 'chunk_tags', 'ner_tags'"
      ],
      "metadata": {
        "colab": {
          "base_uri": "https://localhost:8080/"
        },
        "id": "1bqzNWSg9WAz",
        "outputId": "3d999fca-05e8-4159-e713-3313065badaa"
      },
      "execution_count": 4,
      "outputs": [
        {
          "output_type": "execute_result",
          "data": {
            "text/plain": [
              "DatasetDict({\n",
              "    train: Dataset({\n",
              "        features: ['id', 'tokens', 'pos_tags', 'chunk_tags', 'ner_tags'],\n",
              "        num_rows: 14041\n",
              "    })\n",
              "    validation: Dataset({\n",
              "        features: ['id', 'tokens', 'pos_tags', 'chunk_tags', 'ner_tags'],\n",
              "        num_rows: 3250\n",
              "    })\n",
              "    test: Dataset({\n",
              "        features: ['id', 'tokens', 'pos_tags', 'chunk_tags', 'ner_tags'],\n",
              "        num_rows: 3453\n",
              "    })\n",
              "})"
            ]
          },
          "metadata": {},
          "execution_count": 4
        }
      ]
    },
    {
      "cell_type": "code",
      "source": [
        "#acess first sample\n",
        "data[\"train\"][0]\n",
        "#tokens is basically list of words here not tokens! it would be better to be words instead of tokens"
      ],
      "metadata": {
        "colab": {
          "base_uri": "https://localhost:8080/"
        },
        "id": "XHEvZzr-9YF1",
        "outputId": "cbae8c40-ad2b-4754-c630-9d8892437b5e"
      },
      "execution_count": 5,
      "outputs": [
        {
          "output_type": "execute_result",
          "data": {
            "text/plain": [
              "{'id': '0',\n",
              " 'tokens': ['EU',\n",
              "  'rejects',\n",
              "  'German',\n",
              "  'call',\n",
              "  'to',\n",
              "  'boycott',\n",
              "  'British',\n",
              "  'lamb',\n",
              "  '.'],\n",
              " 'pos_tags': [22, 42, 16, 21, 35, 37, 16, 21, 7],\n",
              " 'chunk_tags': [11, 21, 11, 12, 21, 22, 11, 12, 0],\n",
              " 'ner_tags': [3, 0, 7, 0, 0, 0, 7, 0, 0]}"
            ]
          },
          "metadata": {},
          "execution_count": 5
        }
      ]
    },
    {
      "cell_type": "code",
      "source": [
        "data[\"train\"].features"
      ],
      "metadata": {
        "colab": {
          "base_uri": "https://localhost:8080/"
        },
        "id": "NxKoc1d3BPz7",
        "outputId": "8caab817-3106-4dcb-c5cd-4dd21537e159"
      },
      "execution_count": 6,
      "outputs": [
        {
          "output_type": "execute_result",
          "data": {
            "text/plain": [
              "{'id': Value(dtype='string', id=None),\n",
              " 'tokens': Sequence(feature=Value(dtype='string', id=None), length=-1, id=None),\n",
              " 'pos_tags': Sequence(feature=ClassLabel(names=['\"', \"''\", '#', '$', '(', ')', ',', '.', ':', '``', 'CC', 'CD', 'DT', 'EX', 'FW', 'IN', 'JJ', 'JJR', 'JJS', 'LS', 'MD', 'NN', 'NNP', 'NNPS', 'NNS', 'NN|SYM', 'PDT', 'POS', 'PRP', 'PRP$', 'RB', 'RBR', 'RBS', 'RP', 'SYM', 'TO', 'UH', 'VB', 'VBD', 'VBG', 'VBN', 'VBP', 'VBZ', 'WDT', 'WP', 'WP$', 'WRB'], id=None), length=-1, id=None),\n",
              " 'chunk_tags': Sequence(feature=ClassLabel(names=['O', 'B-ADJP', 'I-ADJP', 'B-ADVP', 'I-ADVP', 'B-CONJP', 'I-CONJP', 'B-INTJ', 'I-INTJ', 'B-LST', 'I-LST', 'B-NP', 'I-NP', 'B-PP', 'I-PP', 'B-PRT', 'I-PRT', 'B-SBAR', 'I-SBAR', 'B-UCP', 'I-UCP', 'B-VP', 'I-VP'], id=None), length=-1, id=None),\n",
              " 'ner_tags': Sequence(feature=ClassLabel(names=['O', 'B-PER', 'I-PER', 'B-ORG', 'I-ORG', 'B-LOC', 'I-LOC', 'B-MISC', 'I-MISC'], id=None), length=-1, id=None)}"
            ]
          },
          "metadata": {},
          "execution_count": 6
        }
      ]
    },
    {
      "cell_type": "code",
      "source": [
        "data[\"train\"].features['ner_tags']"
      ],
      "metadata": {
        "colab": {
          "base_uri": "https://localhost:8080/"
        },
        "id": "YTBJVFFiCaBz",
        "outputId": "48b8898e-71b8-42d8-d892-0f8ebdcf842b"
      },
      "execution_count": 7,
      "outputs": [
        {
          "output_type": "execute_result",
          "data": {
            "text/plain": [
              "Sequence(feature=ClassLabel(names=['O', 'B-PER', 'I-PER', 'B-ORG', 'I-ORG', 'B-LOC', 'I-LOC', 'B-MISC', 'I-MISC'], id=None), length=-1, id=None)"
            ]
          },
          "metadata": {},
          "execution_count": 7
        }
      ]
    },
    {
      "cell_type": "code",
      "source": [
        "data[\"train\"].features['ner_tags'].feature.names"
      ],
      "metadata": {
        "colab": {
          "base_uri": "https://localhost:8080/"
        },
        "id": "BKvHV-jrC7Ax",
        "outputId": "f686b52d-ac5f-4f97-e3c3-502ddd3c0fe1"
      },
      "execution_count": 8,
      "outputs": [
        {
          "output_type": "execute_result",
          "data": {
            "text/plain": [
              "['O', 'B-PER', 'I-PER', 'B-ORG', 'I-ORG', 'B-LOC', 'I-LOC', 'B-MISC', 'I-MISC']"
            ]
          },
          "metadata": {},
          "execution_count": 8
        }
      ]
    },
    {
      "cell_type": "code",
      "source": [
        "data[\"train\"][0][\"tokens\"]"
      ],
      "metadata": {
        "colab": {
          "base_uri": "https://localhost:8080/"
        },
        "id": "uJLRsxgbo66r",
        "outputId": "8dcf5058-5507-46b8-c18e-36102977b125"
      },
      "execution_count": 9,
      "outputs": [
        {
          "output_type": "execute_result",
          "data": {
            "text/plain": [
              "['EU', 'rejects', 'German', 'call', 'to', 'boycott', 'British', 'lamb', '.']"
            ]
          },
          "metadata": {},
          "execution_count": 9
        }
      ]
    },
    {
      "cell_type": "code",
      "source": [
        "#save_label\n",
        "label_name=data[\"train\"].features['ner_tags'].feature.names"
      ],
      "metadata": {
        "id": "jSSPSQKtDoIO"
      },
      "execution_count": 10,
      "outputs": []
    },
    {
      "cell_type": "code",
      "source": [
        "from transformers import AutoTokenizer\n",
        "#tokenize dataset\n",
        "checkpoint=\"distilbert-base-cased\"\n",
        "tokenizer=AutoTokenizer.from_pretrained(checkpoint)"
      ],
      "metadata": {
        "colab": {
          "base_uri": "https://localhost:8080/",
          "height": 145,
          "referenced_widgets": [
            "038bc502cc3044f7bf117324d53b3274",
            "15ed57762eea4d67a053579251100386",
            "6c4278d623cd4649aea251d1523782ea",
            "12eccf0ebe464407b3f95a4c85ade2e5",
            "85f993263d684c2daee915510c6f0196",
            "fbae6fd12e2a449cbf4ba4a70d7bf52d",
            "b630d77fdd804250b8885a0b49db9247",
            "90e57f4bda4b4b7da0c2b374f5a2cfba",
            "8f8684da9dbd4bf48948a3f5b059a828",
            "d0cf51bff86e4145a79e4585838244da",
            "e1b41bc2532d4cf4972e4a3604307c76",
            "f4ca36b167d540ce9dd6d860622f3e75",
            "ed049656f9f74eaea5c74278aa19dd2b",
            "a0cce1ad56e749eaa59178b7db7d64e0",
            "20cf7d0d01ba4e3a82090f6bdf94cda0",
            "03a20e6239ea4bc5a1d36aa19998507e",
            "eb63cd44d04548beb1d2358574195faf",
            "14a9d2d53efd4c9e82b9cefc6b97ff53",
            "d7e52821d863475b9f76171483fefeca",
            "b385ffde10044a18afd81446f4b2bfbd",
            "1c647702435443a0a42b5a35dba1c498",
            "08f29ead834049b89dc9efe28ed0d353",
            "10cf9b174dcb4a7c9d8425b1f463bb4b",
            "4761483e5c7d44d79c2db471aaed2618",
            "1ed866bab40446de8d01b48873d691b7",
            "b9f3fa69c66d4dc09c51b7d441bd1533",
            "04d7d4cd17304201953cd7be3d54bbaa",
            "70b29dd357e946268e568ad9d255371b",
            "84292a5a1392497886a91328c79abf9a",
            "2545a027699a4a9ab6e3086151a4603a",
            "ee8006d9c157431c895e97195cff4573",
            "b45049e608aa4545b901a2f0294c5244",
            "5eadacd6c38e44f09a6654fd9d5539dd",
            "14a85e8d76d34cc09402e778d6c96bdf",
            "9a9dca898b7b4d54a060c67720829251",
            "84719e983dab41569241f963d5a4c1c6",
            "1eb1521b025d401580c0d29c22d50d8e",
            "d8d180caedd9475085a264f85cb24d28",
            "42f75d8d7a2c4853931d37f2018e3f41",
            "03d81d463e1a4bf09a3ff909f0838d79",
            "f6b6307ac2f9465d9e06b5c1ccdc0ef7",
            "01a8140ad94d492a8a741ee1cad052a4",
            "922fadd691fc488bb52fe52ed917f67c",
            "65c24f5276374ef98b5d8ab0525ea936"
          ]
        },
        "id": "60r_X1Y9EN5Z",
        "outputId": "9aef3444-6b39-4420-fb60-66304ca8c070"
      },
      "execution_count": 11,
      "outputs": [
        {
          "output_type": "display_data",
          "data": {
            "text/plain": [
              "Downloading (…)okenizer_config.json:   0%|          | 0.00/29.0 [00:00<?, ?B/s]"
            ],
            "application/vnd.jupyter.widget-view+json": {
              "version_major": 2,
              "version_minor": 0,
              "model_id": "038bc502cc3044f7bf117324d53b3274"
            }
          },
          "metadata": {}
        },
        {
          "output_type": "display_data",
          "data": {
            "text/plain": [
              "Downloading (…)lve/main/config.json:   0%|          | 0.00/411 [00:00<?, ?B/s]"
            ],
            "application/vnd.jupyter.widget-view+json": {
              "version_major": 2,
              "version_minor": 0,
              "model_id": "f4ca36b167d540ce9dd6d860622f3e75"
            }
          },
          "metadata": {}
        },
        {
          "output_type": "display_data",
          "data": {
            "text/plain": [
              "Downloading (…)solve/main/vocab.txt:   0%|          | 0.00/213k [00:00<?, ?B/s]"
            ],
            "application/vnd.jupyter.widget-view+json": {
              "version_major": 2,
              "version_minor": 0,
              "model_id": "10cf9b174dcb4a7c9d8425b1f463bb4b"
            }
          },
          "metadata": {}
        },
        {
          "output_type": "display_data",
          "data": {
            "text/plain": [
              "Downloading (…)/main/tokenizer.json:   0%|          | 0.00/436k [00:00<?, ?B/s]"
            ],
            "application/vnd.jupyter.widget-view+json": {
              "version_major": 2,
              "version_minor": 0,
              "model_id": "14a85e8d76d34cc09402e778d6c96bdf"
            }
          },
          "metadata": {}
        }
      ]
    },
    {
      "cell_type": "code",
      "source": [
        "idx=0\n",
        "#data here is already split into list of words\n",
        "#the tokenizer will tokenize whole string but data here is already split into list of words\n",
        "# and some of them could be possibly be tokenized to subwords\n",
        "t=tokenizer(data[\"train\"][idx][\"tokens\"],is_split_into_words=True)\n",
        "t"
      ],
      "metadata": {
        "colab": {
          "base_uri": "https://localhost:8080/"
        },
        "id": "c4rHo4seFLgY",
        "outputId": "c070c8a6-00d6-490e-f2c3-cd8440c11ad7"
      },
      "execution_count": 12,
      "outputs": [
        {
          "output_type": "execute_result",
          "data": {
            "text/plain": [
              "{'input_ids': [101, 7270, 22961, 1528, 1840, 1106, 21423, 1418, 2495, 12913, 119, 102], 'attention_mask': [1, 1, 1, 1, 1, 1, 1, 1, 1, 1, 1, 1]}"
            ]
          },
          "metadata": {},
          "execution_count": 12
        }
      ]
    },
    {
      "cell_type": "code",
      "source": [
        "type(t)"
      ],
      "metadata": {
        "colab": {
          "base_uri": "https://localhost:8080/"
        },
        "id": "3bfm-_zIGMuu",
        "outputId": "a77daa80-2b53-44ae-e531-634984aac737"
      },
      "execution_count": 13,
      "outputs": [
        {
          "output_type": "execute_result",
          "data": {
            "text/plain": [
              "transformers.tokenization_utils_base.BatchEncoding"
            ]
          },
          "metadata": {},
          "execution_count": 13
        }
      ]
    },
    {
      "cell_type": "markdown",
      "source": [
        "![Screenshot 2023-08-25 at 10.58.14 AM.png](data:image/png;base64,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)"
      ],
      "metadata": {
        "id": "UPw0lzeoM0yQ"
      }
    },
    {
      "cell_type": "markdown",
      "source": [
        "**Target Alignment**\n",
        "In target aligment a word like \"Jack\" might split to Ja and ##ck. In this case bothe of the split words refer to person. So the NER for Ja should be B-PER and for ##ck should be I-PER"
      ],
      "metadata": {
        "id": "sdPr3iykN3yF"
      }
    },
    {
      "cell_type": "code",
      "source": [
        "t.tokens()"
      ],
      "metadata": {
        "colab": {
          "base_uri": "https://localhost:8080/"
        },
        "id": "7ThjFJxVHOv3",
        "outputId": "60d7f5ab-f190-4e46-e3f0-abd43351494f"
      },
      "execution_count": 14,
      "outputs": [
        {
          "output_type": "execute_result",
          "data": {
            "text/plain": [
              "['[CLS]',\n",
              " 'EU',\n",
              " 'rejects',\n",
              " 'German',\n",
              " 'call',\n",
              " 'to',\n",
              " 'boycott',\n",
              " 'British',\n",
              " 'la',\n",
              " '##mb',\n",
              " '.',\n",
              " '[SEP]']"
            ]
          },
          "metadata": {},
          "execution_count": 14
        }
      ]
    },
    {
      "cell_type": "markdown",
      "source": [
        "Lamb has been split into sub words. Our goal is to expand the targets so that the same target will apply to both sub words."
      ],
      "metadata": {
        "id": "URkeG45nJu4h"
      }
    },
    {
      "cell_type": "code",
      "source": [
        "t.word_ids()"
      ],
      "metadata": {
        "colab": {
          "base_uri": "https://localhost:8080/"
        },
        "id": "8n6o81Lw9DuY",
        "outputId": "ec08372b-1204-4660-d527-8587c1df31fc"
      },
      "execution_count": 15,
      "outputs": [
        {
          "output_type": "execute_result",
          "data": {
            "text/plain": [
              "[None, 0, 1, 2, 3, 4, 5, 6, 7, 7, 8, None]"
            ]
          },
          "metadata": {},
          "execution_count": 15
        }
      ]
    },
    {
      "cell_type": "code",
      "source": [
        "data[\"train\"][0][\"ner_tags\"]"
      ],
      "metadata": {
        "colab": {
          "base_uri": "https://localhost:8080/"
        },
        "id": "sLa7rvAgodR5",
        "outputId": "e8a1a78e-c5d2-4329-bad0-9bcb54d3ceba"
      },
      "execution_count": 16,
      "outputs": [
        {
          "output_type": "execute_result",
          "data": {
            "text/plain": [
              "[3, 0, 7, 0, 0, 0, 7, 0, 0]"
            ]
          },
          "metadata": {},
          "execution_count": 16
        }
      ]
    },
    {
      "cell_type": "code",
      "source": [
        "#implement align target method\n",
        "#['O', 'B-PER', 'I-PER', 'B-ORG', 'I-ORG', 'B-LOC', 'I-LOC', 'B-MISC', 'I-MISC']\n",
        "#How we will map begin tags to inside tags for subwords that get split up\n",
        "#for example if \"Jhon\" splits to \"Jh\",\"on\" ---> we have to tag it as follows:'B-PER','I-PER'\n",
        "#So in the above pattern when splits happen B- follows before I-\n",
        "begin2inside={\n",
        "    1:2,\n",
        "    3:4,\n",
        "    5:6,\n",
        "    7:8,\n",
        "}"
      ],
      "metadata": {
        "id": "GiKm8-WoN4sV"
      },
      "execution_count": 17,
      "outputs": []
    },
    {
      "cell_type": "code",
      "source": [
        "def align_target(labels,word_ids):\n",
        "  #words id has the same length as tokenized input\n",
        "  #labels is the original labels and has the same length as untokenized input\n",
        "  aligned_labels=[] # it will be the same as tokenized input\n",
        "  last_word=None\n",
        "  for word in word_ids:\n",
        "    if word is None:\n",
        "      #it is a token like [CLS]\n",
        "      label=-100 # this is the value the library uses to know to ignor\n",
        "    elif word!=last_word:\n",
        "      #it is a new word\n",
        "      label=labels[word]\n",
        "    else:\n",
        "      #it is the same word as before\n",
        "      label=labels[word]\n",
        "\n",
        "      #change B-<tag> to I-<tag> if necessary\n",
        "      if label in begin2inside:\n",
        "        label=begin2inside[label]\n",
        "\n",
        "    #add the label\n",
        "    aligned_labels.append(label)\n",
        "\n",
        "    #update last word\n",
        "    last_word=word\n",
        "  return aligned_labels\n",
        ""
      ],
      "metadata": {
        "id": "FUOnDKKsPuvy"
      },
      "execution_count": 18,
      "outputs": []
    },
    {
      "cell_type": "code",
      "source": [
        "#try the function\n",
        "labels=data[\"train\"][idx][\"ner_tags\"]\n",
        "word_ids=t.word_ids()\n",
        "aligned_targets=align_target(labels,word_ids)\n",
        "aligned_targets"
      ],
      "metadata": {
        "colab": {
          "base_uri": "https://localhost:8080/"
        },
        "id": "TqGrnq67ykpN",
        "outputId": "8fa5da52-9969-41f8-c9b5-284a82f71a18"
      },
      "execution_count": 19,
      "outputs": [
        {
          "output_type": "execute_result",
          "data": {
            "text/plain": [
              "[-100, 3, 0, 7, 0, 0, 0, 7, 0, 0, 0, -100]"
            ]
          },
          "metadata": {},
          "execution_count": 19
        }
      ]
    },
    {
      "cell_type": "code",
      "source": [
        "aligned_labels=[label_name[t] if t>=0 else None for t in aligned_targets]\n",
        "for x,y in zip(t.tokens(),aligned_labels):\n",
        "  print(f\"{x}\\t{y}\")"
      ],
      "metadata": {
        "colab": {
          "base_uri": "https://localhost:8080/"
        },
        "id": "FgebRdM60LPK",
        "outputId": "9901cf81-4152-418a-e3d3-48b8eb875b82"
      },
      "execution_count": 20,
      "outputs": [
        {
          "output_type": "stream",
          "name": "stdout",
          "text": [
            "[CLS]\tNone\n",
            "EU\tB-ORG\n",
            "rejects\tO\n",
            "German\tB-MISC\n",
            "call\tO\n",
            "to\tO\n",
            "boycott\tO\n",
            "British\tB-MISC\n",
            "la\tO\n",
            "##mb\tO\n",
            ".\tO\n",
            "[SEP]\tNone\n"
          ]
        }
      ]
    },
    {
      "cell_type": "code",
      "source": [
        "#make up a fake input just to test, it would be beter if we could test a tag that's an actual entity because we want to see whether or not B tags correctly transformed to into I tags.\n",
        "words=['[CLS]','Ger','##man','call','to','boycott','Micro','##soft','[SEP]']\n",
        "word_ids=[None,0,0,1,2,3,4,4,None]\n",
        "labels=[7,0,0,0,3]\n",
        "aligned_targets=align_target(labels,word_ids)\n",
        "aligned_labels=[label_name[t] if t>=0 else None for t in aligned_targets]\n",
        "for x,y in zip(words,aligned_labels):\n",
        "  print(f\"{x}\\t{y}\")"
      ],
      "metadata": {
        "colab": {
          "base_uri": "https://localhost:8080/"
        },
        "id": "U_7up4xV1jLy",
        "outputId": "2f2192d1-c481-4803-9bbb-c1c371453436"
      },
      "execution_count": 21,
      "outputs": [
        {
          "output_type": "stream",
          "name": "stdout",
          "text": [
            "[CLS]\tNone\n",
            "Ger\tB-MISC\n",
            "##man\tI-MISC\n",
            "call\tO\n",
            "to\tO\n",
            "boycott\tO\n",
            "Micro\tB-ORG\n",
            "##soft\tI-ORG\n",
            "[SEP]\tNone\n"
          ]
        }
      ]
    },
    {
      "cell_type": "code",
      "source": [
        "#it is not only tokenizing each input sentence in the batch but also it aligns the label\n",
        "def tokenize_fn(batch):\n",
        "  #tokenize the input sequence first\n",
        "  #this populates input_ids, attention mask and etc.\n",
        "  tokenized_inputs=tokenizer(\n",
        "      batch[\"tokens\"],truncation=True, is_split_into_words=True\n",
        "  )\n",
        "\n",
        "  labels_batch=batch['ner_tags'] #original targets\n",
        "  aligned_labels_batch=[] #store align lables\n",
        "  for i , labels in enumerate(labels_batch):\n",
        "    word_ids=tokenized_inputs.word_ids(i)\n",
        "    aligned_labels_batch.append(align_target(labels,word_ids))\n",
        "\n",
        "  #the 'target' must be store in key called 'labels'\n",
        "  tokenized_inputs['labels'] =aligned_labels_batch\n",
        "\n",
        "  return tokenized_inputs"
      ],
      "metadata": {
        "id": "gzwOERSn4Zwh"
      },
      "execution_count": 24,
      "outputs": []
    },
    {
      "cell_type": "code",
      "source": [
        "#want to remove these from model inputs - they are neither inputs nor targets\n",
        "# The model just need input_Ids, attention_mask, labels\n",
        "data[\"train\"].column_names"
      ],
      "metadata": {
        "colab": {
          "base_uri": "https://localhost:8080/"
        },
        "id": "SCe_s_zXeVYg",
        "outputId": "e59fa2e5-f770-4518-a17e-59395ec11075"
      },
      "execution_count": 25,
      "outputs": [
        {
          "output_type": "execute_result",
          "data": {
            "text/plain": [
              "['id', 'tokens', 'pos_tags', 'chunk_tags', 'ner_tags']"
            ]
          },
          "metadata": {},
          "execution_count": 25
        }
      ]
    },
    {
      "cell_type": "code",
      "source": [
        "tokenized_dataset=data.map(tokenize_fn, batched=True,remove_columns=data[\"train\"].column_names)"
      ],
      "metadata": {
        "colab": {
          "base_uri": "https://localhost:8080/",
          "height": 113,
          "referenced_widgets": [
            "3088649222bd412fa7fa6ddbac325055",
            "d43429fb392d470aaa801953ca9cb24e",
            "721ddd599a6d4e99b5d27dc2dd415a57",
            "ffd73b7567cc47a382d57b1fb769dbc0",
            "1a1ece4a7c0d457e81250a59044aa764",
            "d87e7a0299534d7b9bdba117666521cf",
            "a4683bdd79734007ad7176d9bbe164b8",
            "c75e6cd2fc9b4bfe91b20815a5d2ebf5",
            "8cbfcc03b90e4e27b5565253de3adb9f",
            "f55478a2d0844573b9bcdb301716da0a",
            "ef8ea5ec7add4d0e90ceb531fde5a0cc",
            "19c9a8dd02bf45a982fa53a3a705e4b5",
            "502e9a5cdd3d41bdb7018869554f94cc",
            "fd9e263892ca41538787b7f794f4643b",
            "1022701d5d274e5c84bbddc69a1a343f",
            "7a47583a69ca4889bbc915c00a436970",
            "205c309301d1482b8d52a7edc0bc9c66",
            "958826c05f2846a5825f932e729a2211",
            "2e18a6f4348b462190b07681ec10a9b7",
            "c34d9e04bb914404929786b605e333da",
            "1f8c93961cfb4064923b5ecdc278c0c7",
            "bdc6403e1f0543c79c6e533a8e105f63",
            "33789264a00049e08ca647567a5452f3",
            "4d9304b062ef4472978793da666a1132",
            "e350aef2f3cf4286a283bfad86c42b3d",
            "9408c55fc6ff41828cfd6f1aee2d7ddb",
            "8ca026a6faec40eaa9114557f3bf55ec",
            "4ba73d6483b34867ab01d8a886816f7b",
            "950b0936dcb84eb8b2192ef9581d39b9",
            "50f0ce22d953415a9b499c27e4055b0a",
            "7708a2bbd5714fe8974233d8af34ab4c",
            "0aeae5efd7a54a63b780d36068c3affe",
            "7051d52862e04479a3f9d579de0bf86d"
          ]
        },
        "id": "x2saovRPfgGz",
        "outputId": "ba81f9fa-07af-4f05-b674-2c0f7b870834"
      },
      "execution_count": 26,
      "outputs": [
        {
          "output_type": "display_data",
          "data": {
            "text/plain": [
              "Map:   0%|          | 0/14041 [00:00<?, ? examples/s]"
            ],
            "application/vnd.jupyter.widget-view+json": {
              "version_major": 2,
              "version_minor": 0,
              "model_id": "3088649222bd412fa7fa6ddbac325055"
            }
          },
          "metadata": {}
        },
        {
          "output_type": "display_data",
          "data": {
            "text/plain": [
              "Map:   0%|          | 0/3250 [00:00<?, ? examples/s]"
            ],
            "application/vnd.jupyter.widget-view+json": {
              "version_major": 2,
              "version_minor": 0,
              "model_id": "19c9a8dd02bf45a982fa53a3a705e4b5"
            }
          },
          "metadata": {}
        },
        {
          "output_type": "display_data",
          "data": {
            "text/plain": [
              "Map:   0%|          | 0/3453 [00:00<?, ? examples/s]"
            ],
            "application/vnd.jupyter.widget-view+json": {
              "version_major": 2,
              "version_minor": 0,
              "model_id": "33789264a00049e08ca647567a5452f3"
            }
          },
          "metadata": {}
        }
      ]
    },
    {
      "cell_type": "code",
      "source": [
        "tokenized_dataset"
      ],
      "metadata": {
        "colab": {
          "base_uri": "https://localhost:8080/"
        },
        "id": "JRTBLA25fR5I",
        "outputId": "8930bc0d-d503-4380-dda9-eecd7a9dca41"
      },
      "execution_count": 27,
      "outputs": [
        {
          "output_type": "execute_result",
          "data": {
            "text/plain": [
              "DatasetDict({\n",
              "    train: Dataset({\n",
              "        features: ['input_ids', 'attention_mask', 'labels'],\n",
              "        num_rows: 14041\n",
              "    })\n",
              "    validation: Dataset({\n",
              "        features: ['input_ids', 'attention_mask', 'labels'],\n",
              "        num_rows: 3250\n",
              "    })\n",
              "    test: Dataset({\n",
              "        features: ['input_ids', 'attention_mask', 'labels'],\n",
              "        num_rows: 3453\n",
              "    })\n",
              "})"
            ]
          },
          "metadata": {},
          "execution_count": 27
        }
      ]
    },
    {
      "cell_type": "markdown",
      "source": [
        "**Data Collator**\n",
        "\n",
        "*   Consider our text preprocessing review:pad, truncate, Torch tensors\n",
        "*   We have not been explicitly doing all of these steps and \"Trianer\" object is doing behind the scene on the dataset\n",
        "*   Recall: We do not want to do paading to whole datset, just current batch\n",
        "*   All of the above done by data collator.\n",
        "\n",
        "\n",
        "*   In the next code I wanna use data_collarator\n",
        "\n",
        "\n",
        "\n",
        "\n",
        "\n",
        "\n"
      ],
      "metadata": {
        "id": "HbLQ8wbYiSZS"
      }
    },
    {
      "cell_type": "code",
      "source": [
        "from transformers import DataCollatorForTokenClassification\n",
        "data_collator= DataCollatorForTokenClassification(tokenizer=tokenizer)"
      ],
      "metadata": {
        "id": "wI6t2JP2jMq7"
      },
      "execution_count": 30,
      "outputs": []
    },
    {
      "cell_type": "code",
      "source": [
        "tokenized_dataset[\"train\"][0:2]\n"
      ],
      "metadata": {
        "colab": {
          "base_uri": "https://localhost:8080/"
        },
        "id": "RtrQOWRgnicN",
        "outputId": "567948bc-b42a-4436-c2a9-f847b575aa53"
      },
      "execution_count": 32,
      "outputs": [
        {
          "output_type": "execute_result",
          "data": {
            "text/plain": [
              "{'input_ids': [[101,\n",
              "   7270,\n",
              "   22961,\n",
              "   1528,\n",
              "   1840,\n",
              "   1106,\n",
              "   21423,\n",
              "   1418,\n",
              "   2495,\n",
              "   12913,\n",
              "   119,\n",
              "   102],\n",
              "  [101, 1943, 14428, 102]],\n",
              " 'attention_mask': [[1, 1, 1, 1, 1, 1, 1, 1, 1, 1, 1, 1], [1, 1, 1, 1]],\n",
              " 'labels': [[-100, 3, 0, 7, 0, 0, 0, 7, 0, 0, 0, -100], [-100, 1, 2, -100]]}"
            ]
          },
          "metadata": {},
          "execution_count": 32
        }
      ]
    },
    {
      "cell_type": "markdown",
      "source": [
        "it is not the format that can we use for data collarator, instead we need grab a dictionary for each sample and store them in a list"
      ],
      "metadata": {
        "id": "Du0J3ZYapGih"
      }
    },
    {
      "cell_type": "code",
      "source": [
        "#this return a different format, which is a list containing dictionaries and each dic is a individual sample.\n",
        "[tokenized_dataset[\"train\"][i] for i in range(2)]"
      ],
      "metadata": {
        "colab": {
          "base_uri": "https://localhost:8080/"
        },
        "id": "sqQkKXy1og6Z",
        "outputId": "f18de59d-d526-4c7e-cbae-a2e82f6fbb45"
      },
      "execution_count": 34,
      "outputs": [
        {
          "output_type": "execute_result",
          "data": {
            "text/plain": [
              "[{'input_ids': [101,\n",
              "   7270,\n",
              "   22961,\n",
              "   1528,\n",
              "   1840,\n",
              "   1106,\n",
              "   21423,\n",
              "   1418,\n",
              "   2495,\n",
              "   12913,\n",
              "   119,\n",
              "   102],\n",
              "  'attention_mask': [1, 1, 1, 1, 1, 1, 1, 1, 1, 1, 1, 1],\n",
              "  'labels': [-100, 3, 0, 7, 0, 0, 0, 7, 0, 0, 0, -100]},\n",
              " {'input_ids': [101, 1943, 14428, 102],\n",
              "  'attention_mask': [1, 1, 1, 1],\n",
              "  'labels': [-100, 1, 2, -100]}]"
            ]
          },
          "metadata": {},
          "execution_count": 34
        }
      ]
    },
    {
      "cell_type": "code",
      "source": [
        "#exampl\n",
        "batch=data_collator([tokenized_dataset[\"train\"][i] for i in range(2)])\n",
        "batch"
      ],
      "metadata": {
        "colab": {
          "base_uri": "https://localhost:8080/"
        },
        "id": "--78xlP1oVoo",
        "outputId": "e254df4a-43a9-4e00-ee73-1a9aed4304ba"
      },
      "execution_count": 35,
      "outputs": [
        {
          "output_type": "stream",
          "name": "stderr",
          "text": [
            "You're using a DistilBertTokenizerFast tokenizer. Please note that with a fast tokenizer, using the `__call__` method is faster than using a method to encode the text followed by a call to the `pad` method to get a padded encoding.\n"
          ]
        },
        {
          "output_type": "execute_result",
          "data": {
            "text/plain": [
              "{'input_ids': tensor([[  101,  7270, 22961,  1528,  1840,  1106, 21423,  1418,  2495, 12913,\n",
              "           119,   102],\n",
              "        [  101,  1943, 14428,   102,     0,     0,     0,     0,     0,     0,\n",
              "             0,     0]]), 'attention_mask': tensor([[1, 1, 1, 1, 1, 1, 1, 1, 1, 1, 1, 1],\n",
              "        [1, 1, 1, 1, 0, 0, 0, 0, 0, 0, 0, 0]]), 'labels': tensor([[-100,    3,    0,    7,    0,    0,    0,    7,    0,    0,    0, -100],\n",
              "        [-100,    1,    2, -100, -100, -100, -100, -100, -100, -100, -100, -100]])}"
            ]
          },
          "metadata": {},
          "execution_count": 35
        }
      ]
    },
    {
      "cell_type": "code",
      "source": [
        "batch[\"labels\"]"
      ],
      "metadata": {
        "colab": {
          "base_uri": "https://localhost:8080/"
        },
        "id": "lPZbJY-Qsxyu",
        "outputId": "5dd70299-ef7f-4ff3-f7f7-bd85dc105ed7"
      },
      "execution_count": 36,
      "outputs": [
        {
          "output_type": "execute_result",
          "data": {
            "text/plain": [
              "tensor([[-100,    3,    0,    7,    0,    0,    0,    7,    0,    0,    0, -100],\n",
              "        [-100,    1,    2, -100, -100, -100, -100, -100, -100, -100, -100, -100]])"
            ]
          },
          "metadata": {},
          "execution_count": 36
        }
      ]
    },
    {
      "cell_type": "markdown",
      "source": [
        "By adding -100 and padding, The model will just end up predicting pad token all the time which makes the accuracy looks good, but it will perform poorly on the labels we actually care about."
      ],
      "metadata": {
        "id": "ASyskF2_tB07"
      }
    },
    {
      "cell_type": "code",
      "source": [
        "!pip install seqeval"
      ],
      "metadata": {
        "colab": {
          "base_uri": "https://localhost:8080/"
        },
        "id": "_v7Sv8KltAtD",
        "outputId": "9bb58dc8-85cf-4678-d99f-07e4bd9069fd"
      },
      "execution_count": 38,
      "outputs": [
        {
          "output_type": "stream",
          "name": "stdout",
          "text": [
            "Collecting seqeval\n",
            "  Downloading seqeval-1.2.2.tar.gz (43 kB)\n",
            "\u001b[2K     \u001b[90m━━━━━━━━━━━━━━━━━━━━━━━━━━━━━━━━━━━━━━━\u001b[0m \u001b[32m43.6/43.6 kB\u001b[0m \u001b[31m778.7 kB/s\u001b[0m eta \u001b[36m0:00:00\u001b[0m\n",
            "\u001b[?25h  Preparing metadata (setup.py) ... \u001b[?25l\u001b[?25hdone\n",
            "Requirement already satisfied: numpy>=1.14.0 in /usr/local/lib/python3.10/dist-packages (from seqeval) (1.23.5)\n",
            "Requirement already satisfied: scikit-learn>=0.21.3 in /usr/local/lib/python3.10/dist-packages (from seqeval) (1.2.2)\n",
            "Requirement already satisfied: scipy>=1.3.2 in /usr/local/lib/python3.10/dist-packages (from scikit-learn>=0.21.3->seqeval) (1.10.1)\n",
            "Requirement already satisfied: joblib>=1.1.1 in /usr/local/lib/python3.10/dist-packages (from scikit-learn>=0.21.3->seqeval) (1.3.2)\n",
            "Requirement already satisfied: threadpoolctl>=2.0.0 in /usr/local/lib/python3.10/dist-packages (from scikit-learn>=0.21.3->seqeval) (3.2.0)\n",
            "Building wheels for collected packages: seqeval\n",
            "  Building wheel for seqeval (setup.py) ... \u001b[?25l\u001b[?25hdone\n",
            "  Created wheel for seqeval: filename=seqeval-1.2.2-py3-none-any.whl size=16161 sha256=48e54381819bb5b2b80f387e5165e6c9d6fd42dc77efce61ebe8af116f836ade\n",
            "  Stored in directory: /root/.cache/pip/wheels/1a/67/4a/ad4082dd7dfc30f2abfe4d80a2ed5926a506eb8a972b4767fa\n",
            "Successfully built seqeval\n",
            "Installing collected packages: seqeval\n",
            "Successfully installed seqeval-1.2.2\n"
          ]
        }
      ]
    },
    {
      "cell_type": "code",
      "source": [
        "!"
      ],
      "metadata": {
        "id": "iNxH6AgZs1Pr"
      },
      "execution_count": null,
      "outputs": []
    }
  ]
}