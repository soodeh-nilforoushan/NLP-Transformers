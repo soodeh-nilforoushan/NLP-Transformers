{
  "nbformat": 4,
  "nbformat_minor": 0,
  "metadata": {
    "colab": {
      "provenance": [],
      "gpuType": "T4",
      "authorship_tag": "ABX9TyM/gDl9q3RbVgpaNadjo54O",
      "include_colab_link": true
    },
    "kernelspec": {
      "name": "python3",
      "display_name": "Python 3"
    },
    "language_info": {
      "name": "python"
    },
    "accelerator": "GPU"
  },
  "cells": [
    {
      "cell_type": "markdown",
      "metadata": {
        "id": "view-in-github",
        "colab_type": "text"
      },
      "source": [
        "<a href=\"https://colab.research.google.com/github/soodeh-nilforoushan/NLP-Transformers/blob/main/Machine_Translation_.ipynb\" target=\"_parent\"><img src=\"https://colab.research.google.com/assets/colab-badge.svg\" alt=\"Open In Colab\"/></a>"
      ]
    },
    {
      "cell_type": "markdown",
      "source": [
        "**Machine Translation:**\n",
        "machine translation similar to summarization is an example of seq2seq task.\n",
        "\n",
        "it can be used like an RNN and Transformers"
      ],
      "metadata": {
        "id": "6C5ZisQf8ZaA"
      }
    },
    {
      "cell_type": "markdown",
      "source": [
        "**Translation Evaluation**\n",
        "\n",
        "1.   BLUE (Bilingual Evaluation Understudy) score is the most popular metric.\n",
        "2.   the best correlated with human judgment.\n",
        "\n",
        "1.   **three Facts**:\n",
        "\n",
        "*   Prediction is compared with multiple refrence texts.(multiple possible answers)\n",
        "*   is a value between 0 and 1\n",
        "*   looks at a precision of n-grams(n=1,2,3,4)\n",
        "\n"
      ],
      "metadata": {
        "id": "sq4VNGEdLVlQ"
      }
    },
    {
      "cell_type": "code",
      "execution_count": 21,
      "metadata": {
        "colab": {
          "base_uri": "https://localhost:8080/"
        },
        "id": "xVcvZ8uozp46",
        "outputId": "bcdd4f6e-0bdd-4ab4-d866-a32a2e466875"
      },
      "outputs": [
        {
          "output_type": "stream",
          "name": "stdout",
          "text": [
            "File ‘spa-eng.zip’ already there; not retrieving.\n",
            "\n"
          ]
        }
      ],
      "source": [
        "!wget -nc http://storage.googleapis.com/download.tensorflow.org/data/spa-eng.zip"
      ]
    },
    {
      "cell_type": "markdown",
      "source": [
        "In this model we wanna see how the model performs on the dataset."
      ],
      "metadata": {
        "id": "xlWdlcFWM-BQ"
      }
    },
    {
      "cell_type": "code",
      "source": [
        "!unzip -nq spa-eng.zip"
      ],
      "metadata": {
        "id": "p5uaVAaqN0pq"
      },
      "execution_count": 22,
      "outputs": []
    },
    {
      "cell_type": "code",
      "source": [
        "!ls"
      ],
      "metadata": {
        "colab": {
          "base_uri": "https://localhost:8080/"
        },
        "id": "RPxGDsFSOB0z",
        "outputId": "3c6a7906-394c-4b0e-cb18-bd8ecdc14b7a"
      },
      "execution_count": 23,
      "outputs": [
        {
          "output_type": "stream",
          "name": "stdout",
          "text": [
            "sample_data  spa-eng  spa-eng.zip\n"
          ]
        }
      ]
    },
    {
      "cell_type": "code",
      "source": [
        "ls spa-eng"
      ],
      "metadata": {
        "colab": {
          "base_uri": "https://localhost:8080/"
        },
        "id": "Z220CupJOERK",
        "outputId": "26edb0e8-2ff5-43cf-9897-853ebdd74383"
      },
      "execution_count": 24,
      "outputs": [
        {
          "output_type": "stream",
          "name": "stdout",
          "text": [
            "_about.txt  spa.txt\n"
          ]
        }
      ]
    },
    {
      "cell_type": "code",
      "source": [
        "!head spa-eng/spa.txt"
      ],
      "metadata": {
        "colab": {
          "base_uri": "https://localhost:8080/"
        },
        "id": "k7AaWScmOa3T",
        "outputId": "45d4735b-789a-4a58-f990-5d97b7def8e6"
      },
      "execution_count": 25,
      "outputs": [
        {
          "output_type": "stream",
          "name": "stdout",
          "text": [
            "Go.\tVe.\n",
            "Go.\tVete.\n",
            "Go.\tVaya.\n",
            "Go.\tVáyase.\n",
            "Hi.\tHola.\n",
            "Run!\t¡Corre!\n",
            "Run.\tCorred.\n",
            "Who?\t¿Quién?\n",
            "Fire!\t¡Fuego!\n",
            "Fire!\t¡Incendio!\n"
          ]
        }
      ]
    },
    {
      "cell_type": "code",
      "source": [
        "#compile eng-spa translations\n",
        "# we wanna save the words in a dictionary since the key can be input phrase and value can be possible target phrases.\n",
        "eng2spa={}\n",
        "for line in open('spa-eng/spa.txt'):\n",
        "  line=line.rstrip()\n",
        "  eng,spa=line.split(\"\\t\")\n",
        "  if eng not in eng2spa:\n",
        "    eng2spa[eng]=[]\n",
        "  eng2spa[eng].append(spa)"
      ],
      "metadata": {
        "id": "6KcDtZ0yQND3"
      },
      "execution_count": 26,
      "outputs": []
    },
    {
      "cell_type": "code",
      "source": [
        "tokens=tokenizer.tokenize('Él renunció.'.lower())\n",
        "#the first argument is the list of acceptable translation and the second argument would be the model output\n",
        "sentence_bleu([tokens],tokens)"
      ],
      "metadata": {
        "colab": {
          "base_uri": "https://localhost:8080/"
        },
        "id": "PFaIgW2wZ7-I",
        "outputId": "375ba6df-84ee-4b39-b410-98fb80fd9cc7"
      },
      "execution_count": 31,
      "outputs": [
        {
          "output_type": "stream",
          "name": "stderr",
          "text": [
            "/usr/local/lib/python3.10/dist-packages/nltk/translate/bleu_score.py:552: UserWarning: \n",
            "The hypothesis contains 0 counts of 3-gram overlaps.\n",
            "Therefore the BLEU score evaluates to 0, independently of\n",
            "how many N-gram overlaps of lower order it contains.\n",
            "Consider using lower n-gram order or use SmoothingFunction()\n",
            "  warnings.warn(_msg)\n",
            "/usr/local/lib/python3.10/dist-packages/nltk/translate/bleu_score.py:552: UserWarning: \n",
            "The hypothesis contains 0 counts of 4-gram overlaps.\n",
            "Therefore the BLEU score evaluates to 0, independently of\n",
            "how many N-gram overlaps of lower order it contains.\n",
            "Consider using lower n-gram order or use SmoothingFunction()\n",
            "  warnings.warn(_msg)\n"
          ]
        },
        {
          "output_type": "execute_result",
          "data": {
            "text/plain": [
              "1.491668146240062e-154"
            ]
          },
          "metadata": {},
          "execution_count": 31
        }
      ]
    },
    {
      "cell_type": "code",
      "source": [
        "eng2spa"
      ],
      "metadata": {
        "colab": {
          "base_uri": "https://localhost:8080/"
        },
        "id": "0V9ZwitVWcYf",
        "outputId": "2c31f896-ee75-4532-cc10-b2808d084ec9"
      },
      "execution_count": 27,
      "outputs": [
        {
          "output_type": "execute_result",
          "data": {
            "text/plain": [
              "{'Go.': ['Ve.', 'Vete.', 'Vaya.', 'Váyase.'],\n",
              " 'Hi.': ['Hola.'],\n",
              " 'Run!': ['¡Corre!'],\n",
              " 'Run.': ['Corred.'],\n",
              " 'Who?': ['¿Quién?'],\n",
              " 'Fire!': ['¡Fuego!', '¡Incendio!', '¡Disparad!'],\n",
              " 'Help!': ['¡Ayuda!', '¡Socorro! ¡Auxilio!', '¡Auxilio!'],\n",
              " 'Jump!': ['¡Salta!'],\n",
              " 'Jump.': ['Salte.'],\n",
              " 'Stop!': ['¡Parad!', '¡Para!', '¡Pare!'],\n",
              " 'Wait!': ['¡Espera!'],\n",
              " 'Wait.': ['Esperen.'],\n",
              " 'Go on.': ['Continúa.', 'Continúe.'],\n",
              " 'Hello!': ['Hola.'],\n",
              " 'I ran.': ['Corrí.', 'Corría.'],\n",
              " 'I try.': ['Lo intento.'],\n",
              " 'I won!': ['¡He ganado!'],\n",
              " 'Oh no!': ['¡Oh, no!'],\n",
              " 'Relax.': ['Tomátelo con soda.'],\n",
              " 'Smile.': ['Sonríe.'],\n",
              " 'Attack!': ['¡Al ataque!', '¡Atacad!'],\n",
              " 'Get up.': ['Levanta.'],\n",
              " 'Go now.': ['Ve ahora mismo.'],\n",
              " 'Got it!': ['¡Lo tengo!'],\n",
              " 'Got it?': ['¿Lo pillas?', '¿Entendiste?'],\n",
              " 'He ran.': ['Él corrió.'],\n",
              " 'Hop in.': ['Métete adentro.'],\n",
              " 'Hug me.': ['Abrázame.'],\n",
              " 'I fell.': ['Me caí.'],\n",
              " 'I know.': ['Yo lo sé.'],\n",
              " 'I left.': ['Salí.'],\n",
              " 'I lied.': ['Mentí.'],\n",
              " 'I lost.': ['Perdí.'],\n",
              " 'I quit.': ['Dimito.', 'Renuncié.'],\n",
              " 'I work.': ['Estoy trabajando.'],\n",
              " \"I'm 19.\": ['Tengo diecinueve.'],\n",
              " \"I'm up.\": ['Estoy levantado.'],\n",
              " 'Listen.': ['Escucha.', 'Escuche.', 'Escuchen.'],\n",
              " 'No way!': ['¡No puede ser!',\n",
              "  'De ninguna manera.',\n",
              "  '¡De ninguna manera!',\n",
              "  '¡Imposible!',\n",
              "  '¡De ningún modo!',\n",
              "  '¡De eso nada!',\n",
              "  '¡Ni cagando!',\n",
              "  '¡Mangos!',\n",
              "  '¡Minga!',\n",
              "  '¡Ni en pedo!'],\n",
              " 'Really?': ['¿En serio?', '¿La verdad?'],\n",
              " 'Thanks.': ['¡Gracias!', 'Gracias.'],\n",
              " 'Try it.': ['Pruébalo.'],\n",
              " 'We try.': ['Lo procuramos.'],\n",
              " 'We won.': ['Ganamos.'],\n",
              " 'Why me?': ['¿Por qué yo?'],\n",
              " 'Ask Tom.': ['Pregúntale a Tom.'],\n",
              " 'Awesome!': ['¡Órale!'],\n",
              " 'Be calm.': ['Mantente en calma.'],\n",
              " 'Be cool.': ['Estate tranquilo.'],\n",
              " 'Be fair.': ['Sé justo.'],\n",
              " 'Be kind.': ['Sean gentiles.'],\n",
              " 'Be nice.': ['Sé agradable.'],\n",
              " 'Beat it.': ['Pírate.'],\n",
              " 'Call me.': ['Llamame.', 'Llamadme.', 'Llámame.'],\n",
              " 'Call us.': ['Llámanos.'],\n",
              " 'Come in.': ['Entre.', 'Pase.', '¡Entren!'],\n",
              " 'Come on!': ['¡Órale!'],\n",
              " 'Come on.': ['Ándale.', '¡Órale!'],\n",
              " 'Drop it!': ['Suéltalo.'],\n",
              " 'Get Tom.': ['Agarra a Tom.'],\n",
              " 'Get out!': ['Bájate.'],\n",
              " 'Get out.': ['Salte.', 'Sal.', 'Salí.', 'Salid.', 'Salgan.'],\n",
              " 'Go away!': ['¡Vete de aquí!',\n",
              "  '¡Lárgate!',\n",
              "  '¡Salga de aquí!',\n",
              "  '¡Largo!',\n",
              "  '¡Vete ya!',\n",
              "  '¡Órale!',\n",
              "  '¡A la calle!'],\n",
              " 'Go away.': ['¡Vete de aquí!',\n",
              "  '¡Lárgate!',\n",
              "  '¡Largo!',\n",
              "  '¡Vete ya!',\n",
              "  '¡Órale!',\n",
              "  'Lárguese.',\n",
              "  'Váyase.'],\n",
              " 'Go home.': ['Vete a casa.'],\n",
              " 'Go slow.': ['Vaya despacio.'],\n",
              " 'Goodbye!': ['¡Hasta luego!', 'Hasta la vista.', '¡Chau!'],\n",
              " 'Hang on!': ['¡Espera!', '¡Espera un momento!', '¡Un segundo!'],\n",
              " 'Hang on.': ['Agarra fuertemente.'],\n",
              " 'He came.': ['Él vino.'],\n",
              " 'He quit.': ['Él renunció.'],\n",
              " 'Help me!': ['Ayúdame.'],\n",
              " 'Help me.': ['Ayúdame.', 'Échame una mano.', 'Ayudame.'],\n",
              " 'Help us.': ['Ayúdanos.'],\n",
              " 'Hit Tom.': ['Golpea a Tom.'],\n",
              " 'Hold it!': ['Espera.'],\n",
              " 'Hold on.': ['Resista.', 'Resiste.', 'Agarra fuertemente.'],\n",
              " 'Hug Tom.': ['Abraza a Tom.'],\n",
              " 'I agree.': ['Estoy de acuerdo.', 'De acuerdo.'],\n",
              " 'I bowed.': ['Me incliné.'],\n",
              " 'I moved.': ['Me he mudado.',\n",
              "  'Me mudé.',\n",
              "  'Me trasladé.',\n",
              "  'Me he trasladado.'],\n",
              " 'I slept.': ['Dormí.'],\n",
              " 'I tried.': ['Lo intenté.'],\n",
              " \"I'll go.\": ['Iré.'],\n",
              " \"I'm Tom.\": ['Soy Tom.'],\n",
              " \"I'm fat.\": ['Estoy gordo.', 'Soy gorda.'],\n",
              " \"I'm fit.\": ['Estoy en forma.'],\n",
              " \"I'm hit!\": ['Estoy afectado.'],\n",
              " \"I'm old.\": ['Soy viejo.'],\n",
              " \"I'm shy.\": ['Soy tímido.'],\n",
              " \"I'm wet.\": ['Estoy mojada.'],\n",
              " \"It's OK.\": ['Está bien.'],\n",
              " \"It's me!\": ['Soy yo.'],\n",
              " \"It's me.\": ['Soy yo.'],\n",
              " 'Join us.': ['Únete a nosotros.', 'Sé parte nuestra.'],\n",
              " 'Keep it.': ['Guárdalo.'],\n",
              " 'Me, too.': ['Yo, también.'],\n",
              " 'Open up.': ['Abre.'],\n",
              " 'Perfect!': ['¡Perfecto!'],\n",
              " 'See you.': ['Nos vemos.'],\n",
              " 'Show me.': ['Muéstramelo.', 'Enséñamelo.', 'Mostrame.'],\n",
              " 'Shut up!': ['¡Cierra la boca!', '¡Cerrá el pico!'],\n",
              " 'Skip it.': ['Sáltatelo.'],\n",
              " 'So long.': ['Hasta la vista.', 'Hasta luego.'],\n",
              " 'Stop it.': ['Páralo.', 'Deténlo.'],\n",
              " 'Take it.': ['Cógelo.'],\n",
              " 'Tell me.': ['Decime.'],\n",
              " 'Tom ate.': ['Tom comió.'],\n",
              " 'Tom ran.': ['Tom corrió.'],\n",
              " 'Tom won.': ['Tom ganó.'],\n",
              " 'Wait up.': ['Espérame despierto.'],\n",
              " 'Wake up!': ['¡Despierta!', '¡Despiértate!', '¡Despertate!'],\n",
              " 'Wake up.': ['Despierta.'],\n",
              " 'Wash up.': ['Lávate las manos.'],\n",
              " 'We care.': ['Nos preocupamos.'],\n",
              " 'We know.': ['Lo sabemos.'],\n",
              " 'We lost.': ['Perdimos.'],\n",
              " 'Welcome.': ['Bienvenidos.', 'Bienvenidas.'],\n",
              " 'Who ate?': ['¿Quién comió?'],\n",
              " 'Who ran?': ['¿Quién corría?', '¿Quién corrió?'],\n",
              " 'Who won?': ['¿Quién ganó?', '¿Quién ha ganado?'],\n",
              " 'Why not?': ['¿Por qué no?'],\n",
              " 'You run.': ['Corre.'],\n",
              " 'You won.': ['Has ganado.'],\n",
              " 'Am I fat?': ['¿Estoy gordo?'],\n",
              " 'Ask them.': ['Preguntales.', 'Pregúntales.'],\n",
              " 'Back off!': ['Aparta.'],\n",
              " 'Back off.': ['Apártate.'],\n",
              " 'Be a man.': ['Sé un hombre.'],\n",
              " 'Be brave.': ['Sé fuerte.'],\n",
              " 'Be brief.': ['Sé breve.', 'Sea breve.', 'Sean breves.'],\n",
              " 'Be quiet.': ['Estate quieto.'],\n",
              " 'Be still.': ['No te muevas.'],\n",
              " 'Call Tom.': ['¡Llamalo a Tomás!', '¡Llámalo a Tomás!', '¡Llámenlo a Tomás!'],\n",
              " 'Cheer up!': ['Anímate.'],\n",
              " 'Cheer up.': ['Venga.'],\n",
              " 'Cool off!': ['¡Cálmate!'],\n",
              " 'Cuff him.': ['Espósale.'],\n",
              " \"Don't go.\": ['No te vayas.'],\n",
              " 'Drive on.': ['Continúa.'],\n",
              " 'Find Tom.': ['Encontralo a Tomás.',\n",
              "  'Encuéntralo a Tomás.',\n",
              "  'Encuéntrelo a Tomás.',\n",
              "  'Encuéntrenlo a Tomás.',\n",
              "  'Encuentre a Tom.',\n",
              "  'Encuentren a Tom.'],\n",
              " 'Fix this.': ['Arregla esto.'],\n",
              " 'Get away!': ['¡Vete de aquí!', '¡Lárgate!', '¡Largo!', '¡Vete ya!'],\n",
              " 'Get down!': ['Ponte a ello.'],\n",
              " 'Get down.': ['Abajo.', 'Túmbate.'],\n",
              " 'Get lost!': ['¡Piérdete!',\n",
              "  '¡Vete de aquí!',\n",
              "  '¡Lárgate!',\n",
              "  '¡Largo!',\n",
              "  '¡Vete ya!'],\n",
              " 'Get lost.': ['Esfúmate.'],\n",
              " 'Get real!': ['¡Despierta!', '¡Piénsalo bien!'],\n",
              " 'Get real.': ['Abre los ojos.'],\n",
              " 'Go ahead!': ['Adelante.'],\n",
              " 'Go ahead.': ['Adelante.'],\n",
              " 'Go on in.': ['Entre.', 'Entra.', 'Entren.', 'Entrá.', 'Entrad.'],\n",
              " 'Good job!': ['¡Buen trabajo!'],\n",
              " 'Grab Tom.': ['Sujeta a Tom.'],\n",
              " 'Grab him.': ['Agárralo.'],\n",
              " 'Have fun.': ['Diviértanse.', 'Pásala bien.', 'Pásenla bien.'],\n",
              " 'He spoke.': ['Él habló.'],\n",
              " 'He tries.': ['Él lo intenta.', 'Él prueba.'],\n",
              " 'Help Tom.': ['Ayuda a Tom.'],\n",
              " 'Help him.': ['Ayúdalo.'],\n",
              " 'Hi, guys.': ['Hola, ¿qué hay?',\n",
              "  'Ey, chavales.',\n",
              "  '¿Qué pasa, troncos?',\n",
              "  'Buenas.',\n",
              "  '¿Qué tal os va?',\n",
              "  'Hola por aquí.'],\n",
              " 'How cute!': ['¡Qué encanto!'],\n",
              " 'How deep?': ['¿Qué tan profundo?', '¿Cómo de profundo?'],\n",
              " 'Humor me.': ['Hazme el favor.', 'Compláceme.'],\n",
              " 'Hurry up.': ['¡Date prisa!', 'Apresúrate.'],\n",
              " 'I agreed.': ['Convine.', 'Acepté.', 'Accedí.'],\n",
              " 'I am fat.': ['Soy gorda.'],\n",
              " 'I am old.': ['Estoy viejo.'],\n",
              " 'I ate it.': ['Me lo comí.', 'Me la comí.'],\n",
              " 'I can go.': ['Puedo ir.'],\n",
              " 'I did OK.': ['Lo hice bien.'],\n",
              " 'I did it.': ['Lo hice.'],\n",
              " 'I failed.': ['Fracasé.'],\n",
              " 'I forgot.': ['Lo olvidé.'],\n",
              " 'I get by.': ['Me las arreglo.'],\n",
              " 'I get it.': ['Lo entiendo.'],\n",
              " 'I got it.': ['Lo tengo.'],\n",
              " 'I phoned.': ['Llamé por teléfono.'],\n",
              " 'I refuse.': ['Me niego.'],\n",
              " 'I resign.': ['Dimito.', 'Renuncio.'],\n",
              " 'I saw it.': ['Lo vi.'],\n",
              " 'I smiled.': ['Sonreí.'],\n",
              " 'I stayed.': ['Me quedé.'],\n",
              " 'I talked.': ['Hablé.', 'Hablaba.', 'Charlé.', 'Charlaba.'],\n",
              " 'I use it.': ['Yo lo uso.'],\n",
              " 'I waited.': ['Esperé.'],\n",
              " \"I'll pay.\": ['Yo pagaré.'],\n",
              " \"I'm back.\": ['He vuelto.', 'Estoy de vuelta.'],\n",
              " \"I'm bald.\": ['Soy calvo.', 'Estoy calvo.'],\n",
              " \"I'm calm.\": ['Estoy calmado.'],\n",
              " \"I'm cool.\": ['Estoy tranquilo.'],\n",
              " \"I'm done.\": ['He terminado.'],\n",
              " \"I'm easy.\": ['Soy bastante facilón.'],\n",
              " \"I'm fair.\": ['Soy justo.'],\n",
              " \"I'm fine.\": ['Estoy perfectamente.'],\n",
              " \"I'm free!\": ['¡Soy libre!'],\n",
              " \"I'm free.\": ['Yo soy libre.'],\n",
              " \"I'm full.\": ['Estoy lleno.', 'Estoy llena.', 'Ya me llené.'],\n",
              " \"I'm here.\": ['Estoy aquí.'],\n",
              " \"I'm home.\": ['Estoy en casa.'],\n",
              " \"I'm hurt.\": ['Estoy herido.'],\n",
              " \"I'm late.\": ['Llego tarde.'],\n",
              " \"I'm lazy.\": ['Soy vago.'],\n",
              " \"I'm lost.\": ['Estoy perdida.'],\n",
              " \"I'm mean.\": ['Soy malo.'],\n",
              " \"I'm next.\": ['Me toca a mí.'],\n",
              " \"I'm okay.\": ['Estoy perfectamente.'],\n",
              " \"I'm poor.\": ['Soy pobre.'],\n",
              " \"I'm rich.\": ['Soy rica.', 'Soy rico.'],\n",
              " \"I'm safe.\": ['Estoy a salvo.'],\n",
              " \"I'm sick.\": ['Estoy enferma.'],\n",
              " \"I'm thin.\": ['Soy delgado.'],\n",
              " \"I'm tidy.\": ['Estoy limpio.'],\n",
              " \"I'm warm.\": ['Estoy calentito.'],\n",
              " \"I'm weak.\": ['Estoy débil.'],\n",
              " \"I'm wise.\": ['Soy listo.'],\n",
              " \"I've won.\": ['Gané.'],\n",
              " 'It helps.': ['Eso ayuda.'],\n",
              " 'It hurts.': ['Duele.'],\n",
              " 'It works.': ['Funciona.'],\n",
              " \"It's Tom.\": ['Es Tom.'],\n",
              " \"It's fun.\": ['Es divertido.'],\n",
              " \"It's his.\": ['Es suyo.'],\n",
              " \"It's new.\": ['Es nuevo.'],\n",
              " \"It's odd.\": ['Es extraño.'],\n",
              " \"It's old.\": ['Es viejo.'],\n",
              " \"It's red.\": ['Es rojo.'],\n",
              " \"It's sad.\": ['Es triste.'],\n",
              " 'Keep out!': ['Prohibido pasar.'],\n",
              " 'Keep out.': ['No entrar.'],\n",
              " 'Kiss Tom.': ['Besá a Tomás.', 'Besa a Tomás.', 'Besen a Tomás.'],\n",
              " 'Leave it.': ['Déjalo.'],\n",
              " 'Leave me.': ['Déjame.'],\n",
              " 'Leave us.': ['Déjanos.'],\n",
              " \"Let's go!\": ['Vamos.', '¡Órale!'],\n",
              " 'Look out!': ['Cuidado.'],\n",
              " 'Marry me.': ['Cásate conmigo.'],\n",
              " 'May I go?': ['¿Puedo ir?'],\n",
              " 'Save Tom.': ['Salva a Tom.'],\n",
              " 'She came.': ['Ella vino.'],\n",
              " 'She died.': ['Ella murió.'],\n",
              " 'She runs.': ['Ella corre.'],\n",
              " 'Sit down!': ['¡Sentate!'],\n",
              " 'Sit down.': ['Siéntate.'],\n",
              " 'Sit here.': ['Siéntate aquí.'],\n",
              " 'Speak up!': ['¡Hable más fuerte!', 'Habla más fuerte.', '¡Habla más alto!'],\n",
              " 'Stand by.': ['Prepárate.', 'Un momento.'],\n",
              " 'Stand up!': ['¡Parate!', '¡De pie!'],\n",
              " 'Stay put.': ['No te muevas.'],\n",
              " 'Stop Tom.': ['Detén a Tom.'],\n",
              " 'Take Tom.': ['Llévate a Tom.'],\n",
              " 'Tell Tom.': ['Díselo a Tom.'],\n",
              " 'Terrific!': ['¡Genial!', '¡Órale!'],\n",
              " 'They won.': ['Ellos ganaron.'],\n",
              " 'Tom came.': ['Tom vino.'],\n",
              " 'Tom died.': ['Tom ha muerto.'],\n",
              " 'Tom fell.': ['Tom se cayó.'],\n",
              " 'Tom knew.': ['Tom lo sabía.', 'Tom tenía constancia de ello.'],\n",
              " 'Tom left.': ['Tom se fue.'],\n",
              " 'Tom lied.': ['Tom mintió.'],\n",
              " 'Tom lies.': ['Tomás miente.'],\n",
              " 'Tom lost.': ['Tom perdió.'],\n",
              " 'Tom paid.': ['Tom pagó.'],\n",
              " 'Tom quit.': ['Tom renunció.'],\n",
              " 'Tom swam.': ['Tom nadó.'],\n",
              " 'Tom wept.': ['Tom lloró.'],\n",
              " \"Tom's up.\": ['Tom se ha levantado.'],\n",
              " 'Too late.': ['Demasiado tarde.'],\n",
              " 'Trust me.': ['Confía en mí.'],\n",
              " 'Try hard.': ['Inténtalo de veras.'],\n",
              " 'Try some.': ['Prueba un poco.', 'Pruebe un poco.', 'Prueben un poco.'],\n",
              " 'Try this.': ['Prueben esto.', 'Probá esto.', 'Prueba esto.'],\n",
              " 'Use this.': ['Usa esto.'],\n",
              " 'Warn Tom.': ['Avísale a Tom.',\n",
              "  'Avísele a Tom.',\n",
              "  'Avísenle a Tom.',\n",
              "  'Avisale a Tom.'],\n",
              " 'Watch me.': ['Mírame.', 'Vigílame.', 'Obsérvame.'],\n",
              " 'Watch us.': ['Obsérvalos.', 'Obsérvanos.'],\n",
              " 'We agree.': ['Estamos de acuerdo.'],\n",
              " 'We tried.': ['Lo intentamos.'],\n",
              " \"We'll go.\": ['Iremos.'],\n",
              " \"We're OK.\": ['Estamos bien.'],\n",
              " 'What for?': ['¿Para qué?'],\n",
              " 'What fun!': ['¡Qué divertido!'],\n",
              " 'Who am I?': ['¿Quién soy yo?'],\n",
              " 'Who came?': ['¿Quién vino?'],\n",
              " 'Who died?': ['¿Quién murió?'],\n",
              " 'Who fell?': ['¿Quién se calló?', '¿Quién se cayó?'],\n",
              " 'Who quit?': ['¿Quién se ha ido?', '¿Quién lo ha dejado?'],\n",
              " 'Who swam?': ['¿Quién nadó?'],\n",
              " \"Who's he?\": ['¿Quién es él?'],\n",
              " 'Write me.': ['Escríbeme.'],\n",
              " 'After you.': ['Después de ti.',\n",
              "  'Tú primero.',\n",
              "  'Usted primero.',\n",
              "  'Después de usted.',\n",
              "  'Después de vosotras.'],\n",
              " 'Aim. Fire!': ['Apunta. ¡Fuego!'],\n",
              " 'Answer me.': ['Respóndeme.', 'Respondedme.', 'Respóndanme.'],\n",
              " 'Birds fly.': ['Los pájaros vuelan.'],\n",
              " 'Bless you.': ['Jesús.'],\n",
              " 'Call home!': ['¡Llama a casa!'],\n",
              " 'Calm down.': ['Cálmate.',\n",
              "  'Tranquilízate.',\n",
              "  'Tomátelo con soda.',\n",
              "  'Bajá un cambio.'],\n",
              " 'Can we go?': ['¿Podemos ir?', '¿Podemos irnos?', '¿Podemos marcharnos?'],\n",
              " 'Catch Tom.': ['¡Atrápelo a Tomás!'],\n",
              " 'Catch him.': ['Captúralo.', 'Captúrenlo.', 'Atrápenlo.', 'Atrápalo.'],\n",
              " 'Come back.': ['Vuelve.'],\n",
              " 'Come here.': ['Vení.', 'Ven.', 'Venid aquí.'],\n",
              " 'Come home.': ['Ven a casa.'],\n",
              " 'Come over.': ['Venid aquí.', 'Vente.', 'Veníos.', 'Venga aquí.'],\n",
              " 'Come soon.': ['Vuelve pronto.'],\n",
              " 'Do it now.': ['Hazlo ahora.'],\n",
              " 'Dogs bark.': ['Los perros ladran.'],\n",
              " \"Don't ask.\": ['No preguntes.'],\n",
              " \"Don't cry.\": ['No llores.', '¡No llorés!', '¡No llores!', 'No lloren.'],\n",
              " \"Don't lie.\": ['No mintáis.'],\n",
              " \"Don't run.\": ['No corras.'],\n",
              " 'Fantastic!': ['¡Fantástico!', '¡Es estupendo!', '¡Órale!'],\n",
              " 'Feel this.': ['Tienta esto.',\n",
              "  'Tiente esto.',\n",
              "  'Tienten esto.',\n",
              "  'Tentad esto.',\n",
              "  'Tentá esto.'],\n",
              " 'Follow me.': ['Sígueme.', 'Seguidme.'],\n",
              " 'Follow us.': ['Síguenos.'],\n",
              " 'Forget it.': ['Déjalo.'],\n",
              " 'Forget me.': ['Olvídame.',\n",
              "  'Olvídate de mí.',\n",
              "  'Olvídenme.',\n",
              "  'Olvídense de mí.'],\n",
              " 'Get ready.': ['Preparaos.'],\n",
              " 'Go for it.': ['Ve a por ello.', 'Ve a cogerlo.'],\n",
              " 'Go get it.': ['Ve a por ello.', 'Vete a por ello.', 'Id a por ello.'],\n",
              " 'Go inside.': ['Entra.'],\n",
              " 'Go to bed.': ['Vete a la cama.'],\n",
              " 'Grab that.': ['Cógelo.'],\n",
              " 'Grab this.': ['Agarra esto.'],\n",
              " 'Have some.': ['Coge alguno.', 'Toma algo.', 'Tome alguno.'],\n",
              " 'He is old.': ['Él es viejo.', 'Él es anciano.'],\n",
              " 'He shaved.': ['Él se afeitó.'],\n",
              " 'He smiled.': ['Sonrió.'],\n",
              " \"He's a DJ.\": ['Él es DJ.'],\n",
              " \"He's fast.\": ['Él es veloz.'],\n",
              " \"He's good.\": ['Él es bueno.'],\n",
              " \"He's rich.\": ['Él es rico.', 'Es rico.'],\n",
              " 'Here I am.': ['Acá estoy.'],\n",
              " 'Hold this.': ['Sostén esto.'],\n",
              " 'How awful!': ['¡Qué horror!'],\n",
              " 'How weird!': ['¡Qué raro!'],\n",
              " \"How's Tom?\": ['¿Cómo está Tom?'],\n",
              " 'Humor Tom.': ['Divierte a Tom.'],\n",
              " 'I am busy.': ['Estoy ocupada.'],\n",
              " 'I am full.': ['Estoy lleno.', 'Estoy llena.'],\n",
              " 'I am good.': ['Soy bueno.'],\n",
              " 'I am here.': ['Estoy aquí.'],\n",
              " 'I am sick.': ['Estoy enferma.'],\n",
              " 'I am weak.': ['Estoy débil.'],\n",
              " 'I beg you.': ['Te lo ruego.', 'Te lo suplico.'],\n",
              " 'I can fly.': ['Puedo volar.'],\n",
              " 'I can run.': ['Puedo correr.', 'Sé correr.'],\n",
              " 'I can ski.': ['Sé esquiar.'],\n",
              " 'I cringed.': ['Sentí vergüenza.'],\n",
              " 'I fainted.': ['Perdí la consciencia.', 'Quedé inconsciente.'],\n",
              " 'I gave up.': ['Lo dejé.', 'Me rendí.', 'Tiré la toalla.', 'Cedí.'],\n",
              " 'I get you.': ['Te entiendo.', 'Te pillo.', 'Ya te pillo.'],\n",
              " 'I got hit.': ['Me dieron.', 'Me alcanzaron.'],\n",
              " 'I hate it.': ['Lo odio.', 'Me la seca.', 'Me la baja.'],\n",
              " 'I hit Tom.': ['Golpeo a Tom.'],\n",
              " 'I hope so.': ['Eso espero.'],\n",
              " 'I knew it.': ['Lo sabía.'],\n",
              " 'I laughed.': ['Me reí.'],\n",
              " 'I like it.': ['Me gusta.'],\n",
              " 'I love it!': ['¡Lo adoro!'],\n",
              " 'I love it.': ['Me encanta.'],\n",
              " 'I mean it!': ['Hablo en serio.'],\n",
              " 'I mean it.': ['Lo digo en serio.', 'Hablo en serio.'],\n",
              " 'I miss it.': ['Lo echo en falta.', 'Lo echo de menos.', 'Lo añoro.'],\n",
              " 'I need it.': ['Lo necesito.'],\n",
              " 'I saw Tom.': ['Vi a Tom.'],\n",
              " 'I saw him.': ['Le vi.', 'Lo vi.'],\n",
              " 'I saw one.': ['Vi uno.', 'Vi a uno.', 'Veía a uno.'],\n",
              " 'I saw you.': ['Te vi.', 'Te he visto.'],\n",
              " 'I see Tom.': ['Veo a Tom.'],\n",
              " 'I tripped.': ['Me tropecé.'],\n",
              " \"I'll cook.\": ['Yo cocinaré.', 'Yo guisaré.'],\n",
              " \"I'll live.\": ['Viviré.'],\n",
              " \"I'll sing.\": ['Cantaré.'],\n",
              " \"I'll stop.\": ['Pararé.', 'Lo dejaré.'],\n",
              " \"I'll wait.\": ['Esperaré.', 'Aguardaré.'],\n",
              " \"I'll walk.\": ['Caminaré.', 'Andaré.'],\n",
              " \"I'll work.\": ['Voy a trabajar.'],\n",
              " \"I'm a man.\": ['Soy un hombre.'],\n",
              " \"I'm a pro.\": ['Soy un pro.'],\n",
              " \"I'm alone.\": ['Estoy solo.',\n",
              "  'Estoy sola.',\n",
              "  'Yo estoy solo.',\n",
              "  'Yo estoy sola.'],\n",
              " \"I'm angry.\": ['Estoy enojado.', 'Estoy enojada.'],\n",
              " \"I'm awake.\": ['Estoy despierto.'],\n",
              " \"I'm blind.\": ['Soy ciega.'],\n",
              " \"I'm broke.\": ['Estoy sin dinero.',\n",
              "  'Estoy quebrado.',\n",
              "  'Estoy sin blanca.',\n",
              "  'No tengo blanca.'],\n",
              " \"I'm crazy.\": ['Estoy loco.'],\n",
              " \"I'm drunk.\": ['Estoy borracho.', 'Estoy tomada.', 'Estoy prendida.'],\n",
              " \"I'm dying.\": ['Me estoy muriendo.'],\n",
              " \"I'm first.\": ['Soy el primero.',\n",
              "  'Voy el primero.',\n",
              "  'Me toca primero.',\n",
              "  'Yo voy primero.'],\n",
              " \"I'm happy.\": ['Soy feliz.', 'Estoy feliz.'],\n",
              " \"I'm loved.\": ['Soy amado.', 'Soy amada.'],\n",
              " \"I'm obese.\": ['Soy obeso.'],\n",
              " \"I'm ready.\": ['Estoy listo.'],\n",
              " \"I'm sorry.\": ['Lo siento.'],\n",
              " \"I'm tired.\": ['Yo estoy cansado.', 'Yo estoy cansada.'],\n",
              " \"I'm yours.\": ['Soy tuyo.', 'Soy tuya.', 'Soy suyo.'],\n",
              " \"I've lost.\": ['He perdido.'],\n",
              " 'Ignore it.': ['Ólvidalo.', 'No hagas caso.'],\n",
              " 'Is Tom OK?': ['¿Está bien Tom?'],\n",
              " 'Is Tom in?': ['¿Está Tom?'],\n",
              " 'Is it bad?': ['¿Es grave?', '¿Es malo?'],\n",
              " 'Is it far?': ['¿Está lejos?'],\n",
              " 'Is it you?': ['¿Eres tú?'],\n",
              " 'It burned.': ['Se quemó.'],\n",
              " 'It failed.': ['No lo consiguió.', 'Falló.', 'Fracasó.'],\n",
              " 'It is new.': ['Es nuevo.'],\n",
              " 'It rained.': ['Llovió.'],\n",
              " 'It snowed.': ['Nevó.'],\n",
              " 'It stinks.': ['Apesta.'],\n",
              " 'It worked.': ['Funcionó.'],\n",
              " \"It's 3:10.\": ['Son las tres y diez.'],\n",
              " \"It's 8:30.\": ['Son las 8:30.'],\n",
              " \"It's a TV.\": ['Es un televisor.'],\n",
              " \"It's cold.\": ['Hace frío.', 'Está frío.'],\n",
              " \"It's cool.\": ['Está frío.', 'Está fresco.'],\n",
              " \"It's dark.\": ['Está oscuro.'],\n",
              " \"It's done!\": ['¡Está listo!'],\n",
              " \"It's fine.\": ['Está perfecto.'],\n",
              " \"It's good.\": ['Está bien.', 'Es bueno.'],\n",
              " \"It's here.\": ['Está aquí.'],\n",
              " \"It's hers.\": ['Es de ella.'],\n",
              " \"It's late.\": ['Es tarde.'],\n",
              " \"It's mine.\": ['Es mío.', 'Es mía.'],\n",
              " \"It's nice.\": ['Es agradable.', 'Hace buen tiempo.'],\n",
              " \"It's okay.\": ['Vale.', 'Está bien.'],\n",
              " \"It's ours.\": ['Es nuestro.', 'Es la nuestra.'],\n",
              " \"It's over.\": ['Se terminó.', 'Se acabó.'],\n",
              " \"It's time.\": ['Ha llegado el momento.',\n",
              "  'Es la hora.',\n",
              "  'Es el momento.',\n",
              "  'Ha llegado la hora.'],\n",
              " \"It's true!\": ['¡Es verdad!'],\n",
              " \"It's true.\": ['Es verdad.'],\n",
              " \"It's work.\": ['Es mi trabajo.'],\n",
              " 'Keep them.': ['Guárdalos.', 'Quédatelos.', 'Guárdenselos.'],\n",
              " 'Keep this.': ['Guarda esto.',\n",
              "  'Guarde esto.',\n",
              "  'Guardá esto.',\n",
              "  'Guardad esto.',\n",
              "  'Guarden esto.'],\n",
              " 'Keep warm.': ['Mantente caliente.',\n",
              "  'Manténgase caliente.',\n",
              "  'Mantenete caliente.',\n",
              "  'Mantenete abrigado.',\n",
              "  'Mantente abrigado.',\n",
              "  'Manténgase abrigado.',\n",
              "  'Manténganse calientes.',\n",
              "  'Manténganse abrigados.'],\n",
              " 'Leave Tom.': ['Dejalo a Tomás.', 'Déjalo a Tomás.', 'Déjelo a Tomás.'],\n",
              " 'Leave now.': ['Ahora márchate.', 'Ahora vete.', 'Ahora lárgate.'],\n",
              " 'Let me go!': ['¡Déjame marchar!', '¡Suéltame!', '¡Déjeme ir!'],\n",
              " 'Let me go.': ['¡Déjeme ir!'],\n",
              " 'Let me in.': ['Déjame entrar.', 'Déjeme entrar.'],\n",
              " 'Let us in.': ['Déjanos entrar.'],\n",
              " \"Let's eat.\": ['Comamos.'],\n",
              " \"Let's see.\": ['Veamos.'],\n",
              " \"Let's try!\": ['¡Intentémoslo!'],\n",
              " 'Lie still.': ['Túmbate en silencio.', 'Mantente quieto en el suelo.'],\n",
              " 'Listen up.': ['Escuchá.'],\n",
              " 'Look away.': ['Mirá para otro lado.',\n",
              "  'Mira para otro lado.',\n",
              "  'Mire para otro lado.',\n",
              "  'Miren para otro lado.'],\n",
              " 'Look back!': ['¡Mira hacia atrás!'],\n",
              " 'Look back.': ['Mira atrás.', 'Mire atrás.', 'Mirad atrás.'],\n",
              " 'Look here.': ['Mira aquí.', 'Mirad aquí.', 'Miren aquí.'],\n",
              " 'Loosen it.': ['Aflójalo.', 'Suéltalo.', 'Suéltala.', 'Aflójala.'],\n",
              " 'Move over.': ['Hazte a un lado.',\n",
              "  'Deja sitio.',\n",
              "  'Mueve el culo.',\n",
              "  'Deja pasar.'],\n",
              " 'Nice shot!': ['¡Buen tiro!'],\n",
              " 'Of course!': ['¡Por supuesto!'],\n",
              " 'Open fire!': ['¡Disparad!', '¡Fuego a discreción!'],\n",
              " 'Pardon me?': ['¿Perdona?'],\n",
              " 'Please go.': ['Por favor, ve.',\n",
              "  'Por favor, vete.',\n",
              "  'Por favor, márchate.',\n",
              "  'Por favor, váyase.'],\n",
              " 'Put it on.': ['Póntelo.', 'Póngaselo.'],\n",
              " 'Read this.': ['Lee esto.', 'Lea esto.', 'Lean esto.', 'Leed esto.'],\n",
              " 'Say hello.': ['Decí hola.'],\n",
              " 'Search me.': ['A mí que me registren.'],\n",
              " 'See above.': ['Véase arriba.', 'Véase más arriba.'],\n",
              " 'Seize him!': ['¡A por él!',\n",
              "  '¡Cogedlo!',\n",
              "  '¡Arrestadlo!',\n",
              "  '¡Prendedlo!',\n",
              "  '¡Capturadlo!'],\n",
              " 'Seriously?': ['¿En serio?'],\n",
              " 'She tried.': ['Ella lo intentó.', 'Ella lo probó.'],\n",
              " 'She walks.': ['Ella anda.', 'Ella camina.', 'Anda.'],\n",
              " \"She's hot.\": ['Ella es candente.',\n",
              "  'Está como un tren.',\n",
              "  'Está de toma pan y moja.',\n",
              "  'Está buena.',\n",
              "  'Está que cruje.'],\n",
              " 'Sign here.': ['Firme aquí.'],\n",
              " 'Sign this.': ['Firma esto.',\n",
              "  'Firme esto.',\n",
              "  'Firmen esto.',\n",
              "  'Firmá esto.',\n",
              "  'Firmad esto.'],\n",
              " 'Sit still.': ['Siéntate y no te muevas.', 'Siéntate y quédate quieto.'],\n",
              " 'Sit there.': ['Sentate ahí.'],\n",
              " 'Sit tight.': ['Tú mantente.'],\n",
              " 'Slow down.': ['Quieto.', 'Más despacio.'],\n",
              " 'Stay away.': ['Fuera.', 'Aléjate.'],\n",
              " 'Stay calm.': ['Mantén la calma.', 'Mantené la calma.'],\n",
              " 'Stay here.': ['Quedate acá.'],\n",
              " 'Step back.': ['Da un paso atrás.'],\n",
              " 'Stop here.': ['Para aquí.',\n",
              "  'Párate aquí.',\n",
              "  'Detente aquí.',\n",
              "  'Deténgase aquí.',\n",
              "  'Deténganse aquí.',\n",
              "  'Paraos aquí.',\n",
              "  'Parad aquí.'],\n",
              " 'Stop that.': ['Para eso.'],\n",
              " 'Stop them.': ['Deténlos.', 'Párales.'],\n",
              " 'Take care!': ['¡Cuidate!', '¡Te cuidas!'],\n",
              " 'Take care.': ['Cuídate.', 'Cuidaos.'],\n",
              " 'Take mine.': ['Coge el mío.', 'Toma el mío.'],\n",
              " 'Take over.': ['Asume el mando.', 'Toma el control.', 'Encárgate tú.'],\n",
              " 'Take this.': ['Toma esto.', 'Tome esto.', 'Tomen esto.', 'Tomá esto.'],\n",
              " 'Thank you.': ['¡Gracias!', 'Gracias a ti.', 'Gracias.'],\n",
              " \"That's it.\": ['Eso es.'],\n",
              " \"That's me.\": ['Soy yo.', 'Ese soy yo.'],\n",
              " 'Then what?': ['¿Entonces qué?'],\n",
              " 'They fell.': ['Cayeron.'],\n",
              " 'They left.': ['Se fueron.', 'Se marcharon.', 'Se iban.'],\n",
              " 'They lost.': ['Perdieron.'],\n",
              " 'Tom bowed.': ['Tom se inclinó.'],\n",
              " 'Tom cared.': ['Tom se preocupó.',\n",
              "  'Tom se preocupaba.',\n",
              "  'A Tom le importaba.'],\n",
              " 'Tom cares.': ['Tom se preocupa.', 'A Tom le importa.'],\n",
              " 'Tom cried.': ['Tom lloró.'],\n",
              " 'Tom dozed.': ['Tom dormitó.'],\n",
              " 'Tom drove.': ['Tomás condujo.'],\n",
              " 'Tom is OK.': ['Tom está bien.'],\n",
              " 'Tom is in.': ['Tom está dentro.'],\n",
              " 'Tom is up.': ['Tom está levantado.'],\n",
              " 'Tom knits.': ['Tom teje.'],\n",
              " 'Tom knows.': ['Tom sabe.'],\n",
              " 'Tom moved.': ['Tom se mudó.', 'Tom se movió.'],\n",
              " 'Tom rocks.': ['Tom se mece.'],\n",
              " 'Tom stood.': ['Tom se quedó.'],\n",
              " 'Tom swims.': ['Tom nada.'],\n",
              " 'Tom swore.': ['Tom juró.'],\n",
              " 'Tom tried.': ['Tomás lo intentó.'],\n",
              " 'Tom tries.': ['Tomás lo intenta.'],\n",
              " 'Tom voted.': ['Tomás votó.'],\n",
              " 'Tom walks.': ['Tom camina.'],\n",
              " 'Tom waved.': ['Tom saludó.'],\n",
              " 'Tom works.': ['Tomás trabaja.'],\n",
              " \"Tom'll go.\": ['Tom irá.'],\n",
              " \"Tom's fat.\": ['Tom está gordo.'],\n",
              " \"Tom's mad.\": ['Tom está loco.'],\n",
              " \"Tom's sad.\": ['Tom está triste.'],\n",
              " \"Tom's shy.\": ['Tom es tímido.'],\n",
              " 'Trust Tom.': ['Confía en Tom.'],\n",
              " 'Try again.': ['Inténtalo de nuevo.',\n",
              "  'Intentadlo otra vez.',\n",
              "  'Intenta otra vez.'],\n",
              " 'Try it on.': ['Pruébatelo.'],\n",
              " 'Wait here.': ['Espera aquí.',\n",
              "  'Aguarda aquí.',\n",
              "  'Esperen aquí.',\n",
              "  'Esperad aquí.'],\n",
              " 'Watch Tom.': ['Vigila a Tom.'],\n",
              " 'Watch out!': ['¡Abusado!'],\n",
              " 'We can go.': ['Podemos ir.', 'Podemos irnos.', 'Nos podemos marchar.'],\n",
              " 'We failed.': ['Fallamos.', 'Hemos fallado.'],\n",
              " 'We forgot.': ['Nos olvidamos.'],\n",
              " 'We saw it.': ['Lo vimos.', 'Lo veíamos.'],\n",
              " 'We talked.': ['Conversamos.'],\n",
              " 'We waited.': ['Nosotros esperamos.'],\n",
              " \"We'll see.\": ['Después veremos.', 'Ya veremos.'],\n",
              " \"We'll try.\": ['Lo intentaremos.'],\n",
              " \"We've won!\": ['¡Hemos ganado!'],\n",
              " \"What's up?\": ['¿Qué hay?'],\n",
              " 'Who cares?': ['¿A quién le importa?'],\n",
              " 'Who is he?': ['¿Quién es él?'],\n",
              " 'Who is it?': ['¿Quién es?'],\n",
              " 'Who knows?': ['Aabe...'],\n",
              " 'Who stood?': ['¿Quién se quedó?'],\n",
              " \"Who'll go?\": ['¿Quién irá?'],\n",
              " \"Who's Tom?\": ['¿Quién es Tom?'],\n",
              " 'Write Tom.': ['Escribe a Tom.'],\n",
              " 'You drive.': ['Tú maneja.'],\n",
              " 'You start.': ['Tú empieza.'],\n",
              " 'You tried.': ['Lo intentaste.'],\n",
              " \"You're OK.\": ['Tú estás perfectamente.', 'Estás perfectamente.'],\n",
              " 'Aim higher.': ['Más alto.', 'Apuntad más alto.'],\n",
              " 'All aboard!': ['¡Todos a bordo!'],\n",
              " 'Am I right?': ['¿Tengo razón?'],\n",
              " 'Am I wrong?': ['¿Me equivoco?', '¿Estoy equivocada?'],\n",
              " 'Answer Tom.': ['¡Respóndale a Tomás!',\n",
              "  '¡Respondele a Tomás!',\n",
              "  '¡Respóndanle a Tomás!'],\n",
              " 'Are you 18?': ['¿Tienes dieciocho?', '¿Has cumplido dieciocho?'],\n",
              " 'Are you OK?': ['¿Estás bien?'],\n",
              " 'Are you in?': ['¿Te apuntas?', '¿Estás dentro?'],\n",
              " 'Are you up?': ['¿Estás levantado?'],\n",
              " 'Ask anyone.': ['Pregúntale a cualquiera.',\n",
              "  'Preguntadle a cualquiera.',\n",
              "  'Pregúntele a cualquiera.',\n",
              "  'Pregúntenle a cualquiera.'],\n",
              " 'Ask around.': ['Pregunta por aquí.', 'Pregunta en los alrededores.'],\n",
              " 'Be careful.': ['¡Ten cuidado!', '¡Sé cuidadoso!'],\n",
              " 'Be content.': ['Estate contento.'],\n",
              " 'Be on time.': ['Llega a tiempo.', 'Llegue a tiempo.'],\n",
              " 'Be patient.': ['Sea paciente.'],\n",
              " 'Be serious.': ['Sé serio.'],\n",
              " 'Birds sing.': ['Los pájaros cantan.', 'Los pájaros están cantando.'],\n",
              " 'Bring food.': ['Traed comida.'],\n",
              " 'Bring help.': ['Traed ayuda.'],\n",
              " 'Bring wine.': ['Trae vino.'],\n",
              " 'Can I come?': ['¿Puedo ir?', '¿Puedo venir?', '¿Puedo acercarme?'],\n",
              " 'Can I help?': ['¿Puedo ayudar?'],\n",
              " 'Can I stay?': ['¿Me puedo quedar?'],\n",
              " 'Carry this.': ['Lleva esto.'],\n",
              " 'Check that.': ['Comprobad eso.'],\n",
              " 'Check this.': ['Comprueba esto.'],\n",
              " 'Choose one.': ['Escoge uno.'],\n",
              " 'Come again.': ['Vuelve otra vez.'],\n",
              " 'Come alone.': ['Ven solo.'],\n",
              " 'Come along.': ['Vente.', 'Vénganse.'],\n",
              " 'Come early.': ['Vení temprano.',\n",
              "  'Ven temprano.',\n",
              "  'Vengan temprano.',\n",
              "  'Venga temprano.'],\n",
              " 'Come on in!': ['¡Pásale!', '¡Pásele!', '¡Pásenle!'],\n",
              " 'Come on in.': ['Entre.', 'Pase.'],\n",
              " 'Come quick!': ['¡Ven rápido!', '¡Vení rápido!'],\n",
              " 'Come to me.': ['Ven a mí.', 'Venid a mí.'],\n",
              " 'Come to us.': ['Ven a nosotros.', 'Venid a nosotros.'],\n",
              " 'Cut it out!': ['¡Ya párale!'],\n",
              " 'Did Tom go?': ['¿Fue Tom?'],\n",
              " 'Do come in!': ['¡Pásale!', '¡Pásele!', '¡Pásenle!'],\n",
              " 'Do come in.': ['Pasa adentro.',\n",
              "  'Entra de una vez.',\n",
              "  'Entra ya.',\n",
              "  'Métete dentro.'],\n",
              " 'Do men cry?': ['¿Los hombres lloran?'],\n",
              " \"Don't come.\": ['No vengas.'],\n",
              " \"Don't jump!\": ['¡No saltéis!'],\n",
              " \"Don't look.\": ['No miréis.'],\n",
              " \"Don't move!\": ['¡No os mováis!'],\n",
              " \"Don't move.\": ['No te muevas.', 'No se mueva.', 'No se muevan.'],\n",
              " \"Don't sing.\": ['No cantes.', 'No canten.'],\n",
              " \"Don't stop.\": ['No pares.'],\n",
              " \"Don't talk!\": ['¡No hables!'],\n",
              " \"Don't talk.\": ['No hables.'],\n",
              " \"Don't wait.\": ['¡No esperes!', '¡No esperen!', 'No esperes.'],\n",
              " \"Don't yell.\": ['No grites.'],\n",
              " 'Eat slowly.': ['Come despacio.', '¡Comé despacio!'],\n",
              " 'Fire burns.': ['El fuego quema.'],\n",
              " 'Follow Tom.': ['Seguilo a Tomás.',\n",
              "  'Síguelo a Tomás.',\n",
              "  'Sígalo a Tomás.',\n",
              "  'Síganlo a Tomás.'],\n",
              " 'Follow him.': ['Síguele.', 'Síguelo.'],\n",
              " 'Forget Tom.': ['Olvidate de Tomás.',\n",
              "  'Olvídate de Tomás.',\n",
              "  'Olvídese de Tomás.'],\n",
              " 'Forget him.': ['Olvídenlo.'],\n",
              " 'Forgive us.': ['Perdónanos.', 'Perdónenos.'],\n",
              " 'Get a life.': ['Consíguete una vida.'],\n",
              " 'Get inside.': ['Entra.'],\n",
              " 'Get to bed.': ['Vete a la cama.'],\n",
              " 'Give it up.': ['Déjalo.'],\n",
              " 'Go on home.': ['Vete a casa.', 'Váyase a casa.'],\n",
              " 'Go see Tom.': ['Ve a ver a Tom.'],\n",
              " 'Go to work.': ['Andá a trabajar.'],\n",
              " 'God exists.': ['Dios existe.'],\n",
              " 'Have faith.': ['Ten fe.', 'Tened fe.', 'Tengan fe.', 'Confíen.'],\n",
              " 'He ate out.': ['Él salió a comer.'],\n",
              " 'He coughed.': ['Tosió.'],\n",
              " 'He gave in.': ['Él se rindió.'],\n",
              " 'He gave up.': ['Se rindió.', 'Lo dejó.', 'Cedió.', 'Tiró la toalla.'],\n",
              " 'He hung up.': ['Descolgó.', 'Él cogió el teléfono.'],\n",
              " 'He is a DJ.': ['Él es DJ.'],\n",
              " 'He is here!': ['¡Él está aquí!'],\n",
              " 'He is kind.': ['Él es gentil.', 'Él es amable.', 'Él es generoso.'],\n",
              " 'He is mean.': ['Él es mezquino.'],\n",
              " 'He is tall.': ['Él es alto.'],\n",
              " 'He laughed.': ['Él se reía.'],\n",
              " 'He made it.': ['Lo hizo él.', 'Lo logró.', 'Lo hizo.'],\n",
              " \"He's broke.\": ['Está sin blanca.', 'Está arruinado.'],\n",
              " \"He's cruel.\": ['Él es cruel.'],\n",
              " \"He's lying.\": ['Él miente.', 'Él está mintiendo.'],\n",
              " \"He's smart.\": ['Es inteligente.', 'Él es inteligente.'],\n",
              " 'Here he is!': ['¡Helo aquí!', '¡Aquí está él!'],\n",
              " 'Here it is.': ['Aquí está.'],\n",
              " 'Here we go.': ['Aquí vamos.'],\n",
              " 'Hey, relax.': ['Hey, cálmate.'],\n",
              " 'Hold still.': ['Quieto.', 'Mantente quieto.'],\n",
              " 'How boring!': ['¡Qué aburrimiento!'],\n",
              " 'How is Tom?': ['¿Cómo está Tom?'],\n",
              " 'How lovely!': ['¡Qué bonito!', '¡Encantador!', '¡Es una preciosidad!'],\n",
              " 'How tragic!': ['¡Qué trágico!'],\n",
              " \"How's work?\": ['¿Qué tal el trabajo?', '¿Cómo van las cosas en el trabajo?'],\n",
              " 'Hurry home.': ['Rápido, a casa.', 'Corre, vete a casa.'],\n",
              " 'I admit it.': ['Lo admito.'],\n",
              " 'I am a man.': ['Soy un hombre.', 'Soy una persona.'],\n",
              " 'I am bored.': ['Estoy aburrida.'],\n",
              " 'I am happy.': ['¡Soy feliz!', '¡Estoy feliz!', 'Yo estoy contento.'],\n",
              " 'I am human.': ['Yo soy humano.'],\n",
              " 'I am ready.': ['Estoy listo.'],\n",
              " 'I am tired.': ['Estoy fisurado.'],\n",
              " 'I broke it.': ['Yo lo rompí.'],\n",
              " 'I can help.': ['Yo puedo ayudar.'],\n",
              " 'I can jump.': ['Puedo saltar.'],\n",
              " 'I can read.': ['Sé leer.'],\n",
              " 'I can sing.': ['Puedo cantar.'],\n",
              " 'I can swim.': ['Sé nadar.'],\n",
              " 'I chuckled.': ['Solté una risita.'],\n",
              " 'I disagree.': ['No estoy de acuerdo.'],\n",
              " 'I doubt it.': ['Lo dudo.'],\n",
              " 'I eat here.': ['Como aquí.', 'Yo como aquí.'],\n",
              " 'I eat meat.': ['Yo como carne.'],\n",
              " 'I envy Tom.': ['Envidio a Tom.'],\n",
              " 'I envy him.': ['Lo envidio.'],\n",
              " 'I feel bad.': ['Me siento mal.'],\n",
              " 'I feel old.': ['Me siento viejo.'],\n",
              " 'I felt bad.': ['Me sentía mal.'],\n",
              " 'I found it.': ['Lo encontré.'],\n",
              " 'I got lost.': ['Me perdí.'],\n",
              " 'I got sick.': ['Me puse enfermo.'],\n",
              " 'I hate Tom.': ['Odio a Tom.'],\n",
              " 'I hate you.': ['Te detesto.'],\n",
              " 'I have one.': ['Tengo uno.', 'Yo tengo uno.'],\n",
              " 'I have won.': ['Gané.'],\n",
              " 'I hear you.': ['Te oigo.'],\n",
              " 'I help him.': ['Le ayudo.'],\n",
              " 'I knew Tom.': ['Conocí a Tom.'],\n",
              " 'I know Tom.': ['Conozco a Tom.'],\n",
              " 'I know her.': ['La conozco.'],\n",
              " 'I know him.': ['Lo conozco.'],\n",
              " 'I know now.': ['Ahora sé.'],\n",
              " 'I like Tom.': ['Me agrada Tom.'],\n",
              " 'I like art.': ['Me gusta el arte.'],\n",
              " 'I like him.': ['Me gusta él.', 'Él me gusta.'],\n",
              " 'I like tea.': ['Me gusta el té.'],\n",
              " 'I like you.': ['Me agradas.'],\n",
              " 'I liked it.': ['Me gustó.'],\n",
              " 'I love Tom.': ['Lo amo a Tomás.'],\n",
              " 'I love him.': ['Yo lo amo.', 'Lo amo.'],\n",
              " 'I love you.': ['Te quiero.', 'Te amo.', '¡Te amo!', 'Os amo.'],\n",
              " 'I loved it.': ['Me encantó.'],\n",
              " 'I miss Tom.': ['Echo de menos a Tom.'],\n",
              " 'I miss him.': ['Le echo de menos.', 'Lo extraño.'],\n",
              " 'I miss you.': ['Te echo de menos.'],\n",
              " 'I must run.': ['Tengo que correr.'],\n",
              " 'I need Tom.': ['Necesito a Tom.'],\n",
              " 'I need ice.': ['Necesito hielo.'],\n",
              " 'I promised.': ['Prometí.'],\n",
              " 'I ran home.': ['Me fui corriendo a casa.', 'Me apresuré a ir a casa.'],\n",
              " 'I remember.': ['Me acuerdo.', 'Yo me acuerdo.', 'Yo recuerdo.'],\n",
              " 'I resigned.': ['Renuncié.'],\n",
              " 'I said yes.': ['Dije que sí.', 'Yo decía que sí.'],\n",
              " 'I sat down.': ['Me senté.', 'Me sentaba.'],\n",
              " 'I saw that.': ['Lo vi.', 'Vi eso.', 'Veía eso.'],\n",
              " 'I screamed.': ['Grité.', 'Yo grité.'],\n",
              " 'I see them.': ['Los veo.', 'Las veo.'],\n",
              " 'I shot Tom.': ['Disparé a Tom.'],\n",
              " 'I survived.': ['Sobreviví.'],\n",
              " 'I think so.': ['Creo que sí.', 'Eso creo.'],\n",
              " 'I threw up.': ['Vomité.'],\n",
              " 'I told Tom.': ['Se lo dije a Tom.', 'Se lo he dicho a Tom.'],\n",
              " 'I use this.': ['Uso esto.', 'Utilizo esto.'],\n",
              " 'I want Tom.': ['Quiero a Tom.'],\n",
              " 'I want one!': ['¡Quiero uno!', '¡Quiero una!'],\n",
              " 'I want one.': ['Quiero uno.', 'Yo quiero uno.'],\n",
              " 'I was late.': ['Llegué tarde.'],\n",
              " 'I was sick.': ['Yo estaba enfermo.'],\n",
              " \"I won't go.\": ['No voy a ir.'],\n",
              " 'I work out.': ['Yo hago ejercicio.'],\n",
              " 'I wrote it.': ['Yo lo escribí.'],\n",
              " \"I'd buy it.\": ['Yo lo compraría.'],\n",
              " \"I'll be OK.\": ['Estaré bien.'],\n",
              " \"I'll do it.\": ['Lo haré yo.', 'Lo haré.'],\n",
              " \"I'll go in.\": ['Entraré.', 'Voy a entrar.'],\n",
              " \"I'm French.\": ['Soy francés.'],\n",
              " \"I'm a hero.\": ['Soy un héroe.'],\n",
              " \"I'm a liar.\": ['Soy un mentiroso.'],\n",
              " \"I'm a twin.\": ['Soy gemelo.'],\n",
              " \"I'm better.\": ['Yo soy mejor.'],\n",
              " \"I'm bushed.\": ['Estoy agotado.'],\n",
              " \"I'm buying.\": ['Estoy comprando.'],\n",
              " \"I'm clumsy.\": ['Soy torpe.'],\n",
              " \"I'm coming.\": ['Ahí voy.'],\n",
              " \"I'm eating.\": ['Estoy comiendo.'],\n",
              " \"I'm faster.\": ['Yo soy más rápido.'],\n",
              " \"I'm greedy.\": ['Soy codicioso.'],\n",
              " \"I'm hiding.\": ['Yo estoy escondido.'],\n",
              " \"I'm hungry!\": ['Ya tengo hambre.', 'Me pica el bagre.'],\n",
              " \"I'm hungry.\": ['Me pica el bagre.'],\n",
              " \"I'm immune.\": ['Soy inmune.'],\n",
              " \"I'm moving.\": ['Me estoy moviendo.', 'Me mudaré.'],\n",
              " \"I'm normal.\": ['Soy normal.'],\n",
              " \"I'm scared.\": ['Estoy asustado.'],\n",
              " \"I'm single.\": ['Estoy soltero.', 'Estoy soltera.', 'Soy soltero.'],\n",
              " \"I'm skinny.\": ['Estoy flacucho.'],\n",
              " \"I'm sleepy!\": ['¡Tengo sueño!', 'Tengo sueño.'],\n",
              " \"I'm sleepy.\": ['Tengo sueño.'],\n",
              " \"I'm so fat.\": ['Estoy tan gordo.', 'Estoy tan gorda.'],\n",
              " \"I'm trying.\": ['Lo estoy intentando.', 'Me estoy esforzando.'],\n",
              " \"I'm twelve.\": ['Tengo doce años.', 'Tengo doce.'],\n",
              " \"I've eaten.\": ['He comido.'],\n",
              " 'Ignore Tom.': ['Ignora a Tom.'],\n",
              " 'Ignore him.': ['No le hagas caso.'],\n",
              " 'Is Tom big?': ['¿Es grande Tom?'],\n",
              " 'Is Tom fat?': ['¿Está gordo Tom?'],\n",
              " 'Is Tom fun?': ['¿Tom es divertido?'],\n",
              " 'Is Tom hot?': ['¿Tiene calor Tom?'],\n",
              " 'Is Tom ill?': ['¿Tom está enfermo?'],\n",
              " 'Is Tom mad?': ['¿Está loco Tom?'],\n",
              " 'Is Tom out?': ['¿Está fuera Tom?'],\n",
              " 'Is he dead?': ['¿Está muerto?'],\n",
              " 'Is he tall?': ['¿Es alto?'],\n",
              " 'Is it free?': ['¿Es gratis?'],\n",
              " 'Is it good?': ['¿Está bueno?'],\n",
              " 'Is it here?': ['¿Es acá?', '¿Aquí?', '¿Está aquí?'],\n",
              " 'Is it real?': ['¿Esto es real?'],\n",
              " 'Is it safe?': ['¿Es seguro?'],\n",
              " 'Is it true?': ['¿Es verdad?'],\n",
              " 'Is that OK?': ['¿Vale eso?', '¿Está bien eso?'],\n",
              " 'Is that it?': ['¿Eso es todo?', '¿Es ese?'],\n",
              " 'Is that so?': ['¿Acaso es así?', '¿Es así?'],\n",
              " 'Is this OK?': ['¿Esto es bueno?'],\n",
              " 'Is this it?': ['¿Eso es todo?', '¿Es este?'],\n",
              " 'It happens.': ['Eso pasa.'],\n",
              " 'It is cold.': ['Está frío.'],\n",
              " 'It is mine.': ['Es mío.'],\n",
              " \"It's Tom's.\": ['Es de Tom.'],\n",
              " \"It's alive.\": ['Está vivo.'],\n",
              " \"It's empty.\": ['Está vacío.'],\n",
              " \"It's great.\": ['Es estupendo.', 'Es grandioso.'],\n",
              " \"It's green.\": ['Es verde.', 'Está verde.'],\n",
              " \"It's magic.\": ['Es magia.'],\n",
              " \"It's my CD.\": ['Es mi CD.'],\n",
              " \"It's night.\": ['Es de noche.', 'Ha anochecido.'],\n",
              " \"It's on me.\": ['Es de parte mía.'],\n",
              " \"It's ready.\": ['Está listo.'],\n",
              " \"It's right.\": ['Vale.', 'Está bien.', 'Es correcto.'],\n",
              " \"It's there.\": ['Está ahí.'],\n",
              " \"It's white.\": ['Es blanco.'],\n",
              " \"It's windy.\": ['Hace viento.'],\n",
              " \"It's yours.\": ['Es suyo.', 'Es tuyo.'],\n",
              " 'Jesus wept.': ['Jesús lloró.'],\n",
              " 'Just do it.': ['Tan sólo hazlo.'],\n",
              " 'Keep it up!': ['¡Continúa!', '¡Continúe!'],\n",
              " 'Keep notes.': ['Toma apuntes.', 'Tomad apuntes.', 'Tomen notas.'],\n",
              " 'Keep quiet!': ['¡Quédate tranquilo!', '¡Guarden silencio!'],\n",
              " 'Keep still.': ['Mantente quieto.',\n",
              "  'Mantenete quieto.',\n",
              "  'Manténgase quieto.',\n",
              "  'Manténganse quietos.'],\n",
              " 'Leave town.': ['Abandona la ciudad.',\n",
              "  'Deja la ciudad.',\n",
              "  'Sal de la ciudad.'],\n",
              " 'Let Tom go.': ['Deja ir a Tom.'],\n",
              " 'Let Tom in.': ['Dejar entrar a Tom.'],\n",
              " 'Let him go!': ['¡Déjale irse!'],\n",
              " 'Let him go.': ['Deja que se vaya.'],\n",
              " 'Let him in.': ['Déjalo entrar.',\n",
              "  'Dejalo entrar.',\n",
              "  'Déjelo entrar.',\n",
              "  'Déjenlo entrar.',\n",
              "  'Dejadlo entrar.'],\n",
              " 'Let me out!': ['¡Déjame salir!', '¡Dejadme salir!'],\n",
              " 'Let me pay.': ['Deja que pague yo.'],\n",
              " 'Let me see.': ['Déjame ver.', 'Déjeme ver.', 'A ver.'],\n",
              " \"Let's chat.\": ['Charlemos.', 'Vamos a charlar.'],\n",
              " \"Let's kiss.\": ['Besémonos.'],\n",
              " \"Let's play.\": ['Juguemos.'],\n",
              " \"Let's quit.\": ['Desistamos.', 'Renunciemos.'],\n",
              " \"Let's sing.\": ['Cantemos.'],\n",
              " \"Let's swim.\": ['Nademos.'],\n",
              " \"Let's talk.\": ['Conversemos.'],\n",
              " \"Let's vote.\": ['Votemos.'],\n",
              " \"Let's walk.\": ['Caminemos.'],\n",
              " \"Let's work.\": ['Trabajemos.'],\n",
              " 'Lift it up.': ['Levántalo.'],\n",
              " 'Look again.': ['Mirá de nuevo.',\n",
              "  'Mira de nuevo.',\n",
              "  'Mire de nuevo.',\n",
              "  'Miren de nuevo.'],\n",
              " 'Look ahead.': ['Mirá hacia adelante.',\n",
              "  'Mira hacia adelante.',\n",
              "  'Mire hacia adelante.',\n",
              "  'Miren hacia adelante.'],\n",
              " 'Look at it.': ['Míralo.', 'Obsérvalo.', 'Contémplalo.'],\n",
              " 'Look at me.': ['Mírame.'],\n",
              " 'Look at us.': ['Míranos.', 'Obsérvanos.'],\n",
              " 'Look it up.': ['Búscalo.', 'Búsquenlo.'],\n",
              " 'Look there.': ['Mira allí.'],\n",
              " 'Love lasts.': ['El amor dura.'],\n",
              " 'Mama cried.': ['Mamá lloró.'],\n",
              " 'No comment.': ['Sin comentarios.'],\n",
              " 'No kidding?': ['¿En serio?'],\n",
              " 'No problem!': ['¡No hay problema!', '¡Sin problemas!'],\n",
              " 'No problem.': ['Ningún problema.'],\n",
              " 'Please sit.': ['Por favor, siéntese.',\n",
              "  'Por favor, siéntate.',\n",
              "  'Por favor, sentaos.'],\n",
              " 'Quiet down.': ['Baja la voz.'],\n",
              " 'Replace it.': ['Reemplazadlo.'],\n",
              " 'Say cheese.': ['Di patata.',\n",
              "  'Decid patata.',\n",
              "  'Di güisqui.',\n",
              "  'Decid güisqui.',\n",
              "  'Sonría.'],\n",
              " 'Say please.': ['Di \"por favor\".'],\n",
              " 'She is old.': ['Es vieja.'],\n",
              " 'She smiled.': ['Sonrió.'],\n",
              " \"She's busy.\": ['Ella está ocupada.'],\n",
              " \"She's nice.\": ['Es guapa.'],\n",
              " 'Sing along.': ['Canta.'],\n",
              " 'Smell this.': ['Huele esto.',\n",
              "  'Olé esto.',\n",
              "  'Huelan esto.',\n",
              "  'Oled esto.',\n",
              "  'Huela esto.'],\n",
              " 'Stand back!': ['¡Retrocede!'],\n",
              " 'Start here.': ['Empieza aquí.'],\n",
              " 'Start over.': ['Empieza de nuevo.'],\n",
              " 'Stay alert.': ['Mantente alerta.'],\n",
              " 'Stay awake.': ['Mantente consciente.',\n",
              "  'Mantente despierto.',\n",
              "  'No te duermas.'],\n",
              " 'Stay close.': ['Mantente cerca.',\n",
              "  'No te alejes de aquí.',\n",
              "  'Quédate a mi vera.'],\n",
              " 'Stay sharp.': ['Mantente alerta.'],\n",
              " 'Stay still.': ['No te muevas.', 'Quieto.'],\n",
              " 'Stay there.': ['Quédate ahí.'],\n",
              " 'Step aside.': ['Hazte a un lado.'],\n",
              " 'Step on it!': ['¡Más rápido!'],\n",
              " 'Stop lying.': ['Dejá de mentir.', 'Dejá de bolacear.'],\n",
              " 'Stop there.': ['Detente ahí.'],\n",
              " 'Study hard.': ['Estudia harto.'],\n",
              " 'Take a bus.': ['Toma un bus.'],\n",
              " 'Take notes.': ['Toma notas.'],\n",
              " 'Take these.': ['Llevate estos de aquí.', 'Quédate con estos.'],\n",
              " 'Talk to me!': ['¡Háblame!', '¡Habla conmigo!', '¡Hablad conmigo!'],\n",
              " 'Taste this.': ['Prueben esto.', 'Probá esto.', 'Prueba esto.'],\n",
              " 'That a boy!': ['¡Ése es mi chico!', 'Buen chico.'],\n",
              " 'That hurts.': ['Eso duele.'],\n",
              " 'That works.': ['Eso funciona.'],\n",
              " \"That'll do.\": ['Eso valdrá.',\n",
              "  'Con eso vale.',\n",
              "  'Eso me vale.',\n",
              "  'Eso me sirve.'],\n",
              " \"That's Tom.\": ['Ése es Tom.'],\n",
              " \"That's her.\": ['Ésa es ella.', 'Es ella.'],\n",
              " \"That's him.\": ['Ése es él.'],\n",
              " \"That's his.\": ['Eso le pertenece.', 'Eso le pertenece a él.'],\n",
              " \"That's new.\": ['Es nuevo.'],\n",
              " \"That's wet.\": ['Está mojado.'],\n",
              " 'They cheat.': ['Engañaron.', 'Hicieron trampas.'],\n",
              " 'They stood.': ['Se quedaron.', 'Se mantuvieron.'],\n",
              " 'They tried.': ['Lo intentaron.'],\n",
              " 'They voted.': ['Ellos votaron.', 'Votaron.'],\n",
              " \"They're in.\": ['Ellos están dentro.',\n",
              "  'Ellas están dentro.',\n",
              "  'Ellos se apuntan.'],\n",
              " 'This is OK.': ['Esto está bien.', 'Esto está correcto.'],\n",
              " 'This is it.': ['Hemos llegado.',\n",
              "  'Este es el fin.',\n",
              "  'Esto es todo.',\n",
              "  'Éste es.'],\n",
              " 'This works.': ['Esto funciona.', 'Esto trabaja.'],\n",
              " \"This'll do.\": ['Esto valdrá.', 'Con éste vale.', 'Esto me basta.'],\n",
              " 'Time flies.': ['El tiempo vuela.'],\n",
              " 'Time is up.': ['Se acabó el tiempo.'],\n",
              " 'Tom agreed.': ['Tom convino aquiescente.', 'Tom estuvo de acuerdo.'],\n",
              " 'Tom agrees.': ['Tomás está de acuerdo.'],\n",
              " 'Tom bit me.': ['Tom me mordió.'],\n",
              " 'Tom burped.': ['Tomás eructó.'],\n",
              " 'Tom called.': ['Tom llamó.'],\n",
              " 'Tom cheats.': ['Tomás hace trampa.'],\n",
              " 'Tom danced.': ['Tomás bailó.'],\n",
              " 'Tom dances.': ['Tom baila.'],\n",
              " 'Tom did it.': ['Tom lo hizo.'],\n",
              " 'Tom drinks.': ['Tom bebe.', 'Tom toma.'],\n",
              " 'Tom drives.': ['Tomás conduce.'],\n",
              " 'Tom failed.': ['Tom reprobó.', 'Tom fracasó.'],\n",
              " 'Tom forgot.': ['A Tom se le olvidó.'],\n",
              " 'Tom fought.': ['Tom peleó.', 'Tom luchó.'],\n",
              " 'Tom gasped.': ['Tom soltó un grito ahogado.',\n",
              "  'Tom se quedó sin aliento.',\n",
              "  'Tom dio un grito ahogado.'],\n",
              " 'Tom goofed.': ['Tom metió la pata.'],\n",
              " 'Tom got up.': ['Tom se levantó.'],\n",
              " 'Tom helped.': ['Tom ayudó.'],\n",
              " 'Tom hit me.': ['Tom me golpeó.'],\n",
              " 'Tom is bad.': ['Tom es malo.'],\n",
              " 'Tom is big.': ['Tom es grande.'],\n",
              " 'Tom is fat.': ['Tom está gordo.'],\n",
              " 'Tom is fun.': ['Tom es divertido.'],\n",
              " 'Tom is ill.': ['Tom está malo.'],\n",
              " 'Tom is mad.': ['Tom está loco.'],\n",
              " 'Tom is new.': ['Tom es nuevo.'],\n",
              " 'Tom is odd.': ['Tom es raro.'],\n",
              " 'Tom is old.': ['Tom es viejo.'],\n",
              " 'Tom is out.': ['Tom ha salido.'],\n",
              " 'Tom is sad.': ['Tom está triste.'],\n",
              " 'Tom is shy.': ['Tom es tímido.'],\n",
              " 'Tom is wet.': ['Tom está mojado.'],\n",
              " 'Tom jumped.': ['Tom saltó.'],\n",
              " 'Tom looked.': ['Tom miró.'],\n",
              " 'Tom moaned.': ['Tom gimió.'],\n",
              " 'Tom nodded.': ['Tom asintió.'],\n",
              " 'Tom obeyed.': ['Tom obedeció.'],\n",
              " 'Tom paused.': ['Tom se detuvo.'],\n",
              " 'Tom phoned.': ['Tomás llamó por teléfono.', 'Tomás telefoneó.'],\n",
              " 'Tom prayed.': ['Tom rezó.', 'Tom rezaba.'],\n",
              " 'Tom saw it.': ['Tom lo vio.'],\n",
              " 'Tom saw me.': ['Tom me vio.'],\n",
              " 'Tom saw us.': ['Tom nos vio.'],\n",
              " 'Tom shaved.': ['Tom se afeitó.', 'Tom se rasuró.'],\n",
              " 'Tom sighed.': ['Tom suspiró.'],\n",
              " 'Tom smiled.': ['Tom sonrió.'],\n",
              " 'Tom snores.': ['Tom ronca.'],\n",
              " 'Tom stayed.': ['Tom se quedó.'],\n",
              " 'Tom talked.': ['Tom charló.'],\n",
              " 'Tom waited.': ['Tomás esperó.'],\n",
              " 'Tom walked.': ['Tom caminó.'],\n",
              " 'Tom was OK.': ['Tom estaba bien.'],\n",
              " 'Tom winked.': ['Tom hizo un guiño.',\n",
              "  'Tom lanzó un guiño.',\n",
              "  'Tom guiñó el ojo.'],\n",
              " 'Tom worked.': ['Tom trabajó.'],\n",
              " 'Tom yawned.': ['Tom bostezó.'],\n",
              " 'Tom yelled.': ['Tom gritó.'],\n",
              " \"Tom'll cry.\": ['Tom llorará.'],\n",
              " \"Tom'll die.\": ['Tom morirá.'],\n",
              " \"Tom'll pay.\": ['Tom pagará.'],\n",
              " \"Tom's busy.\": ['Tom está ocupado.'],\n",
              " \"Tom's dead.\": ['Tom ha muerto.'],\n",
              " \"Tom's deaf.\": ['Tom es sordo.'],\n",
              " \"Tom's died.\": ['Tom ha muerto.'],\n",
              " \"Tom's fast.\": ['Tom es rápido.'],\n",
              " \"Tom's free.\": ['Tom es libre.'],\n",
              " \"Tom's glad.\": ['Tom está contento.'],\n",
              " \"Tom's gone.\": ['Tom se ha ido.'],\n",
              " \"Tom's here.\": ['Tom está aquí.'],\n",
              " \"Tom's home.\": ['Tom está en casa.'],\n",
              " \"Tom's hurt.\": ['Tom está herido.'],\n",
              " \"Tom's left.\": ['Tom se ha marchado.'],\n",
              " \"Tom's mean.\": ['Tom es malo.'],\n",
              " \"Tom's safe.\": ['Tom está seguro.'],\n",
              " \"Tom's shot.\": ['Tom fue disparado.'],\n",
              " \"Tom's sick.\": ['Tom está enfermo.'],\n",
              " \"Tom's ugly.\": ['Tom es feo.'],\n",
              " \"Tom's weak.\": ['Tom es débil.'],\n",
              " \"Tom's well.\": ['Tom está bien.'],\n",
              " 'Try it out.': ['Pruébalo.'],\n",
              " 'Turn it on.': ['Enciéndelo.'],\n",
              " 'Turn right.': ['Gira a la derecha.'],\n",
              " 'Was he Tom?': ['¿Era ése Tom?'],\n",
              " 'Was it fun?': ['¿Fue divertido?', '¿Era divertido?'],\n",
              " 'Watch this.': ['Mira esto.',\n",
              "  'Mirá esto.',\n",
              "  'Mirad esto.',\n",
              "  'Mire esto.',\n",
              "  'Miren esto.'],\n",
              " 'We are men.': ['Somos hombres.'],\n",
              " 'We buy CDs.': ['Compramos cedés.'],\n",
              " 'We can pay.': ['Nosotros podemos pagar.'],\n",
              " 'We can try.': ['Podemos intentarlo.',\n",
              "  'Podemos probarlo.',\n",
              "  'Podemos probar.'],\n",
              " 'We can win.': ['Podemos ganar.'],\n",
              " 'We had fun.': ['Nos divertimos.', 'Lo pasamos bien.'],\n",
              " 'We laughed.': ['Nos reímos.'],\n",
              " 'We like it.': ['Nos gusta.'],\n",
              " 'We love it.': ['Nos encanta.'],\n",
              " 'We made it.': ['Lo hicimos.'],\n",
              " 'We must go.': ['Nos debemos ir.', 'Debemos irnos.'],\n",
              " 'We saw Tom.': ['Vimos a Tom.'],\n",
              " 'We saw you.': ['Te vimos.', 'Te veíamos.'],\n",
              " 'We want it.': ['Lo queremos.'],\n",
              " \"We'll cook.\": ['Haremos la comida.'],\n",
              " \"We'll fail.\": ['Fracasaremos.'],\n",
              " \"We'll help.\": ['Ayudaremos.', 'Nosotros ayudaremos.', 'Echaremos la mano.'],\n",
              " \"We'll sing.\": ['Cantaremos.'],\n",
              " \"We'll wait.\": ['Esperaremos.', 'Nosotras esperaremos.'],\n",
              " \"We'll walk.\": ['Nos vamos a caminar.'],\n",
              " \"We'll work.\": ['Trabajaremos.'],\n",
              " \"We're back.\": ['Hemos vuelto.', 'Estamos de vuelta.', 'Hemos regresado.'],\n",
              " \"We're busy.\": ['Estamos ocupados.'],\n",
              " \"We're cold.\": ['Tenemos frío.'],\n",
              " \"We're done.\": ['Terminamos.'],\n",
              " \"We're even.\": ['Estamos a mano.'],\n",
              " \"We're fine.\": ['Estamos bien.'],\n",
              " \"We're here.\": ['Estamos acá.'],\n",
              " \"We're home.\": ['Estamos en casa.'],\n",
              " \"We're lost.\": ['Estamos perdidos.'],\n",
              " \"We're poor.\": ['Somos pobres.'],\n",
              " \"We're rich.\": ['Somos ricos.', 'Somos ricas.'],\n",
              " \"We're sick.\": ['Estamos hartos.'],\n",
              " \"We're weak.\": ['Somos débiles.'],\n",
              " 'What a day!': ['¡Pero qué día!'],\n",
              " 'What gives?': ['¿Qué pasa?', '¿Qué hay?'],\n",
              " \"What's new?\": ['¿Qué hay de nuevo?', '¿Qué me cuentas?'],\n",
              " 'Where am I?': ['¿Dónde estoy?', '¿En dónde estoy?'],\n",
              " ...}"
            ]
          },
          "metadata": {},
          "execution_count": 27
        }
      ]
    },
    {
      "cell_type": "code",
      "source": [
        "from nltk.translate.bleu_score import sentence_bleu, SmoothingFunction"
      ],
      "metadata": {
        "id": "6yA4bbWqXRtL"
      },
      "execution_count": 28,
      "outputs": []
    },
    {
      "cell_type": "code",
      "source": [
        "#blue function works with tokens rather than raw text\n",
        "from nltk.tokenize import RegexpTokenizer\n",
        "# this is simple tokenizer that removes punctuation\n",
        "tokenizer=RegexpTokenizer(r'\\w+')"
      ],
      "metadata": {
        "id": "Gw4CUXuQYhJo"
      },
      "execution_count": 29,
      "outputs": []
    },
    {
      "cell_type": "code",
      "source": [
        "tokenizer.tokenize('Él renunció.'.lower())"
      ],
      "metadata": {
        "colab": {
          "base_uri": "https://localhost:8080/"
        },
        "id": "-lHvoxvIZXVr",
        "outputId": "a4353aa8-5136-4124-a702-de290b4c7425"
      },
      "execution_count": 30,
      "outputs": [
        {
          "output_type": "execute_result",
          "data": {
            "text/plain": [
              "['él', 'renunció']"
            ]
          },
          "metadata": {},
          "execution_count": 30
        }
      ]
    },
    {
      "cell_type": "code",
      "source": [
        "sentence_bleu([['hi']],['hi'])"
      ],
      "metadata": {
        "colab": {
          "base_uri": "https://localhost:8080/"
        },
        "id": "WklOj9ZuapOG",
        "outputId": "0970cd70-21e6-4888-c8ec-ec7ff12b7696"
      },
      "execution_count": 32,
      "outputs": [
        {
          "output_type": "stream",
          "name": "stderr",
          "text": [
            "/usr/local/lib/python3.10/dist-packages/nltk/translate/bleu_score.py:552: UserWarning: \n",
            "The hypothesis contains 0 counts of 2-gram overlaps.\n",
            "Therefore the BLEU score evaluates to 0, independently of\n",
            "how many N-gram overlaps of lower order it contains.\n",
            "Consider using lower n-gram order or use SmoothingFunction()\n",
            "  warnings.warn(_msg)\n"
          ]
        },
        {
          "output_type": "execute_result",
          "data": {
            "text/plain": [
              "1.821831989445342e-231"
            ]
          },
          "metadata": {},
          "execution_count": 32
        }
      ]
    },
    {
      "cell_type": "code",
      "source": [
        "smoother=SmoothingFunction()\n",
        "sentence_bleu(['hi'],'hi', smoothing_function=smoother.method4)\n",
        "#the result doe not make sence since unput and output are the same"
      ],
      "metadata": {
        "colab": {
          "base_uri": "https://localhost:8080/"
        },
        "id": "MsiHDoOhbmqm",
        "outputId": "660f48ba-4ae3-49bf-8a6e-5ac67a349542"
      },
      "execution_count": 61,
      "outputs": [
        {
          "output_type": "execute_result",
          "data": {
            "text/plain": [
              "0.2213885886251307"
            ]
          },
          "metadata": {},
          "execution_count": 61
        }
      ]
    },
    {
      "cell_type": "code",
      "source": [
        "#bleu works on tokens of any thing even integers\n",
        "sentence_bleu([[1,2,3,4]],[1,2,3,4])"
      ],
      "metadata": {
        "colab": {
          "base_uri": "https://localhost:8080/"
        },
        "id": "U0e75Gx3b9Tq",
        "outputId": "35cce959-d5db-4937-811b-c18c22e9107d"
      },
      "execution_count": 34,
      "outputs": [
        {
          "output_type": "execute_result",
          "data": {
            "text/plain": [
              "1.0"
            ]
          },
          "metadata": {},
          "execution_count": 34
        }
      ]
    },
    {
      "cell_type": "code",
      "source": [
        "#we need to pretokenize target\n",
        "eng2spa_tokens={}\n",
        "for eng,spa_list in eng2spa.items():\n",
        "  spa_list_tokens=[]\n",
        "  for text in spa_list:\n",
        "    tokens=tokenizer.tokenize(text.lower())\n",
        "    spa_list_tokens.append(tokens)\n",
        "  eng2spa_tokens[eng]=spa_list_tokens"
      ],
      "metadata": {
        "id": "rd1f0WF8cI4m"
      },
      "execution_count": 35,
      "outputs": []
    },
    {
      "cell_type": "code",
      "source": [
        "!pip install transformers sentencepiece transformers[sentencepiece]"
      ],
      "metadata": {
        "colab": {
          "base_uri": "https://localhost:8080/"
        },
        "id": "Q9HfO7MSeccS",
        "outputId": "ce161736-389a-4ac9-c7b8-78b7a8adb3fc"
      },
      "execution_count": 36,
      "outputs": [
        {
          "output_type": "stream",
          "name": "stdout",
          "text": [
            "Requirement already satisfied: transformers in /usr/local/lib/python3.10/dist-packages (4.31.0)\n",
            "Requirement already satisfied: sentencepiece in /usr/local/lib/python3.10/dist-packages (0.1.99)\n",
            "Requirement already satisfied: filelock in /usr/local/lib/python3.10/dist-packages (from transformers) (3.12.2)\n",
            "Requirement already satisfied: huggingface-hub<1.0,>=0.14.1 in /usr/local/lib/python3.10/dist-packages (from transformers) (0.16.4)\n",
            "Requirement already satisfied: numpy>=1.17 in /usr/local/lib/python3.10/dist-packages (from transformers) (1.23.5)\n",
            "Requirement already satisfied: packaging>=20.0 in /usr/local/lib/python3.10/dist-packages (from transformers) (23.1)\n",
            "Requirement already satisfied: pyyaml>=5.1 in /usr/local/lib/python3.10/dist-packages (from transformers) (6.0.1)\n",
            "Requirement already satisfied: regex!=2019.12.17 in /usr/local/lib/python3.10/dist-packages (from transformers) (2023.6.3)\n",
            "Requirement already satisfied: requests in /usr/local/lib/python3.10/dist-packages (from transformers) (2.31.0)\n",
            "Requirement already satisfied: tokenizers!=0.11.3,<0.14,>=0.11.1 in /usr/local/lib/python3.10/dist-packages (from transformers) (0.13.3)\n",
            "Requirement already satisfied: safetensors>=0.3.1 in /usr/local/lib/python3.10/dist-packages (from transformers) (0.3.2)\n",
            "Requirement already satisfied: tqdm>=4.27 in /usr/local/lib/python3.10/dist-packages (from transformers) (4.66.1)\n",
            "Requirement already satisfied: protobuf in /usr/local/lib/python3.10/dist-packages (from transformers) (3.20.3)\n",
            "Requirement already satisfied: fsspec in /usr/local/lib/python3.10/dist-packages (from huggingface-hub<1.0,>=0.14.1->transformers) (2023.6.0)\n",
            "Requirement already satisfied: typing-extensions>=3.7.4.3 in /usr/local/lib/python3.10/dist-packages (from huggingface-hub<1.0,>=0.14.1->transformers) (4.7.1)\n",
            "Requirement already satisfied: charset-normalizer<4,>=2 in /usr/local/lib/python3.10/dist-packages (from requests->transformers) (3.2.0)\n",
            "Requirement already satisfied: idna<4,>=2.5 in /usr/local/lib/python3.10/dist-packages (from requests->transformers) (3.4)\n",
            "Requirement already satisfied: urllib3<3,>=1.21.1 in /usr/local/lib/python3.10/dist-packages (from requests->transformers) (2.0.4)\n",
            "Requirement already satisfied: certifi>=2017.4.17 in /usr/local/lib/python3.10/dist-packages (from requests->transformers) (2023.7.22)\n"
          ]
        }
      ]
    },
    {
      "cell_type": "code",
      "source": [
        "from transformers import pipeline\n",
        "translator=pipeline(\"translation\", model='Helsinki-NLP/opus-mt-en-es', device=0)\n"
      ],
      "metadata": {
        "colab": {
          "base_uri": "https://localhost:8080/"
        },
        "id": "3MUL8SOkepH2",
        "outputId": "9ef67740-f00c-4e49-d1dc-e9bf644baddb"
      },
      "execution_count": 37,
      "outputs": [
        {
          "output_type": "stream",
          "name": "stderr",
          "text": [
            "/usr/local/lib/python3.10/dist-packages/transformers/models/marian/tokenization_marian.py:194: UserWarning: Recommended: pip install sacremoses.\n",
            "  warnings.warn(\"Recommended: pip install sacremoses.\")\n"
          ]
        }
      ]
    },
    {
      "cell_type": "code",
      "source": [
        "translator(\"i like eggs and ham\")"
      ],
      "metadata": {
        "colab": {
          "base_uri": "https://localhost:8080/"
        },
        "id": "HXjqJpo9fa7W",
        "outputId": "6b5a6def-b8c5-45ca-a70a-a2d92270d396"
      },
      "execution_count": 38,
      "outputs": [
        {
          "output_type": "execute_result",
          "data": {
            "text/plain": [
              "[{'translation_text': 'Me gustan los huevos y el jamón'}]"
            ]
          },
          "metadata": {},
          "execution_count": 38
        }
      ]
    },
    {
      "cell_type": "code",
      "source": [
        "#check how many english phrases we have so that we know how many samples we have to translate\n",
        "eng_phrases=list(eng2spa.keys())\n",
        "len(eng_phrases)"
      ],
      "metadata": {
        "colab": {
          "base_uri": "https://localhost:8080/"
        },
        "id": "aoggNf9L59XB",
        "outputId": "8cbc2c49-7d29-4832-a1a6-461c9505c5a8"
      },
      "execution_count": 40,
      "outputs": [
        {
          "output_type": "execute_result",
          "data": {
            "text/plain": [
              "102904"
            ]
          },
          "metadata": {},
          "execution_count": 40
        }
      ]
    },
    {
      "cell_type": "code",
      "source": [
        "eng_phrases[20000]"
      ],
      "metadata": {
        "colab": {
          "base_uri": "https://localhost:8080/",
          "height": 35
        },
        "id": "EUYe5o5DXAsc",
        "outputId": "681825f7-d2d4-4b7c-d18f-2ef626ebe391"
      },
      "execution_count": 41,
      "outputs": [
        {
          "output_type": "execute_result",
          "data": {
            "text/plain": [
              "'Tom is in the garden.'"
            ],
            "application/vnd.google.colaboratory.intrinsic+json": {
              "type": "string"
            }
          },
          "metadata": {},
          "execution_count": 41
        }
      ]
    },
    {
      "cell_type": "code",
      "source": [
        "#this many samples is way too much for our compute cpabilities to handle\n",
        "#so we slect 1000\n",
        "#because we know we get warning with short phrases we compute the bleu score\n",
        "eng_phrases_subset=eng_phrases[20_500:21_000]"
      ],
      "metadata": {
        "id": "m2cKAgQyVyuq"
      },
      "execution_count": 63,
      "outputs": []
    },
    {
      "cell_type": "code",
      "source": [
        "#translate phrases we selected\n",
        "translations=translator(eng_phrases_subset)"
      ],
      "metadata": {
        "id": "B_QAztDqWPG4"
      },
      "execution_count": 64,
      "outputs": []
    },
    {
      "cell_type": "code",
      "source": [
        "translations[0]"
      ],
      "metadata": {
        "colab": {
          "base_uri": "https://localhost:8080/"
        },
        "id": "Ciz96LKsX3a2",
        "outputId": "98acd348-f25b-4208-9b89-4ece5f439d88"
      },
      "execution_count": 65,
      "outputs": [
        {
          "output_type": "execute_result",
          "data": {
            "text/plain": [
              "{'translation_text': '¿Dónde están las manzanas?'}"
            ]
          },
          "metadata": {},
          "execution_count": 65
        }
      ]
    },
    {
      "cell_type": "code",
      "source": [
        "#compute blue score for each translation we got back\n",
        "scores=[]\n",
        "for eng,pred in zip(eng_phrases_subset,translations):\n",
        "  matches=eng2spa_tokens[eng]\n",
        "\n",
        "  #tokenize translation\n",
        "  spa_pred = tokenizer.tokenize(pred['translation_text'].lower())\n",
        "\n",
        "  score=sentence_bleu(matches,spa_pred)\n",
        "  scores.append(score)"
      ],
      "metadata": {
        "colab": {
          "base_uri": "https://localhost:8080/"
        },
        "id": "Nc7Wa5heYFPM",
        "outputId": "369f7dd7-ebad-4ea9-a846-70791ee59319"
      },
      "execution_count": 66,
      "outputs": [
        {
          "output_type": "stream",
          "name": "stderr",
          "text": [
            "/usr/local/lib/python3.10/dist-packages/nltk/translate/bleu_score.py:552: UserWarning: \n",
            "The hypothesis contains 0 counts of 2-gram overlaps.\n",
            "Therefore the BLEU score evaluates to 0, independently of\n",
            "how many N-gram overlaps of lower order it contains.\n",
            "Consider using lower n-gram order or use SmoothingFunction()\n",
            "  warnings.warn(_msg)\n",
            "/usr/local/lib/python3.10/dist-packages/nltk/translate/bleu_score.py:552: UserWarning: \n",
            "The hypothesis contains 0 counts of 3-gram overlaps.\n",
            "Therefore the BLEU score evaluates to 0, independently of\n",
            "how many N-gram overlaps of lower order it contains.\n",
            "Consider using lower n-gram order or use SmoothingFunction()\n",
            "  warnings.warn(_msg)\n",
            "/usr/local/lib/python3.10/dist-packages/nltk/translate/bleu_score.py:552: UserWarning: \n",
            "The hypothesis contains 0 counts of 4-gram overlaps.\n",
            "Therefore the BLEU score evaluates to 0, independently of\n",
            "how many N-gram overlaps of lower order it contains.\n",
            "Consider using lower n-gram order or use SmoothingFunction()\n",
            "  warnings.warn(_msg)\n"
          ]
        }
      ]
    },
    {
      "cell_type": "code",
      "source": [
        "print(eng2spa_tokens[\"You know what I like.\"])"
      ],
      "metadata": {
        "colab": {
          "base_uri": "https://localhost:8080/"
        },
        "id": "tdS5mKlGYyrJ",
        "outputId": "014a0527-7f5e-4008-c918-71eb3fd5e197"
      },
      "execution_count": 67,
      "outputs": [
        {
          "output_type": "stream",
          "name": "stdout",
          "text": [
            "[['sabes', 'lo', 'que', 'me', 'gusta']]\n"
          ]
        }
      ]
    },
    {
      "cell_type": "code",
      "source": [
        "import matplotlib.pyplot as plt\n",
        "plt.hist(scores,bins=50)"
      ],
      "metadata": {
        "colab": {
          "base_uri": "https://localhost:8080/",
          "height": 626
        },
        "id": "S0XDc0kjaVB5",
        "outputId": "2fdaf2db-a0bb-428d-91b6-e6c1d694ced0"
      },
      "execution_count": 68,
      "outputs": [
        {
          "output_type": "execute_result",
          "data": {
            "text/plain": [
              "(array([330.,   0.,   0.,   0.,   0.,   0.,   0.,   0.,   0.,   0.,   0.,\n",
              "          0.,   0.,   0.,   0.,   0.,   0.,   0.,   0.,   0.,   0.,   0.,\n",
              "          0.,   1.,   0.,   0.,   1.,   1.,   1.,   0.,   0.,   0.,   0.,\n",
              "          9.,   0.,   0.,   0.,   1.,   6.,   0.,   0.,   0.,   0.,   0.,\n",
              "          0.,   0.,   0.,   0.,   0., 150.]),\n",
              " array([0.  , 0.02, 0.04, 0.06, 0.08, 0.1 , 0.12, 0.14, 0.16, 0.18, 0.2 ,\n",
              "        0.22, 0.24, 0.26, 0.28, 0.3 , 0.32, 0.34, 0.36, 0.38, 0.4 , 0.42,\n",
              "        0.44, 0.46, 0.48, 0.5 , 0.52, 0.54, 0.56, 0.58, 0.6 , 0.62, 0.64,\n",
              "        0.66, 0.68, 0.7 , 0.72, 0.74, 0.76, 0.78, 0.8 , 0.82, 0.84, 0.86,\n",
              "        0.88, 0.9 , 0.92, 0.94, 0.96, 0.98, 1.  ]),\n",
              " <BarContainer object of 50 artists>)"
            ]
          },
          "metadata": {},
          "execution_count": 68
        },
        {
          "output_type": "display_data",
          "data": {
            "text/plain": [
              "<Figure size 640x480 with 1 Axes>"
            ],
            "image/png": "[encoded data removed]"
          },
          "metadata": {}
        }
      ]
    },
    {
      "cell_type": "markdown",
      "source": [
        "it shows we get precise translation for about 75 phrases"
      ],
      "metadata": {
        "id": "tW4liz52bZ-b"
      }
    },
    {
      "cell_type": "code",
      "source": [
        "import numpy as np\n",
        "np.mean(scores)"
      ],
      "metadata": {
        "colab": {
          "base_uri": "https://localhost:8080/"
        },
        "id": "Isp5KtjKbito",
        "outputId": "2a5ca041-e6df-4415-a264-bd1bf966ba5f"
      },
      "execution_count": 69,
      "outputs": [
        {
          "output_type": "execute_result",
          "data": {
            "text/plain": [
              "0.3271812080138605"
            ]
          },
          "metadata": {},
          "execution_count": 69
        }
      ]
    },
    {
      "cell_type": "code",
      "source": [
        "np.random.seed(1)"
      ],
      "metadata": {
        "id": "8kZJMm-xfvXL"
      },
      "execution_count": 70,
      "outputs": []
    },
    {
      "cell_type": "code",
      "source": [
        "#this function print just smaples\n",
        "def print_random_translation():\n",
        "  i=np.random.choice(len(eng_phrases_subset))\n",
        "  eng=eng_phrases_subset[i]\n",
        "  print(\"EN: \", eng)\n",
        "\n",
        "  translation=translations[i]['translation_text']\n",
        "  print(\"ES Translation:\", translation)\n",
        "\n",
        "  matches=eng2spa[eng]\n",
        "  print(\"matches: \", matches)\n"
      ],
      "metadata": {
        "id": "XpUcyMzyf5Uu"
      },
      "execution_count": 73,
      "outputs": []
    },
    {
      "cell_type": "code",
      "source": [
        "print_random_translation()"
      ],
      "metadata": {
        "colab": {
          "base_uri": "https://localhost:8080/"
        },
        "id": "lDPMIf5ehtxx",
        "outputId": "625ef3a2-7067-4196-b212-efdec4105c80"
      },
      "execution_count": 74,
      "outputs": [
        {
          "output_type": "stream",
          "name": "stdout",
          "text": [
            "EN:  Where's the bus stop?\n",
            "ES Translation: ¿Dónde está la parada de autobús?\n",
            "matches:  ['¿Dónde está la parada del autobús?']\n"
          ]
        }
      ]
    },
    {
      "cell_type": "code",
      "source": [
        "print_random_translation()"
      ],
      "metadata": {
        "colab": {
          "base_uri": "https://localhost:8080/"
        },
        "id": "3JSjCwJIhxjQ",
        "outputId": "c93744a1-b46b-40e7-b80e-e5ec9aae6e94"
      },
      "execution_count": 75,
      "outputs": [
        {
          "output_type": "stream",
          "name": "stdout",
          "text": [
            "EN:  You seem unperturbed.\n",
            "ES Translation: Pareces inalterado.\n",
            "matches:  ['Pareces despreocupado.']\n"
          ]
        }
      ]
    },
    {
      "cell_type": "code",
      "source": [
        "print_random_translation()"
      ],
      "metadata": {
        "colab": {
          "base_uri": "https://localhost:8080/"
        },
        "id": "NTp55C2xiEAW",
        "outputId": "8b165a4d-5cdb-403c-9beb-977648ee4bb6"
      },
      "execution_count": 76,
      "outputs": [
        {
          "output_type": "stream",
          "name": "stdout",
          "text": [
            "EN:  Can I open the window?\n",
            "ES Translation: ¿Puedo abrir la ventana?\n",
            "matches:  ['¿Puedo abrir la ventana?']\n"
          ]
        }
      ]
    },
    {
      "cell_type": "code",
      "source": [
        "print_random_translation()"
      ],
      "metadata": {
        "colab": {
          "base_uri": "https://localhost:8080/"
        },
        "id": "H9w8qJ_QiHGe",
        "outputId": "021859b4-27dc-4afe-ebdf-499865e5545f"
      },
      "execution_count": 77,
      "outputs": [
        {
          "output_type": "stream",
          "name": "stdout",
          "text": [
            "EN:  Who runs things here?\n",
            "ES Translation: ¿Quién dirige las cosas aquí?\n",
            "matches:  ['¿Quién dirige las cosas aquí?']\n"
          ]
        }
      ]
    },
    {
      "cell_type": "code",
      "source": [
        "print_random_translation()"
      ],
      "metadata": {
        "colab": {
          "base_uri": "https://localhost:8080/"
        },
        "id": "1_kx5Bd6iJA6",
        "outputId": "100bb5f5-c0d3-4700-9bfa-456b047d8f02"
      },
      "execution_count": 78,
      "outputs": [
        {
          "output_type": "stream",
          "name": "stdout",
          "text": [
            "EN:  You'll figure it out.\n",
            "ES Translation: Lo averiguarás.\n",
            "matches:  ['Tú lo averiguarás.']\n"
          ]
        }
      ]
    }
  ]
}